{
 "cells": [
  {
   "cell_type": "markdown",
   "metadata": {
    "id": "ioQllDDHlLDQ"
   },
   "source": [
    "# Cross Validation With Multiple Algorithms\n",
    "\n",
    "\n",
    "We will use credit card default data from https://www.kaggle.com/datasets/uciml/default-of-credit-card-clients-dataset\n"
   ]
  },
  {
   "cell_type": "code",
   "execution_count": 1,
   "metadata": {
    "id": "hNNMaMAHk8pq"
   },
   "outputs": [],
   "source": [
    "import numpy as np\n",
    "import pandas as pd\n",
    "import matplotlib.pyplot as plt\n",
    "import seaborn as sns\n",
    "\n",
    "pd.options.display.float_format = '{:,.2f}'.format"
   ]
  },
  {
   "cell_type": "markdown",
   "metadata": {
    "id": "IVfT952YltQZ"
   },
   "source": [
    "## Step-1: Download Data"
   ]
  },
  {
   "cell_type": "code",
   "execution_count": 2,
   "metadata": {
    "colab": {
     "base_uri": "https://localhost:8080/"
    },
    "id": "Pq-p7ssilZdE",
    "outputId": "17404709-f1fe-4efc-d4c5-bfbc0c74874f"
   },
   "outputs": [
    {
     "name": "stdout",
     "output_type": "stream",
     "text": [
      "data_location: default.csv\n"
     ]
    }
   ],
   "source": [
    "import os\n",
    "import urllib.request\n",
    "\n",
    "data_url = 'https://raw.githubusercontent.com/elephantscale/datasets/master/credit-card-default/default.csv'\n",
    "data_location = os.path.basename(data_url)\n",
    "\n",
    "if not os.path.exists (data_location):\n",
    "    print(\"Downloading : \", data_url)\n",
    "    urllib.request.urlretrieve(data_url, data_location)\n",
    "print('data_location:', data_location)"
   ]
  },
  {
   "cell_type": "code",
   "execution_count": 3,
   "metadata": {
    "colab": {
     "base_uri": "https://localhost:8080/",
     "height": 456
    },
    "id": "gDYImJcJlyjl",
    "outputId": "60fe1924-9dca-4e93-b33b-ca981247759b"
   },
   "outputs": [
    {
     "data": {
      "text/html": [
       "<div>\n",
       "<style scoped>\n",
       "    .dataframe tbody tr th:only-of-type {\n",
       "        vertical-align: middle;\n",
       "    }\n",
       "\n",
       "    .dataframe tbody tr th {\n",
       "        vertical-align: top;\n",
       "    }\n",
       "\n",
       "    .dataframe thead th {\n",
       "        text-align: right;\n",
       "    }\n",
       "</style>\n",
       "<table border=\"1\" class=\"dataframe\">\n",
       "  <thead>\n",
       "    <tr style=\"text-align: right;\">\n",
       "      <th></th>\n",
       "      <th>ID</th>\n",
       "      <th>LIMIT_BAL</th>\n",
       "      <th>SEX</th>\n",
       "      <th>EDUCATION</th>\n",
       "      <th>MARRIAGE</th>\n",
       "      <th>AGE</th>\n",
       "      <th>PAY_0</th>\n",
       "      <th>PAY_2</th>\n",
       "      <th>PAY_3</th>\n",
       "      <th>PAY_4</th>\n",
       "      <th>...</th>\n",
       "      <th>BILL_AMT4</th>\n",
       "      <th>BILL_AMT5</th>\n",
       "      <th>BILL_AMT6</th>\n",
       "      <th>PAY_AMT1</th>\n",
       "      <th>PAY_AMT2</th>\n",
       "      <th>PAY_AMT3</th>\n",
       "      <th>PAY_AMT4</th>\n",
       "      <th>PAY_AMT5</th>\n",
       "      <th>PAY_AMT6</th>\n",
       "      <th>default</th>\n",
       "    </tr>\n",
       "  </thead>\n",
       "  <tbody>\n",
       "    <tr>\n",
       "      <th>17898</th>\n",
       "      <td>17899</td>\n",
       "      <td>10000</td>\n",
       "      <td>1</td>\n",
       "      <td>2</td>\n",
       "      <td>1</td>\n",
       "      <td>27</td>\n",
       "      <td>0</td>\n",
       "      <td>0</td>\n",
       "      <td>0</td>\n",
       "      <td>0</td>\n",
       "      <td>...</td>\n",
       "      <td>9818</td>\n",
       "      <td>10013</td>\n",
       "      <td>9824</td>\n",
       "      <td>1151</td>\n",
       "      <td>1160</td>\n",
       "      <td>1151</td>\n",
       "      <td>346</td>\n",
       "      <td>350</td>\n",
       "      <td>354</td>\n",
       "      <td>0</td>\n",
       "    </tr>\n",
       "    <tr>\n",
       "      <th>11817</th>\n",
       "      <td>11818</td>\n",
       "      <td>30000</td>\n",
       "      <td>2</td>\n",
       "      <td>2</td>\n",
       "      <td>1</td>\n",
       "      <td>23</td>\n",
       "      <td>2</td>\n",
       "      <td>2</td>\n",
       "      <td>2</td>\n",
       "      <td>2</td>\n",
       "      <td>...</td>\n",
       "      <td>30892</td>\n",
       "      <td>30500</td>\n",
       "      <td>0</td>\n",
       "      <td>3300</td>\n",
       "      <td>0</td>\n",
       "      <td>2500</td>\n",
       "      <td>0</td>\n",
       "      <td>0</td>\n",
       "      <td>0</td>\n",
       "      <td>0</td>\n",
       "    </tr>\n",
       "    <tr>\n",
       "      <th>29870</th>\n",
       "      <td>29871</td>\n",
       "      <td>10000</td>\n",
       "      <td>1</td>\n",
       "      <td>2</td>\n",
       "      <td>2</td>\n",
       "      <td>30</td>\n",
       "      <td>0</td>\n",
       "      <td>0</td>\n",
       "      <td>0</td>\n",
       "      <td>0</td>\n",
       "      <td>...</td>\n",
       "      <td>10105</td>\n",
       "      <td>9471</td>\n",
       "      <td>9669</td>\n",
       "      <td>1158</td>\n",
       "      <td>1210</td>\n",
       "      <td>1200</td>\n",
       "      <td>339</td>\n",
       "      <td>351</td>\n",
       "      <td>394</td>\n",
       "      <td>1</td>\n",
       "    </tr>\n",
       "    <tr>\n",
       "      <th>1799</th>\n",
       "      <td>1800</td>\n",
       "      <td>130000</td>\n",
       "      <td>1</td>\n",
       "      <td>3</td>\n",
       "      <td>2</td>\n",
       "      <td>28</td>\n",
       "      <td>0</td>\n",
       "      <td>0</td>\n",
       "      <td>0</td>\n",
       "      <td>0</td>\n",
       "      <td>...</td>\n",
       "      <td>132336</td>\n",
       "      <td>132614</td>\n",
       "      <td>132208</td>\n",
       "      <td>6900</td>\n",
       "      <td>7000</td>\n",
       "      <td>7000</td>\n",
       "      <td>6000</td>\n",
       "      <td>5500</td>\n",
       "      <td>6000</td>\n",
       "      <td>0</td>\n",
       "    </tr>\n",
       "    <tr>\n",
       "      <th>14500</th>\n",
       "      <td>14501</td>\n",
       "      <td>240000</td>\n",
       "      <td>2</td>\n",
       "      <td>2</td>\n",
       "      <td>1</td>\n",
       "      <td>29</td>\n",
       "      <td>0</td>\n",
       "      <td>0</td>\n",
       "      <td>2</td>\n",
       "      <td>2</td>\n",
       "      <td>...</td>\n",
       "      <td>219111</td>\n",
       "      <td>211373</td>\n",
       "      <td>211215</td>\n",
       "      <td>16500</td>\n",
       "      <td>0</td>\n",
       "      <td>16007</td>\n",
       "      <td>7</td>\n",
       "      <td>8229</td>\n",
       "      <td>7621</td>\n",
       "      <td>1</td>\n",
       "    </tr>\n",
       "    <tr>\n",
       "      <th>1068</th>\n",
       "      <td>1069</td>\n",
       "      <td>200000</td>\n",
       "      <td>1</td>\n",
       "      <td>1</td>\n",
       "      <td>2</td>\n",
       "      <td>40</td>\n",
       "      <td>-1</td>\n",
       "      <td>-1</td>\n",
       "      <td>-1</td>\n",
       "      <td>-1</td>\n",
       "      <td>...</td>\n",
       "      <td>22813</td>\n",
       "      <td>10526</td>\n",
       "      <td>326</td>\n",
       "      <td>1086</td>\n",
       "      <td>2775</td>\n",
       "      <td>22813</td>\n",
       "      <td>10526</td>\n",
       "      <td>326</td>\n",
       "      <td>573</td>\n",
       "      <td>0</td>\n",
       "    </tr>\n",
       "    <tr>\n",
       "      <th>1075</th>\n",
       "      <td>1076</td>\n",
       "      <td>100000</td>\n",
       "      <td>1</td>\n",
       "      <td>3</td>\n",
       "      <td>2</td>\n",
       "      <td>47</td>\n",
       "      <td>0</td>\n",
       "      <td>0</td>\n",
       "      <td>0</td>\n",
       "      <td>0</td>\n",
       "      <td>...</td>\n",
       "      <td>38500</td>\n",
       "      <td>4681</td>\n",
       "      <td>76728</td>\n",
       "      <td>3889</td>\n",
       "      <td>2412</td>\n",
       "      <td>1698</td>\n",
       "      <td>679</td>\n",
       "      <td>72809</td>\n",
       "      <td>2748</td>\n",
       "      <td>0</td>\n",
       "    </tr>\n",
       "    <tr>\n",
       "      <th>14688</th>\n",
       "      <td>14689</td>\n",
       "      <td>260000</td>\n",
       "      <td>1</td>\n",
       "      <td>2</td>\n",
       "      <td>2</td>\n",
       "      <td>31</td>\n",
       "      <td>0</td>\n",
       "      <td>0</td>\n",
       "      <td>-1</td>\n",
       "      <td>-1</td>\n",
       "      <td>...</td>\n",
       "      <td>16887</td>\n",
       "      <td>149104</td>\n",
       "      <td>127342</td>\n",
       "      <td>1743</td>\n",
       "      <td>24145</td>\n",
       "      <td>16900</td>\n",
       "      <td>150241</td>\n",
       "      <td>5285</td>\n",
       "      <td>942</td>\n",
       "      <td>0</td>\n",
       "    </tr>\n",
       "    <tr>\n",
       "      <th>17595</th>\n",
       "      <td>17596</td>\n",
       "      <td>290000</td>\n",
       "      <td>2</td>\n",
       "      <td>1</td>\n",
       "      <td>1</td>\n",
       "      <td>35</td>\n",
       "      <td>-2</td>\n",
       "      <td>-2</td>\n",
       "      <td>-2</td>\n",
       "      <td>-1</td>\n",
       "      <td>...</td>\n",
       "      <td>2262</td>\n",
       "      <td>5205</td>\n",
       "      <td>8114</td>\n",
       "      <td>0</td>\n",
       "      <td>0</td>\n",
       "      <td>2262</td>\n",
       "      <td>3000</td>\n",
       "      <td>3000</td>\n",
       "      <td>0</td>\n",
       "      <td>1</td>\n",
       "    </tr>\n",
       "    <tr>\n",
       "      <th>23949</th>\n",
       "      <td>23950</td>\n",
       "      <td>20000</td>\n",
       "      <td>1</td>\n",
       "      <td>3</td>\n",
       "      <td>2</td>\n",
       "      <td>24</td>\n",
       "      <td>1</td>\n",
       "      <td>3</td>\n",
       "      <td>2</td>\n",
       "      <td>0</td>\n",
       "      <td>...</td>\n",
       "      <td>14401</td>\n",
       "      <td>16257</td>\n",
       "      <td>15713</td>\n",
       "      <td>0</td>\n",
       "      <td>0</td>\n",
       "      <td>1300</td>\n",
       "      <td>2101</td>\n",
       "      <td>0</td>\n",
       "      <td>0</td>\n",
       "      <td>1</td>\n",
       "    </tr>\n",
       "  </tbody>\n",
       "</table>\n",
       "<p>10 rows × 25 columns</p>\n",
       "</div>"
      ],
      "text/plain": [
       "          ID  LIMIT_BAL  SEX  EDUCATION  MARRIAGE  AGE  PAY_0  PAY_2  PAY_3  \\\n",
       "17898  17899      10000    1          2         1   27      0      0      0   \n",
       "11817  11818      30000    2          2         1   23      2      2      2   \n",
       "29870  29871      10000    1          2         2   30      0      0      0   \n",
       "1799    1800     130000    1          3         2   28      0      0      0   \n",
       "14500  14501     240000    2          2         1   29      0      0      2   \n",
       "1068    1069     200000    1          1         2   40     -1     -1     -1   \n",
       "1075    1076     100000    1          3         2   47      0      0      0   \n",
       "14688  14689     260000    1          2         2   31      0      0     -1   \n",
       "17595  17596     290000    2          1         1   35     -2     -2     -2   \n",
       "23949  23950      20000    1          3         2   24      1      3      2   \n",
       "\n",
       "       PAY_4  ...  BILL_AMT4  BILL_AMT5  BILL_AMT6  PAY_AMT1  PAY_AMT2  \\\n",
       "17898      0  ...       9818      10013       9824      1151      1160   \n",
       "11817      2  ...      30892      30500          0      3300         0   \n",
       "29870      0  ...      10105       9471       9669      1158      1210   \n",
       "1799       0  ...     132336     132614     132208      6900      7000   \n",
       "14500      2  ...     219111     211373     211215     16500         0   \n",
       "1068      -1  ...      22813      10526        326      1086      2775   \n",
       "1075       0  ...      38500       4681      76728      3889      2412   \n",
       "14688     -1  ...      16887     149104     127342      1743     24145   \n",
       "17595     -1  ...       2262       5205       8114         0         0   \n",
       "23949      0  ...      14401      16257      15713         0         0   \n",
       "\n",
       "       PAY_AMT3  PAY_AMT4  PAY_AMT5  PAY_AMT6  default  \n",
       "17898      1151       346       350       354        0  \n",
       "11817      2500         0         0         0        0  \n",
       "29870      1200       339       351       394        1  \n",
       "1799       7000      6000      5500      6000        0  \n",
       "14500     16007         7      8229      7621        1  \n",
       "1068      22813     10526       326       573        0  \n",
       "1075       1698       679     72809      2748        0  \n",
       "14688     16900    150241      5285       942        0  \n",
       "17595      2262      3000      3000         0        1  \n",
       "23949      1300      2101         0         0        1  \n",
       "\n",
       "[10 rows x 25 columns]"
      ]
     },
     "execution_count": 3,
     "metadata": {},
     "output_type": "execute_result"
    }
   ],
   "source": [
    "data = pd.read_csv(data_location)\n",
    "data.sample(10)"
   ]
  },
  {
   "cell_type": "markdown",
   "metadata": {
    "id": "FLVjKutTmS7w"
   },
   "source": [
    "## Step-2: EDA"
   ]
  },
  {
   "cell_type": "code",
   "execution_count": 4,
   "metadata": {
    "colab": {
     "base_uri": "https://localhost:8080/"
    },
    "id": "awy4QJnenY3l",
    "outputId": "5a04b248-4c8d-4f4d-f0ef-8b03618808ed"
   },
   "outputs": [
    {
     "data": {
      "text/plain": [
       "0    23364\n",
       "1     6636\n",
       "Name: default, dtype: int64"
      ]
     },
     "execution_count": 4,
     "metadata": {},
     "output_type": "execute_result"
    }
   ],
   "source": [
    "## Check data skew\n",
    "data['default'].value_counts()"
   ]
  },
  {
   "cell_type": "code",
   "execution_count": 5,
   "metadata": {},
   "outputs": [
    {
     "data": {
      "text/plain": [
       "0   0.78\n",
       "1   0.22\n",
       "Name: default, dtype: float64"
      ]
     },
     "execution_count": 5,
     "metadata": {},
     "output_type": "execute_result"
    }
   ],
   "source": [
    "data['default'].value_counts(normalize=True)"
   ]
  },
  {
   "cell_type": "markdown",
   "metadata": {
    "id": "FUKVrI47sAZO"
   },
   "source": [
    "## Step-3: Clean up \n",
    "\n",
    "TODO"
   ]
  },
  {
   "cell_type": "markdown",
   "metadata": {
    "id": "F3x3Ur41sIKC"
   },
   "source": [
    "## Step-4: Shape data"
   ]
  },
  {
   "cell_type": "code",
   "execution_count": 6,
   "metadata": {
    "id": "C1QjYZz1r4l8"
   },
   "outputs": [],
   "source": [
    "label_col = 'default'\n",
    "\n",
    "feature_columns = data.columns\n",
    "## TODO : drop 'ID' and 'default' columns\n",
    "feature_columns = feature_columns.drop (['ID', 'default'])\n",
    "#print (feature_columns)"
   ]
  },
  {
   "cell_type": "code",
   "execution_count": 7,
   "metadata": {
    "colab": {
     "base_uri": "https://localhost:8080/"
    },
    "id": "9kCuOXtGsGd6",
    "outputId": "a2a50a50-f1c4-4ffe-ac06-31eb1b0bff1e"
   },
   "outputs": [
    {
     "name": "stdout",
     "output_type": "stream",
     "text": [
      "(30000, 23)\n",
      "(30000, 1)\n"
     ]
    }
   ],
   "source": [
    "X = data[feature_columns]\n",
    "y = data[[label_col]]\n",
    "\n",
    "print (X.shape)\n",
    "print (y.shape)"
   ]
  },
  {
   "cell_type": "markdown",
   "metadata": {},
   "source": [
    "## Step-5: Cross Validation"
   ]
  },
  {
   "cell_type": "code",
   "execution_count": 8,
   "metadata": {
    "colab": {
     "base_uri": "https://localhost:8080/"
    },
    "id": "qT7gRx7DtI6Q",
    "outputId": "47458822-76dc-4bbd-e04c-b84e08529801"
   },
   "outputs": [
    {
     "name": "stdout",
     "output_type": "stream",
     "text": [
      "\n",
      "=========  LR  =========\n",
      "{'fit_time': array([0.40724611, 0.39978719, 0.43680692, 0.41294122, 0.4767158 ]),\n",
      " 'score_time': array([0.00816727, 0.01385689, 0.00815272, 0.00764942, 0.00736785]),\n",
      " 'test_accuracy': array([0.7785    , 0.77883333, 0.77883333, 0.77866667, 0.77883333]),\n",
      " 'test_f1': array([0., 0., 0., 0., 0.]),\n",
      " 'test_precision': array([0., 0., 0., 0., 0.]),\n",
      " 'test_recall': array([0., 0., 0., 0., 0.]),\n",
      " 'test_roc_auc': array([0.6136779 , 0.6323223 , 0.66269859, 0.65994818, 0.6512671 ])}\n",
      "\n",
      "LR: accuracy : avg=0.78, median=0.78,  std=0.00,  cv_results=[0.7785     0.77883333 0.77883333 0.77866667 0.77883333]\n",
      "\n",
      "=========  KNN  =========\n",
      "{'fit_time': array([0.04030514, 0.008461  , 0.0224247 , 0.03671026, 0.02300477]),\n",
      " 'score_time': array([12.73745084, 12.66486311, 12.84233952, 12.56182599, 12.80649805]),\n",
      " 'test_accuracy': array([0.7495    , 0.74966667, 0.752     , 0.76133333, 0.763     ]),\n",
      " 'test_f1': array([0.23666836, 0.22816033, 0.26843658, 0.25726141, 0.24361702]),\n",
      " 'test_precision': array([0.36349454, 0.35864297, 0.38613861, 0.41264559, 0.41410488]),\n",
      " 'test_recall': array([0.17545181, 0.16729465, 0.2057272 , 0.18688772, 0.17256971]),\n",
      " 'test_roc_auc': array([0.60114755, 0.58668696, 0.60877677, 0.62490689, 0.61763637])}\n",
      "\n",
      "KNN: accuracy : avg=0.76, median=0.75,  std=0.01,  cv_results=[0.7495     0.74966667 0.752      0.76133333 0.763     ]\n",
      "\n",
      "=========  CART  =========\n",
      "{'fit_time': array([0.3339541 , 0.3364799 , 0.32806754, 0.33157849, 0.36673975]),\n",
      " 'score_time': array([0.01060724, 0.01026821, 0.00986362, 0.00978088, 0.01272488]),\n",
      " 'test_accuracy': array([0.71533333, 0.71516667, 0.72116667, 0.74116667, 0.73416667]),\n",
      " 'test_f1': array([0.38825215, 0.39116494, 0.41277641, 0.41726079, 0.40150094]),\n",
      " 'test_precision': array([0.37021858, 0.37094595, 0.38633377, 0.41554559, 0.39985052]),\n",
      " 'test_recall': array([0.40813253, 0.41371515, 0.44310475, 0.4189902 , 0.40316503]),\n",
      " 'test_roc_auc': array([0.60561735, 0.60705457, 0.62156053, 0.62563644, 0.61571969])}\n",
      "\n",
      "CART: accuracy : avg=0.73, median=0.72,  std=0.01,  cv_results=[0.71533333 0.71516667 0.72116667 0.74116667 0.73416667]\n",
      "\n",
      "=========  RF  =========\n",
      "{'fit_time': array([3.87276888, 3.9317708 , 3.77004814, 4.04980493, 3.93247819]),\n",
      " 'score_time': array([0.16797185, 0.17953658, 0.17409158, 0.16938138, 0.1746881 ]),\n",
      " 'test_accuracy': array([0.80466667, 0.80583333, 0.8155    , 0.826     , 0.822     ]),\n",
      " 'test_f1': array([0.43599615, 0.45021236, 0.4863109 , 0.49172347, 0.47492625]),\n",
      " 'test_precision': array([0.604     , 0.60227273, 0.63285024, 0.69463549, 0.68316832]),\n",
      " 'test_recall': array([0.34111446, 0.35945742, 0.39487566, 0.38055765, 0.3639789 ]),\n",
      " 'test_roc_auc': array([0.74267506, 0.73836149, 0.77515013, 0.78369075, 0.77091094])}\n",
      "\n",
      "RF: accuracy : avg=0.81, median=0.82,  std=0.01,  cv_results=[0.80466667 0.80583333 0.8155     0.826      0.822     ]\n",
      "\n",
      "=========  GB  =========\n",
      "{'fit_time': array([5.3807869 , 5.56556153, 5.42841291, 5.46539092, 5.40580297]),\n",
      " 'score_time': array([0.01756215, 0.01779389, 0.01774335, 0.01759601, 0.01712966]),\n",
      " 'test_accuracy': array([0.807     , 0.80966667, 0.824     , 0.8345    , 0.826     ]),\n",
      " 'test_f1': array([0.43123772, 0.44616877, 0.50141643, 0.51059635, 0.47058824]),\n",
      " 'test_precision': array([0.6200565 , 0.62585034, 0.67130215, 0.73789174, 0.71937984]),\n",
      " 'test_recall': array([0.33057229, 0.34664657, 0.40015072, 0.39035418, 0.34966089]),\n",
      " 'test_roc_auc': array([0.75665623, 0.75359385, 0.79007505, 0.79860955, 0.79926218])}\n",
      "\n",
      "GB: accuracy : avg=0.82, median=0.82,  std=0.01,  cv_results=[0.807      0.80966667 0.824      0.8345     0.826     ]\n",
      "\n",
      "=========  SVM  =========\n",
      "{'fit_time': array([19.29523373, 21.21813726, 18.98760939, 18.97970366, 21.73572969]),\n",
      " 'score_time': array([5.90221214, 5.41265059, 5.14852023, 5.30461693, 4.88235307]),\n",
      " 'test_accuracy': array([0.77866667, 0.77883333, 0.77883333, 0.77883333, 0.77883333]),\n",
      " 'test_f1': array([0., 0., 0., 0., 0.]),\n",
      " 'test_precision': array([0., 0., 0., 0., 0.]),\n",
      " 'test_recall': array([0., 0., 0., 0., 0.]),\n",
      " 'test_roc_auc': array([0.55623962, 0.56348532, 0.54311699, 0.59259175, 0.52557719])}\n",
      "\n",
      "SVM: accuracy : avg=0.78, median=0.78,  std=0.00,  cv_results=[0.77866667 0.77883333 0.77883333 0.77883333 0.77883333]\n"
     ]
    }
   ],
   "source": [
    "from sklearn.linear_model import LogisticRegression\n",
    "from sklearn.tree import DecisionTreeClassifier\n",
    "from sklearn.neighbors import KNeighborsClassifier\n",
    "from sklearn.svm import SVC\n",
    "from sklearn.naive_bayes import GaussianNB\n",
    "from sklearn.ensemble import RandomForestClassifier\n",
    "from sklearn.ensemble import GradientBoostingClassifier\n",
    "import numpy as np\n",
    "from sklearn.model_selection import KFold\n",
    "from sklearn.model_selection import cross_val_score\n",
    "from sklearn.model_selection import cross_validate\n",
    "from pprint import pprint\n",
    "\n",
    "## Choose algorithms, we want to compare\n",
    "## TODO: Here are we are choosing 'default' algorithm\n",
    "## What if we choose the 'best of' for each algorithm\n",
    "## See 'hyper-1' notebook for how to get the best algorithm :-) \n",
    "\n",
    "algorithms = []\n",
    "algorithms.append(('LR', LogisticRegression(max_iter=500)))\n",
    "algorithms.append(('KNN', KNeighborsClassifier()))\n",
    "algorithms.append(('CART', DecisionTreeClassifier()))\n",
    "algorithms.append(('RF', RandomForestClassifier()))\n",
    "algorithms.append(('GB', GradientBoostingClassifier()))\n",
    "algorithms.append(('SVM', SVC()))\n",
    "#algorithms.append(('NB', GaussianNB()))\n",
    "\n",
    "\n",
    "results = []\n",
    "names = []\n",
    "## for classification tasks\n",
    "scoring_metrics = ['accuracy', 'precision', 'recall', 'f1', 'roc_auc']\n",
    "## for regression tasks\n",
    "#scoring_metrics = ['r2', 'rmse']\n",
    "y2 = np.ravel(y)\n",
    "for name, algo in algorithms:\n",
    "    print ('\\n========= ', name , ' =========')\n",
    "    kfold = KFold(n_splits=10)\n",
    "    \n",
    "    ## cv can be int or kfold\n",
    "    cv_results = cross_validate(algo, X, y2, cv=5, scoring=scoring_metrics, n_jobs=-1)\n",
    "    pprint (cv_results)\n",
    "    # cv_results = cross_val_score(algo, X, y, cv=kfold, scoring=scoring_metric)\n",
    "    this_result = cv_results['test_accuracy']\n",
    "    results.append(this_result)\n",
    "    names.append(name)\n",
    "    print(\"\\n{}: accuracy : avg={:,.2f}, median={:,.2f},  std={:,.2f},  cv_results={}\".format (\n",
    "        name, np.mean(this_result), np.median(this_result), np.std(this_result), this_result))\n"
   ]
  },
  {
   "cell_type": "markdown",
   "metadata": {},
   "source": [
    "## Step-6: Vizualize Results"
   ]
  },
  {
   "cell_type": "code",
   "execution_count": 9,
   "metadata": {},
   "outputs": [
    {
     "data": {
      "image/png": "[encoded data removed]",
      "text/plain": [
       "<Figure size 1000x600 with 1 Axes>"
      ]
     },
     "metadata": {},
     "output_type": "display_data"
    }
   ],
   "source": [
    "import matplotlib.pyplot as plt\n",
    "import seaborn as sns\n",
    "\n",
    "plt.figure(figsize = (10,6))\n",
    "\n",
    "# boxplot algorithm comparison\n",
    "ax = sns.boxplot(data=results)\n",
    "ax.set_title('Algorithm Comparison')\n",
    "ax.set_xticklabels(names)\n",
    "ax.set_ylabel('accuracy')\n",
    "plt.show()"
   ]
  },
  {
   "cell_type": "code",
   "execution_count": null,
   "metadata": {},
   "outputs": [],
   "source": []
  }
 ],
 "metadata": {
  "colab": {
   "collapsed_sections": [],
   "name": "classification-1-credit-card-default.ipynb",
   "provenance": []
  },
  "kernelspec": {
   "display_name": "Python 3 (ipykernel)",
   "language": "python",
   "name": "python3"
  },
  "language_info": {
   "codemirror_mode": {
    "name": "ipython",
    "version": 3
   },
   "file_extension": ".py",
   "mimetype": "text/x-python",
   "name": "python",
   "nbconvert_exporter": "python",
   "pygments_lexer": "ipython3",
   "version": "3.8.16"
  }
 },
 "nbformat": 4,
 "nbformat_minor": 4
}
