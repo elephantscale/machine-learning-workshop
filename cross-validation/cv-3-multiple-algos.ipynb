{
 "cells": [
  {
   "cell_type": "markdown",
   "metadata": {
    "id": "ioQllDDHlLDQ"
   },
   "source": [
    "# Cross Validation With Multiple Algorithms\n",
    "\n",
    "\n",
    "We will use credit card default data from https://www.kaggle.com/datasets/uciml/default-of-credit-card-clients-dataset\n"
   ]
  },
  {
   "cell_type": "code",
   "execution_count": 1,
   "metadata": {
    "id": "hNNMaMAHk8pq"
   },
   "outputs": [],
   "source": [
    "import numpy as np\n",
    "import pandas as pd\n",
    "import matplotlib.pyplot as plt\n",
    "import seaborn as sns\n",
    "\n",
    "pd.options.display.float_format = '{:,.2f}'.format"
   ]
  },
  {
   "cell_type": "markdown",
   "metadata": {
    "id": "IVfT952YltQZ"
   },
   "source": [
    "## Step-1: Download Data"
   ]
  },
  {
   "cell_type": "code",
   "execution_count": 2,
   "metadata": {
    "colab": {
     "base_uri": "https://localhost:8080/"
    },
    "id": "Pq-p7ssilZdE",
    "outputId": "17404709-f1fe-4efc-d4c5-bfbc0c74874f"
   },
   "outputs": [
    {
     "name": "stdout",
     "output_type": "stream",
     "text": [
      "data_location: default.csv\n"
     ]
    }
   ],
   "source": [
    "import os\n",
    "import urllib.request\n",
    "\n",
    "data_url = 'https://raw.githubusercontent.com/elephantscale/datasets/master/credit-card-default/default.csv'\n",
    "data_location = os.path.basename(data_url)\n",
    "\n",
    "if not os.path.exists (data_location):\n",
    "    print(\"Downloading : \", data_url)\n",
    "    urllib.request.urlretrieve(data_url, data_location)\n",
    "print('data_location:', data_location)"
   ]
  },
  {
   "cell_type": "code",
   "execution_count": 3,
   "metadata": {
    "colab": {
     "base_uri": "https://localhost:8080/",
     "height": 456
    },
    "id": "gDYImJcJlyjl",
    "outputId": "60fe1924-9dca-4e93-b33b-ca981247759b"
   },
   "outputs": [
    {
     "data": {
      "text/html": [
       "<div>\n",
       "<style scoped>\n",
       "    .dataframe tbody tr th:only-of-type {\n",
       "        vertical-align: middle;\n",
       "    }\n",
       "\n",
       "    .dataframe tbody tr th {\n",
       "        vertical-align: top;\n",
       "    }\n",
       "\n",
       "    .dataframe thead th {\n",
       "        text-align: right;\n",
       "    }\n",
       "</style>\n",
       "<table border=\"1\" class=\"dataframe\">\n",
       "  <thead>\n",
       "    <tr style=\"text-align: right;\">\n",
       "      <th></th>\n",
       "      <th>ID</th>\n",
       "      <th>LIMIT_BAL</th>\n",
       "      <th>SEX</th>\n",
       "      <th>EDUCATION</th>\n",
       "      <th>MARRIAGE</th>\n",
       "      <th>AGE</th>\n",
       "      <th>PAY_0</th>\n",
       "      <th>PAY_2</th>\n",
       "      <th>PAY_3</th>\n",
       "      <th>PAY_4</th>\n",
       "      <th>...</th>\n",
       "      <th>BILL_AMT4</th>\n",
       "      <th>BILL_AMT5</th>\n",
       "      <th>BILL_AMT6</th>\n",
       "      <th>PAY_AMT1</th>\n",
       "      <th>PAY_AMT2</th>\n",
       "      <th>PAY_AMT3</th>\n",
       "      <th>PAY_AMT4</th>\n",
       "      <th>PAY_AMT5</th>\n",
       "      <th>PAY_AMT6</th>\n",
       "      <th>default</th>\n",
       "    </tr>\n",
       "  </thead>\n",
       "  <tbody>\n",
       "    <tr>\n",
       "      <th>1262</th>\n",
       "      <td>1263</td>\n",
       "      <td>50000</td>\n",
       "      <td>1</td>\n",
       "      <td>2</td>\n",
       "      <td>1</td>\n",
       "      <td>44</td>\n",
       "      <td>0</td>\n",
       "      <td>0</td>\n",
       "      <td>0</td>\n",
       "      <td>0</td>\n",
       "      <td>...</td>\n",
       "      <td>26275</td>\n",
       "      <td>26823</td>\n",
       "      <td>27371</td>\n",
       "      <td>1524</td>\n",
       "      <td>1427</td>\n",
       "      <td>941</td>\n",
       "      <td>972</td>\n",
       "      <td>992</td>\n",
       "      <td>1000</td>\n",
       "      <td>0</td>\n",
       "    </tr>\n",
       "    <tr>\n",
       "      <th>22189</th>\n",
       "      <td>22190</td>\n",
       "      <td>200000</td>\n",
       "      <td>2</td>\n",
       "      <td>3</td>\n",
       "      <td>1</td>\n",
       "      <td>29</td>\n",
       "      <td>0</td>\n",
       "      <td>0</td>\n",
       "      <td>0</td>\n",
       "      <td>0</td>\n",
       "      <td>...</td>\n",
       "      <td>195609</td>\n",
       "      <td>131981</td>\n",
       "      <td>131294</td>\n",
       "      <td>7464</td>\n",
       "      <td>7889</td>\n",
       "      <td>6600</td>\n",
       "      <td>4602</td>\n",
       "      <td>4900</td>\n",
       "      <td>4726</td>\n",
       "      <td>0</td>\n",
       "    </tr>\n",
       "    <tr>\n",
       "      <th>9805</th>\n",
       "      <td>9806</td>\n",
       "      <td>180000</td>\n",
       "      <td>2</td>\n",
       "      <td>2</td>\n",
       "      <td>1</td>\n",
       "      <td>35</td>\n",
       "      <td>0</td>\n",
       "      <td>0</td>\n",
       "      <td>0</td>\n",
       "      <td>0</td>\n",
       "      <td>...</td>\n",
       "      <td>6759</td>\n",
       "      <td>6918</td>\n",
       "      <td>9777</td>\n",
       "      <td>1500</td>\n",
       "      <td>2000</td>\n",
       "      <td>1000</td>\n",
       "      <td>3000</td>\n",
       "      <td>4000</td>\n",
       "      <td>2000</td>\n",
       "      <td>0</td>\n",
       "    </tr>\n",
       "    <tr>\n",
       "      <th>9432</th>\n",
       "      <td>9433</td>\n",
       "      <td>400000</td>\n",
       "      <td>2</td>\n",
       "      <td>1</td>\n",
       "      <td>1</td>\n",
       "      <td>32</td>\n",
       "      <td>-2</td>\n",
       "      <td>-2</td>\n",
       "      <td>-2</td>\n",
       "      <td>-2</td>\n",
       "      <td>...</td>\n",
       "      <td>0</td>\n",
       "      <td>644</td>\n",
       "      <td>636</td>\n",
       "      <td>587</td>\n",
       "      <td>2651</td>\n",
       "      <td>0</td>\n",
       "      <td>644</td>\n",
       "      <td>636</td>\n",
       "      <td>572</td>\n",
       "      <td>0</td>\n",
       "    </tr>\n",
       "    <tr>\n",
       "      <th>25737</th>\n",
       "      <td>25738</td>\n",
       "      <td>60000</td>\n",
       "      <td>2</td>\n",
       "      <td>2</td>\n",
       "      <td>1</td>\n",
       "      <td>29</td>\n",
       "      <td>-1</td>\n",
       "      <td>-1</td>\n",
       "      <td>-1</td>\n",
       "      <td>-1</td>\n",
       "      <td>...</td>\n",
       "      <td>3742</td>\n",
       "      <td>3352</td>\n",
       "      <td>3570</td>\n",
       "      <td>2081</td>\n",
       "      <td>26</td>\n",
       "      <td>4822</td>\n",
       "      <td>3352</td>\n",
       "      <td>3570</td>\n",
       "      <td>1799</td>\n",
       "      <td>0</td>\n",
       "    </tr>\n",
       "    <tr>\n",
       "      <th>15896</th>\n",
       "      <td>15897</td>\n",
       "      <td>20000</td>\n",
       "      <td>2</td>\n",
       "      <td>2</td>\n",
       "      <td>2</td>\n",
       "      <td>25</td>\n",
       "      <td>0</td>\n",
       "      <td>0</td>\n",
       "      <td>0</td>\n",
       "      <td>0</td>\n",
       "      <td>...</td>\n",
       "      <td>10485</td>\n",
       "      <td>10700</td>\n",
       "      <td>10922</td>\n",
       "      <td>1144</td>\n",
       "      <td>1189</td>\n",
       "      <td>1053</td>\n",
       "      <td>268</td>\n",
       "      <td>277</td>\n",
       "      <td>358</td>\n",
       "      <td>1</td>\n",
       "    </tr>\n",
       "    <tr>\n",
       "      <th>18418</th>\n",
       "      <td>18419</td>\n",
       "      <td>160000</td>\n",
       "      <td>2</td>\n",
       "      <td>2</td>\n",
       "      <td>2</td>\n",
       "      <td>24</td>\n",
       "      <td>0</td>\n",
       "      <td>0</td>\n",
       "      <td>0</td>\n",
       "      <td>0</td>\n",
       "      <td>...</td>\n",
       "      <td>26514</td>\n",
       "      <td>17602</td>\n",
       "      <td>9308</td>\n",
       "      <td>3010</td>\n",
       "      <td>3000</td>\n",
       "      <td>2000</td>\n",
       "      <td>1000</td>\n",
       "      <td>2000</td>\n",
       "      <td>0</td>\n",
       "      <td>0</td>\n",
       "    </tr>\n",
       "    <tr>\n",
       "      <th>6465</th>\n",
       "      <td>6466</td>\n",
       "      <td>330000</td>\n",
       "      <td>2</td>\n",
       "      <td>1</td>\n",
       "      <td>2</td>\n",
       "      <td>34</td>\n",
       "      <td>0</td>\n",
       "      <td>0</td>\n",
       "      <td>0</td>\n",
       "      <td>0</td>\n",
       "      <td>...</td>\n",
       "      <td>227974</td>\n",
       "      <td>185431</td>\n",
       "      <td>107493</td>\n",
       "      <td>15000</td>\n",
       "      <td>10008</td>\n",
       "      <td>10000</td>\n",
       "      <td>20000</td>\n",
       "      <td>25000</td>\n",
       "      <td>3500</td>\n",
       "      <td>0</td>\n",
       "    </tr>\n",
       "    <tr>\n",
       "      <th>5972</th>\n",
       "      <td>5973</td>\n",
       "      <td>80000</td>\n",
       "      <td>1</td>\n",
       "      <td>1</td>\n",
       "      <td>2</td>\n",
       "      <td>26</td>\n",
       "      <td>0</td>\n",
       "      <td>0</td>\n",
       "      <td>0</td>\n",
       "      <td>0</td>\n",
       "      <td>...</td>\n",
       "      <td>49640</td>\n",
       "      <td>49685</td>\n",
       "      <td>46684</td>\n",
       "      <td>3515</td>\n",
       "      <td>2627</td>\n",
       "      <td>1697</td>\n",
       "      <td>2000</td>\n",
       "      <td>1700</td>\n",
       "      <td>3000</td>\n",
       "      <td>1</td>\n",
       "    </tr>\n",
       "    <tr>\n",
       "      <th>3514</th>\n",
       "      <td>3515</td>\n",
       "      <td>290000</td>\n",
       "      <td>2</td>\n",
       "      <td>2</td>\n",
       "      <td>2</td>\n",
       "      <td>25</td>\n",
       "      <td>0</td>\n",
       "      <td>0</td>\n",
       "      <td>0</td>\n",
       "      <td>0</td>\n",
       "      <td>...</td>\n",
       "      <td>61578</td>\n",
       "      <td>59274</td>\n",
       "      <td>61314</td>\n",
       "      <td>2500</td>\n",
       "      <td>3000</td>\n",
       "      <td>3000</td>\n",
       "      <td>3000</td>\n",
       "      <td>3000</td>\n",
       "      <td>3000</td>\n",
       "      <td>0</td>\n",
       "    </tr>\n",
       "  </tbody>\n",
       "</table>\n",
       "<p>10 rows × 25 columns</p>\n",
       "</div>"
      ],
      "text/plain": [
       "          ID  LIMIT_BAL  SEX  EDUCATION  MARRIAGE  AGE  PAY_0  PAY_2  PAY_3  \\\n",
       "1262    1263      50000    1          2         1   44      0      0      0   \n",
       "22189  22190     200000    2          3         1   29      0      0      0   \n",
       "9805    9806     180000    2          2         1   35      0      0      0   \n",
       "9432    9433     400000    2          1         1   32     -2     -2     -2   \n",
       "25737  25738      60000    2          2         1   29     -1     -1     -1   \n",
       "15896  15897      20000    2          2         2   25      0      0      0   \n",
       "18418  18419     160000    2          2         2   24      0      0      0   \n",
       "6465    6466     330000    2          1         2   34      0      0      0   \n",
       "5972    5973      80000    1          1         2   26      0      0      0   \n",
       "3514    3515     290000    2          2         2   25      0      0      0   \n",
       "\n",
       "       PAY_4  ...  BILL_AMT4  BILL_AMT5  BILL_AMT6  PAY_AMT1  PAY_AMT2  \\\n",
       "1262       0  ...      26275      26823      27371      1524      1427   \n",
       "22189      0  ...     195609     131981     131294      7464      7889   \n",
       "9805       0  ...       6759       6918       9777      1500      2000   \n",
       "9432      -2  ...          0        644        636       587      2651   \n",
       "25737     -1  ...       3742       3352       3570      2081        26   \n",
       "15896      0  ...      10485      10700      10922      1144      1189   \n",
       "18418      0  ...      26514      17602       9308      3010      3000   \n",
       "6465       0  ...     227974     185431     107493     15000     10008   \n",
       "5972       0  ...      49640      49685      46684      3515      2627   \n",
       "3514       0  ...      61578      59274      61314      2500      3000   \n",
       "\n",
       "       PAY_AMT3  PAY_AMT4  PAY_AMT5  PAY_AMT6  default  \n",
       "1262        941       972       992      1000        0  \n",
       "22189      6600      4602      4900      4726        0  \n",
       "9805       1000      3000      4000      2000        0  \n",
       "9432          0       644       636       572        0  \n",
       "25737      4822      3352      3570      1799        0  \n",
       "15896      1053       268       277       358        1  \n",
       "18418      2000      1000      2000         0        0  \n",
       "6465      10000     20000     25000      3500        0  \n",
       "5972       1697      2000      1700      3000        1  \n",
       "3514       3000      3000      3000      3000        0  \n",
       "\n",
       "[10 rows x 25 columns]"
      ]
     },
     "execution_count": 3,
     "metadata": {},
     "output_type": "execute_result"
    }
   ],
   "source": [
    "data = pd.read_csv(data_location)\n",
    "data.sample(10)"
   ]
  },
  {
   "cell_type": "markdown",
   "metadata": {
    "id": "FLVjKutTmS7w"
   },
   "source": [
    "## Step-2: EDA"
   ]
  },
  {
   "cell_type": "code",
   "execution_count": 4,
   "metadata": {
    "colab": {
     "base_uri": "https://localhost:8080/"
    },
    "id": "awy4QJnenY3l",
    "outputId": "5a04b248-4c8d-4f4d-f0ef-8b03618808ed"
   },
   "outputs": [
    {
     "data": {
      "text/plain": [
       "0    23364\n",
       "1     6636\n",
       "Name: default, dtype: int64"
      ]
     },
     "execution_count": 4,
     "metadata": {},
     "output_type": "execute_result"
    }
   ],
   "source": [
    "## Check data skew\n",
    "data['default'].value_counts()"
   ]
  },
  {
   "cell_type": "code",
   "execution_count": 5,
   "metadata": {},
   "outputs": [
    {
     "data": {
      "text/plain": [
       "0   0.78\n",
       "1   0.22\n",
       "Name: default, dtype: float64"
      ]
     },
     "execution_count": 5,
     "metadata": {},
     "output_type": "execute_result"
    }
   ],
   "source": [
    "data['default'].value_counts(normalize=True)"
   ]
  },
  {
   "cell_type": "markdown",
   "metadata": {
    "id": "FUKVrI47sAZO"
   },
   "source": [
    "## Step-3: Clean up \n",
    "\n",
    "TODO"
   ]
  },
  {
   "cell_type": "markdown",
   "metadata": {
    "id": "F3x3Ur41sIKC"
   },
   "source": [
    "## Step-4: Shape data"
   ]
  },
  {
   "cell_type": "code",
   "execution_count": 6,
   "metadata": {
    "id": "C1QjYZz1r4l8"
   },
   "outputs": [],
   "source": [
    "label_col = 'default'\n",
    "\n",
    "feature_columns = data.columns\n",
    "## TODO : drop 'ID' and 'default' columns\n",
    "feature_columns = feature_columns.drop (['ID', 'default'])\n",
    "#print (feature_columns)"
   ]
  },
  {
   "cell_type": "code",
   "execution_count": 7,
   "metadata": {
    "colab": {
     "base_uri": "https://localhost:8080/"
    },
    "id": "9kCuOXtGsGd6",
    "outputId": "a2a50a50-f1c4-4ffe-ac06-31eb1b0bff1e"
   },
   "outputs": [
    {
     "name": "stdout",
     "output_type": "stream",
     "text": [
      "(30000, 23)\n",
      "(30000, 1)\n"
     ]
    }
   ],
   "source": [
    "X = data[feature_columns]\n",
    "y = data[[label_col]]\n",
    "\n",
    "print (X.shape)\n",
    "print (y.shape)"
   ]
  },
  {
   "cell_type": "markdown",
   "metadata": {},
   "source": [
    "## Step-5: Cross Validation"
   ]
  },
  {
   "cell_type": "code",
   "execution_count": 8,
   "metadata": {
    "colab": {
     "base_uri": "https://localhost:8080/"
    },
    "id": "qT7gRx7DtI6Q",
    "outputId": "47458822-76dc-4bbd-e04c-b84e08529801"
   },
   "outputs": [
    {
     "name": "stdout",
     "output_type": "stream",
     "text": [
      "\n",
      "=========  LR  =========\n",
      "{'fit_time': array([0.40571356, 0.42471552, 0.45415235, 0.41261244, 0.43180943]),\n",
      " 'score_time': array([0.00912404, 0.00955343, 0.00823212, 0.00928569, 0.00906277]),\n",
      " 'test_accuracy': array([0.7785    , 0.77883333, 0.77883333, 0.77866667, 0.77883333]),\n",
      " 'test_f1': array([0., 0., 0., 0., 0.]),\n",
      " 'test_precision': array([0., 0., 0., 0., 0.]),\n",
      " 'test_recall': array([0., 0., 0., 0., 0.]),\n",
      " 'test_roc_auc': array([0.6136779 , 0.6323223 , 0.66269859, 0.65994818, 0.6512671 ])}\n",
      "\n",
      "LR: accuracy : avg=0.78, median=0.78,  std=0.00,  cv_results=[0.7785     0.77883333 0.77883333 0.77866667 0.77883333]\n",
      "\n",
      "=========  KNN  =========\n",
      "{'fit_time': array([0.00712299, 0.00670266, 0.00606132, 0.00481582, 0.0047884 ]),\n",
      " 'score_time': array([10.33922577, 10.52525163, 10.46210122, 10.51937461,  9.83476567]),\n",
      " 'test_accuracy': array([0.7495    , 0.74966667, 0.752     , 0.76133333, 0.763     ]),\n",
      " 'test_f1': array([0.23666836, 0.22816033, 0.26843658, 0.25726141, 0.24361702]),\n",
      " 'test_precision': array([0.36349454, 0.35864297, 0.38613861, 0.41264559, 0.41410488]),\n",
      " 'test_recall': array([0.17545181, 0.16729465, 0.2057272 , 0.18688772, 0.17256971]),\n",
      " 'test_roc_auc': array([0.60114755, 0.58668696, 0.60877677, 0.62490689, 0.61763637])}\n",
      "\n",
      "KNN: accuracy : avg=0.76, median=0.75,  std=0.01,  cv_results=[0.7495     0.74966667 0.752      0.76133333 0.763     ]\n",
      "\n",
      "=========  CART  =========\n",
      "{'fit_time': array([0.33830428, 0.3604207 , 0.33491635, 0.34701729, 0.31633043]),\n",
      " 'score_time': array([0.01109934, 0.01117778, 0.01060796, 0.0108676 , 0.009938  ]),\n",
      " 'test_accuracy': array([0.71183333, 0.72      , 0.7225    , 0.7345    , 0.73183333]),\n",
      " 'test_f1': array([0.3840399 , 0.39957112, 0.40810523, 0.41196013, 0.38983694]),\n",
      " 'test_precision': array([0.36443543, 0.3800136 , 0.38627187, 0.40376266, 0.39236641]),\n",
      " 'test_recall': array([0.40587349, 0.42125094, 0.43255463, 0.42049736, 0.38733986]),\n",
      " 'test_roc_auc': array([0.60285746, 0.61285784, 0.61833093, 0.62195861, 0.60861551])}\n",
      "\n",
      "CART: accuracy : avg=0.72, median=0.72,  std=0.01,  cv_results=[0.71183333 0.72       0.7225     0.7345     0.73183333]\n",
      "\n",
      "=========  RF  =========\n",
      "{'fit_time': array([3.88331294, 3.99093556, 3.95859146, 4.11322689, 3.84848928]),\n",
      " 'score_time': array([0.18141937, 0.18098211, 0.18488908, 0.17819476, 0.1783576 ]),\n",
      " 'test_accuracy': array([0.80516667, 0.80716667, 0.8175    , 0.82683333, 0.82283333]),\n",
      " 'test_f1': array([0.44040211, 0.45295508, 0.49562414, 0.48943489, 0.47661251]),\n",
      " 'test_precision': array([0.60446781, 0.60786802, 0.63744076, 0.70338983, 0.6875    ]),\n",
      " 'test_recall': array([0.34638554, 0.36096458, 0.40542577, 0.37528259, 0.36473248]),\n",
      " 'test_roc_auc': array([0.74446555, 0.73978366, 0.77392905, 0.7849511 , 0.77729121])}\n",
      "\n",
      "RF: accuracy : avg=0.82, median=0.82,  std=0.01,  cv_results=[0.80516667 0.80716667 0.8175     0.82683333 0.82283333]\n",
      "\n",
      "=========  GB  =========\n",
      "{'fit_time': array([5.47495294, 5.46929383, 5.42840147, 5.52841043, 5.41187477]),\n",
      " 'score_time': array([0.0186255 , 0.01849484, 0.0187428 , 0.01754737, 0.01756763]),\n",
      " 'test_accuracy': array([0.807     , 0.80933333, 0.824     , 0.8345    , 0.826     ]),\n",
      " 'test_f1': array([0.43123772, 0.44519884, 0.50141643, 0.51059635, 0.47058824]),\n",
      " 'test_precision': array([0.6200565 , 0.6244898 , 0.67130215, 0.73789174, 0.71937984]),\n",
      " 'test_recall': array([0.33057229, 0.34589299, 0.40015072, 0.39035418, 0.34966089]),\n",
      " 'test_roc_auc': array([0.75666928, 0.75362466, 0.7900865 , 0.79860955, 0.79924105])}\n",
      "\n",
      "GB: accuracy : avg=0.82, median=0.82,  std=0.01,  cv_results=[0.807      0.80933333 0.824      0.8345     0.826     ]\n",
      "\n",
      "=========  SVM  =========\n",
      "{'fit_time': array([20.67343044, 20.62346721, 20.10022378, 20.70311689, 20.63483286]),\n",
      " 'score_time': array([5.01157951, 5.2247479 , 5.09258151, 5.18215656, 5.03840327]),\n",
      " 'test_accuracy': array([0.77866667, 0.77883333, 0.77883333, 0.77883333, 0.77883333]),\n",
      " 'test_f1': array([0., 0., 0., 0., 0.]),\n",
      " 'test_precision': array([0., 0., 0., 0., 0.]),\n",
      " 'test_recall': array([0., 0., 0., 0., 0.]),\n",
      " 'test_roc_auc': array([0.55623962, 0.56348532, 0.54311699, 0.59259175, 0.52557719])}\n",
      "\n",
      "SVM: accuracy : avg=0.78, median=0.78,  std=0.00,  cv_results=[0.77866667 0.77883333 0.77883333 0.77883333 0.77883333]\n"
     ]
    }
   ],
   "source": [
    "from sklearn.linear_model import LogisticRegression\n",
    "from sklearn.tree import DecisionTreeClassifier\n",
    "from sklearn.neighbors import KNeighborsClassifier\n",
    "from sklearn.svm import SVC\n",
    "from sklearn.naive_bayes import GaussianNB\n",
    "from sklearn.ensemble import RandomForestClassifier\n",
    "from sklearn.ensemble import GradientBoostingClassifier\n",
    "import numpy as np\n",
    "from sklearn.model_selection import KFold\n",
    "from sklearn.model_selection import cross_val_score\n",
    "from sklearn.model_selection import cross_validate\n",
    "from pprint import pprint\n",
    "\n",
    "## Choose models, we want to compare\n",
    "## TODO: Here are we are choosing 'default' models\n",
    "## What if we choose the 'best of' for each model\n",
    "## See 'hyper-1' notebook for how to get the best model :-) \n",
    "\n",
    "models = []\n",
    "models.append(('LR', LogisticRegression(max_iter=500)))\n",
    "models.append(('KNN', KNeighborsClassifier()))\n",
    "models.append(('CART', DecisionTreeClassifier()))\n",
    "models.append(('RF', RandomForestClassifier()))\n",
    "models.append(('GB', GradientBoostingClassifier()))\n",
    "models.append(('SVM', SVC()))\n",
    "#models.append(('NB', GaussianNB()))\n",
    "\n",
    "\n",
    "results = []\n",
    "names = []\n",
    "## for classification tasks\n",
    "scoring_metrics = ['accuracy', 'precision', 'recall', 'f1', 'roc_auc']\n",
    "## for regression tasks\n",
    "#scoring_metrics = ['r2', 'rmse']\n",
    "y2 = np.ravel(y)\n",
    "for name, model in models:\n",
    "    print ('\\n========= ', name , ' =========')\n",
    "    kfold = KFold(n_splits=10)\n",
    "    \n",
    "    ## cv can be int or kfold\n",
    "    cv_results = cross_validate(model, X, y2, cv=5, scoring=scoring_metrics, n_jobs=-1)\n",
    "    pprint (cv_results)\n",
    "    # cv_results = cross_val_score(model, X, y, cv=kfold, scoring=scoring_metric)\n",
    "    this_result = cv_results['test_accuracy']\n",
    "    results.append(this_result)\n",
    "    names.append(name)\n",
    "    print(\"\\n{}: accuracy : avg={:,.2f}, median={:,.2f},  std={:,.2f},  cv_results={}\".format (\n",
    "        name, np.mean(this_result), np.median(this_result), np.std(this_result), this_result))\n"
   ]
  },
  {
   "cell_type": "markdown",
   "metadata": {},
   "source": [
    "## Step-6: Vizualize Results"
   ]
  },
  {
   "cell_type": "code",
   "execution_count": 10,
   "metadata": {},
   "outputs": [
    {
     "data": {
      "image/png": "[encoded data removed]",
      "text/plain": [
       "<Figure size 720x432 with 1 Axes>"
      ]
     },
     "metadata": {
      "needs_background": "light"
     },
     "output_type": "display_data"
    }
   ],
   "source": [
    "import matplotlib.pyplot as plt\n",
    "import seaborn as sns\n",
    "\n",
    "plt.figure(figsize = (10,6))\n",
    "\n",
    "# boxplot algorithm comparison\n",
    "ax = sns.boxplot(data=results)\n",
    "ax.set_title('Algorithm Comparison')\n",
    "ax.set_xticklabels(names)\n",
    "ax.set_ylabel('accuracy')\n",
    "plt.show()"
   ]
  },
  {
   "cell_type": "code",
   "execution_count": null,
   "metadata": {},
   "outputs": [],
   "source": []
  }
 ],
 "metadata": {
  "colab": {
   "collapsed_sections": [],
   "name": "classification-1-credit-card-default.ipynb",
   "provenance": []
  },
  "kernelspec": {
   "display_name": "Python 3 (ipykernel)",
   "language": "python",
   "name": "python3"
  },
  "language_info": {
   "codemirror_mode": {
    "name": "ipython",
    "version": 3
   },
   "file_extension": ".py",
   "mimetype": "text/x-python",
   "name": "python",
   "nbconvert_exporter": "python",
   "pygments_lexer": "ipython3",
   "version": "3.8.13"
  }
 },
 "nbformat": 4,
 "nbformat_minor": 4
}
