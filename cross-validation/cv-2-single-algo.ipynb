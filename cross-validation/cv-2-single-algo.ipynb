{
 "cells": [
  {
   "cell_type": "markdown",
   "metadata": {
    "id": "ioQllDDHlLDQ"
   },
   "source": [
    "# Cross Validation 1 \n",
    "\n",
    "Using CV to test an algorithm\n",
    "\n",
    "We will use credit card default data from https://www.kaggle.com/datasets/uciml/default-of-credit-card-clients-dataset\n"
   ]
  },
  {
   "cell_type": "code",
   "execution_count": null,
   "metadata": {
    "id": "hNNMaMAHk8pq"
   },
   "outputs": [],
   "source": [
    "import numpy as np\n",
    "import pandas as pd\n",
    "import matplotlib.pyplot as plt\n",
    "import seaborn as sns\n",
    "\n",
    "pd.options.display.float_format = '{:,.2f}'.format"
   ]
  },
  {
   "cell_type": "markdown",
   "metadata": {
    "id": "IVfT952YltQZ"
   },
   "source": [
    "## Step-1: Download Data"
   ]
  },
  {
   "cell_type": "code",
   "execution_count": null,
   "metadata": {
    "colab": {
     "base_uri": "https://localhost:8080/"
    },
    "id": "Pq-p7ssilZdE",
    "outputId": "17404709-f1fe-4efc-d4c5-bfbc0c74874f"
   },
   "outputs": [],
   "source": [
    "import os\n",
    "import urllib.request\n",
    "\n",
    "data_url = 'https://raw.githubusercontent.com/elephantscale/datasets/master/credit-card-default/default2.csv'\n",
    "data_location = os.path.basename(data_url)\n",
    "\n",
    "if not os.path.exists (data_location):\n",
    "    print(\"Downloading : \", data_url)\n",
    "    urllib.request.urlretrieve(data_url, data_location)\n",
    "print('data_location:', data_location)"
   ]
  },
  {
   "cell_type": "code",
   "execution_count": null,
   "metadata": {
    "colab": {
     "base_uri": "https://localhost:8080/",
     "height": 456
    },
    "id": "gDYImJcJlyjl",
    "outputId": "60fe1924-9dca-4e93-b33b-ca981247759b"
   },
   "outputs": [],
   "source": [
    "data = pd.read_csv(data_location)\n",
    "data.sample(10)"
   ]
  },
  {
   "cell_type": "markdown",
   "metadata": {
    "id": "FLVjKutTmS7w"
   },
   "source": [
    "## Step-2: EDA"
   ]
  },
  {
   "cell_type": "code",
   "execution_count": null,
   "metadata": {
    "colab": {
     "base_uri": "https://localhost:8080/"
    },
    "id": "awy4QJnenY3l",
    "outputId": "5a04b248-4c8d-4f4d-f0ef-8b03618808ed"
   },
   "outputs": [],
   "source": [
    "## Check data skew\n",
    "data['default'].value_counts()"
   ]
  },
  {
   "cell_type": "code",
   "execution_count": null,
   "metadata": {},
   "outputs": [],
   "source": [
    "data['default'].value_counts(normalize=True)"
   ]
  },
  {
   "cell_type": "markdown",
   "metadata": {
    "id": "FUKVrI47sAZO"
   },
   "source": [
    "## Step-3: Clean up \n",
    "\n",
    "TODO"
   ]
  },
  {
   "cell_type": "markdown",
   "metadata": {
    "id": "F3x3Ur41sIKC"
   },
   "source": [
    "## Step-4: Shape data"
   ]
  },
  {
   "cell_type": "code",
   "execution_count": null,
   "metadata": {
    "id": "C1QjYZz1r4l8"
   },
   "outputs": [],
   "source": [
    "label_col = 'default'\n",
    "\n",
    "feature_columns = data.columns\n",
    "## TODO : drop 'ID' and 'default' columns\n",
    "feature_columns = feature_columns.drop (['ID', 'default'])\n",
    "#print (feature_columns)"
   ]
  },
  {
   "cell_type": "code",
   "execution_count": null,
   "metadata": {
    "colab": {
     "base_uri": "https://localhost:8080/"
    },
    "id": "9kCuOXtGsGd6",
    "outputId": "a2a50a50-f1c4-4ffe-ac06-31eb1b0bff1e"
   },
   "outputs": [],
   "source": [
    "X = data[feature_columns]\n",
    "y = data[[label_col]]\n",
    "\n",
    "print (X.shape)\n",
    "print (y.shape)"
   ]
  },
  {
   "cell_type": "markdown",
   "metadata": {},
   "source": [
    "## Step-5: Cross Validation"
   ]
  },
  {
   "cell_type": "code",
   "execution_count": null,
   "metadata": {
    "colab": {
     "base_uri": "https://localhost:8080/"
    },
    "id": "qT7gRx7DtI6Q",
    "outputId": "47458822-76dc-4bbd-e04c-b84e08529801"
   },
   "outputs": [],
   "source": [
    "%%time \n",
    "\n",
    "from sklearn.model_selection import cross_validate\n",
    "from sklearn.linear_model import LogisticRegression\n",
    "\n",
    "cv_results = cross_validate(estimator=LogisticRegression(max_iter=500), \n",
    "                            X=X, \n",
    "                            y=y, \n",
    "                            cv=5, \n",
    "                            scoring=['accuracy'],\n",
    "                            return_train_score=True,\n",
    "                            return_estimator=True,\n",
    "                            n_jobs= -1)"
   ]
  },
  {
   "cell_type": "code",
   "execution_count": null,
   "metadata": {},
   "outputs": [],
   "source": [
    "cv_results"
   ]
  },
  {
   "cell_type": "code",
   "execution_count": null,
   "metadata": {},
   "outputs": [],
   "source": [
    "from numpy import mean\n",
    "\n",
    "print (\"average accuracy : \", mean(cv_results['test_accuracy']))"
   ]
  },
  {
   "cell_type": "code",
   "execution_count": null,
   "metadata": {},
   "outputs": [],
   "source": []
  }
 ],
 "metadata": {
  "colab": {
   "collapsed_sections": [],
   "name": "classification-1-credit-card-default.ipynb",
   "provenance": []
  },
  "kernelspec": {
   "display_name": "Python 3 (ipykernel)",
   "language": "python",
   "name": "python3"
  },
  "language_info": {
   "codemirror_mode": {
    "name": "ipython",
    "version": 3
   },
   "file_extension": ".py",
   "mimetype": "text/x-python",
   "name": "python",
   "nbconvert_exporter": "python",
   "pygments_lexer": "ipython3",
   "version": "3.8.13"
  }
 },
 "nbformat": 4,
 "nbformat_minor": 4
}
