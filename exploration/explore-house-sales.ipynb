{
 "cells": [
  {
   "cell_type": "markdown",
   "metadata": {},
   "source": [
    "# Explore House Sales Data\n",
    "\n",
    "Let's explore the house sales data."
   ]
  },
  {
   "cell_type": "code",
   "execution_count": null,
   "metadata": {},
   "outputs": [],
   "source": [
    "import numpy as np\n",
    "import pandas as pd\n"
   ]
  },
  {
   "cell_type": "markdown",
   "metadata": {},
   "source": [
    "## Read and Display data"
   ]
  },
  {
   "cell_type": "code",
   "execution_count": null,
   "metadata": {},
   "outputs": [],
   "source": [
    "import os\n",
    "\n",
    "data_location = \"../data/house-prices/house-sales-simplified.csv\"\n",
    "if not os.path.exists (data_location):\n",
    "    data_location = 'https://elephantscale-public.s3.amazonaws.com/data/house-prices/house-sales-simplified.csv'\n",
    "print('data_location:', data_location)\n",
    "    \n",
    "house_prices = pd.read_csv(data_location)\n",
    "house_prices"
   ]
  },
  {
   "cell_type": "markdown",
   "metadata": {},
   "source": [
    "## 'Summary' of data\n",
    "\n",
    "Do you detect any outliers in the describe output below?   \n",
    "Hint : what is the largest number of bedrooms?  \n",
    "Any other outliers?"
   ]
  },
  {
   "cell_type": "code",
   "execution_count": null,
   "metadata": {},
   "outputs": [],
   "source": [
    "pd.options.display.float_format = '{:,.2f}'.format\n",
    "\n",
    "## TODO : use 'describe' function\n",
    "house_prices.???()"
   ]
  },
  {
   "cell_type": "markdown",
   "metadata": {},
   "source": [
    "## Get an idea of one attribute"
   ]
  },
  {
   "cell_type": "code",
   "execution_count": null,
   "metadata": {},
   "outputs": [],
   "source": [
    "## TODO : use describe on one column\n",
    "## Hint : 'SalePrice'\n",
    "\n",
    "house_prices[[\"???\"]].describe()"
   ]
  },
  {
   "cell_type": "markdown",
   "metadata": {},
   "source": [
    "## Report on Bedrooms vs Sales\n",
    "Let's calculte sales per bedrooms"
   ]
  },
  {
   "cell_type": "code",
   "execution_count": null,
   "metadata": {},
   "outputs": [],
   "source": [
    "## TODO : find sales by bedrooms\n",
    "## Hint : group by 'Bedrooms'\n",
    "bedroom_sales = house_prices.groupby(\"???\").size()\n",
    "bedroom_sales"
   ]
  },
  {
   "cell_type": "code",
   "execution_count": null,
   "metadata": {},
   "outputs": [],
   "source": [
    "## TODO: order by count top to bottom\n",
    "bedroom_sales.sort_values(ascending=False) "
   ]
  },
  {
   "cell_type": "markdown",
   "metadata": {},
   "source": [
    "## Filter Out Outliers\n",
    "Let's remove entries with more than 6 bedrooms."
   ]
  },
  {
   "cell_type": "code",
   "execution_count": null,
   "metadata": {},
   "outputs": [],
   "source": [
    "filtered = house_prices.loc [house_prices['Bedrooms'] < 6]\n",
    "print ('total records : ', house_prices.shape)\n",
    "print ('filtered records :', filtered.shape)\n",
    "filtered"
   ]
  },
  {
   "cell_type": "code",
   "execution_count": null,
   "metadata": {},
   "outputs": [],
   "source": [
    "## TODO : Filter houses under 5 bedrooms and less than 3 bathrooms\n",
    "\n",
    "filtered2 = house_prices.loc  [ (house_prices['???'] < 5) &\n",
    "                                (house_prices['???'] < 3)]\n",
    "filtered2"
   ]
  },
  {
   "cell_type": "markdown",
   "metadata": {},
   "source": [
    "## Calculate some percentiles"
   ]
  },
  {
   "cell_type": "code",
   "execution_count": null,
   "metadata": {},
   "outputs": [],
   "source": [
    "percentiles = (0.25, 0.5, 0.75, 0.9, 0.95)\n",
    "prices = house_prices['SalePrice'].quantile(percentiles)\n",
    "\n",
    "print(percentiles)\n",
    "print(prices)\n",
    "\n",
    "# get a Pandas dataframe for pretty print\n",
    "percentile_pricing_df = pd.DataFrame({\"percentile\": percentiles, \"price\": prices} )\n",
    "percentile_pricing_df"
   ]
  },
  {
   "cell_type": "markdown",
   "metadata": {},
   "source": [
    "## Covariance & Correlation\n",
    "\n",
    "Q1 : Calculate Covariance between \"SalePrice\"  and \"Bedrooms\"\n",
    "    df.cov()\n",
    "\n",
    "Q1 : Which attributes influences sale price more?  \n",
    "- Number of Bedrooms (\"Bedrooms\")\n",
    "- or size of the home (\"SqFtTotLiving\")\n",
    "\n",
    "Hint : calculate Correlation  df.corr()\n",
    "\n",
    "**Q=> Can you explain the result**"
   ]
  },
  {
   "cell_type": "code",
   "execution_count": null,
   "metadata": {},
   "outputs": [],
   "source": [
    "## TODO :  Calculate covariance matrix\n",
    "## Hint : use 'cov' function\n",
    "house_prices.???() "
   ]
  },
  {
   "cell_type": "code",
   "execution_count": null,
   "metadata": {},
   "outputs": [],
   "source": [
    "## TODO :  calculate correlation matrix\n",
    "## HInt : use 'corr' function\n",
    "## Can you interpret the matrix?\n",
    "\n",
    "house_prices.???() "
   ]
  },
  {
   "cell_type": "markdown",
   "metadata": {},
   "source": [
    "## Bonus Lab : Find the most expensive zip codes\n",
    "We have data from many zip codes.  \n",
    "To find the most expensive zip code, let's first calculate  **price per sqft**"
   ]
  },
  {
   "cell_type": "code",
   "execution_count": null,
   "metadata": {},
   "outputs": [],
   "source": [
    "## Step 1 : calculate price per sqft\n",
    "## TODO : do the math, divide  house_prices['SalePrice'] by  house_prices['SqFtTotLiving']\n",
    "house_prices['price_per_sqft'] = house_prices['???'] / house_prices['???']\n",
    "house_prices"
   ]
  },
  {
   "cell_type": "code",
   "execution_count": null,
   "metadata": {},
   "outputs": [],
   "source": [
    "## TODO : Group data by zipcode and take the avg of price_per_sqft\n",
    "## Hint : groupby('ZipCode')\n",
    "zipcode_avg_price  = house_prices.groupby('???')['ZipCode', 'price_per_sqft'].mean()\n",
    "zipcode_avg_price"
   ]
  },
  {
   "cell_type": "code",
   "execution_count": null,
   "metadata": {},
   "outputs": [],
   "source": [
    "## Sort by 'price_per_sqft'. show top-10 zipcodes\n",
    "zipcode_avg_price['price_per_sqft'].nlargest(10)"
   ]
  }
 ],
 "metadata": {
  "kernelspec": {
   "display_name": "Python 3",
   "language": "python",
   "name": "python3"
  },
  "language_info": {
   "codemirror_mode": {
    "name": "ipython",
    "version": 3
   },
   "file_extension": ".py",
   "mimetype": "text/x-python",
   "name": "python",
   "nbconvert_exporter": "python",
   "pygments_lexer": "ipython3",
   "version": "3.8.3"
  }
 },
 "nbformat": 4,
 "nbformat_minor": 4
}
