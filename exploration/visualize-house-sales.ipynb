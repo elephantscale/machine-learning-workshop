{
 "cells": [
  {
   "cell_type": "markdown",
   "metadata": {
    "colab_type": "text",
    "id": "39fgP8MYrCeV"
   },
   "source": [
    "# Visualize House Sales Data\n",
    "\n",
    "Let's use pandas and matplotlib to help us to visualize sales data."
   ]
  },
  {
   "cell_type": "code",
   "execution_count": null,
   "metadata": {
    "colab": {
     "base_uri": "https://localhost:8080/",
     "height": 72
    },
    "colab_type": "code",
    "id": "Ov5-s-_HrCeW",
    "outputId": "5121ae32-c475-4c5d-c4e7-1610ecfbbbd9"
   },
   "outputs": [],
   "source": [
    "%matplotlib inline\n",
    "\n",
    "import numpy as np\n",
    "import pandas as pd\n",
    "import matplotlib.pyplot as plt\n",
    "import seaborn as sns \n",
    "\n",
    "pd.options.display.float_format = '{:,.2f}'.format"
   ]
  },
  {
   "cell_type": "markdown",
   "metadata": {
    "colab_type": "text",
    "id": "8elItS6DrCea"
   },
   "source": [
    "## Read and Display data"
   ]
  },
  {
   "cell_type": "code",
   "execution_count": null,
   "metadata": {
    "colab": {
     "base_uri": "https://localhost:8080/",
     "height": 407
    },
    "colab_type": "code",
    "id": "Q1KSNsnTrCea",
    "outputId": "8f2a89ca-eba5-4666-b548-4e61719f88b7"
   },
   "outputs": [],
   "source": [
    "import os\n",
    "import urllib.request\n",
    "\n",
    "data_location = \"house-sales-simplified.csv\"\n",
    "data_url = 'https://elephantscale-public.s3.amazonaws.com/data/house-prices/house-sales-simplified.csv'\n",
    "#data_url = 'https://raw.githubusercontent.com/elephantscale/datasets/master/house-prices/house-sales-simplified.csv'\n",
    "\n",
    "if not os.path.exists (data_location):\n",
    "    data_location = os.path.basename(data_location)\n",
    "    if not os.path.exists(data_location):\n",
    "        urllib.request.urlretrieve(data_url, data_location)\n",
    "        print ('Downloading : ', data_url)\n",
    "print('data_location :', data_location)  "
   ]
  },
  {
   "cell_type": "code",
   "execution_count": null,
   "metadata": {},
   "outputs": [],
   "source": [
    "house_prices = pd.read_csv(data_location)\n",
    "house_prices"
   ]
  },
  {
   "cell_type": "markdown",
   "metadata": {
    "colab_type": "text",
    "id": "yoKsnmdFrCed"
   },
   "source": [
    "## 'Summary' of data"
   ]
  },
  {
   "cell_type": "code",
   "execution_count": null,
   "metadata": {
    "colab": {
     "base_uri": "https://localhost:8080/",
     "height": 288
    },
    "colab_type": "code",
    "id": "Af_NRAyhrCee",
    "outputId": "8c484424-069c-47de-8d7c-3b7f444b72c3"
   },
   "outputs": [],
   "source": [
    "## TODO : use describe to get an idea of the data\n",
    "## Hint : 'describe' \n",
    "house_prices.???()"
   ]
  },
  {
   "cell_type": "markdown",
   "metadata": {},
   "source": [
    "## Pair Plot\n",
    "\n",
    "Try this plot.\n",
    "\n",
    "Can you make sense of it? :-) "
   ]
  },
  {
   "cell_type": "code",
   "execution_count": null,
   "metadata": {},
   "outputs": [],
   "source": [
    "## TODO : Do a 'pairplot' to see patterns\n",
    "\n",
    "# let's remove 'ID' and 'PropertyID' columns as they don't add any value\n",
    "sns.???(house_prices.drop(['ID', 'PropertyID'], axis=1))\n",
    "plt.show()"
   ]
  },
  {
   "cell_type": "markdown",
   "metadata": {
    "colab_type": "text",
    "id": "44OaKAUdrCeg"
   },
   "source": [
    "## Histogram / Frequency Plot\n",
    "Create a frequency table & histogram plot based on number of bedrooms"
   ]
  },
  {
   "cell_type": "code",
   "execution_count": null,
   "metadata": {
    "colab": {
     "base_uri": "https://localhost:8080/",
     "height": 276
    },
    "colab_type": "code",
    "id": "kTEwKjOmrCeh",
    "outputId": "6eeaba04-d7a1-4b5b-fc0e-9c5f62bb5971"
   },
   "outputs": [],
   "source": [
    "## calculate a frequency count\n",
    "## Hint : group by 'Bedrooms'\n",
    "freq_count = house_prices.groupby(\"Bedrooms\").size()\n",
    "freq_count"
   ]
  },
  {
   "cell_type": "code",
   "execution_count": null,
   "metadata": {
    "colab": {
     "base_uri": "https://localhost:8080/",
     "height": 296
    },
    "colab_type": "code",
    "id": "RtZvw4owrCej",
    "outputId": "03e26b38-ce53-418c-9cc9-ef2c306a8006"
   },
   "outputs": [],
   "source": [
    "## TODO : countplot\n",
    "## Hint : data=house_prices,   x='Bedrooms'\n",
    "\n",
    "sns.countplot(data=???, x=\"???\")"
   ]
  },
  {
   "cell_type": "markdown",
   "metadata": {
    "colab_type": "text",
    "id": "da3Jh8e0rCem"
   },
   "source": [
    "## Create a BoxPlot on sale prices \n",
    "Sale prices per property type  (Single Family, Townhouse)"
   ]
  },
  {
   "cell_type": "code",
   "execution_count": null,
   "metadata": {
    "colab": {
     "base_uri": "https://localhost:8080/",
     "height": 307
    },
    "colab_type": "code",
    "id": "BdCkl60brCem",
    "outputId": "ec68c766-9f23-4d95-ea72-c97810e241fd"
   },
   "outputs": [],
   "source": [
    "## TODO : data=price_by_property_type\n",
    "## Hint : data=house_prices. X='PropertyType', y='SalePrice'\n",
    "sns.boxplot(x=\"???\", y=\"???\",  data=???)"
   ]
  },
  {
   "cell_type": "markdown",
   "metadata": {
    "colab_type": "text",
    "id": "5DXJzOQprCeq"
   },
   "source": [
    "## Bonus Lab : Improving our plot\n",
    "Our plot data is pretty 'squished'  Let's see if we can improve it.  \n",
    "Some of the outliers (like the 33 bedroom house is messing up the display).  \n",
    "Let's remove the outliers."
   ]
  },
  {
   "cell_type": "code",
   "execution_count": null,
   "metadata": {
    "colab": {
     "base_uri": "https://localhost:8080/",
     "height": 35
    },
    "colab_type": "code",
    "id": "uF9cs9e8rCeq",
    "outputId": "676e10ac-a113-4839-b3ed-025c10652594"
   },
   "outputs": [],
   "source": [
    "## We are going to remove 10% off the data from the bottom and top\n",
    "\n",
    "## first calculate 10%  and 90% prices\n",
    "## Hint : supply the right parameters for quantile (10% --> 0.1,  90% --> 0.9)\n",
    "ten_ninety = house_prices.SalePrice.quantile([.1, .9])\n",
    "\n",
    "## extract 10% and 90% into variables\n",
    "ten_percent_price = int(house_prices.SalePrice.quantile(.1))\n",
    "ninety_percent_price = int(house_prices.SalePrice.quantile(.9))\n",
    "print(\"10% price=\", ten_percent_price,  \", 90% price=\", ninety_percent_price)"
   ]
  },
  {
   "cell_type": "code",
   "execution_count": null,
   "metadata": {
    "colab": {
     "base_uri": "https://localhost:8080/",
     "height": 86
    },
    "colab_type": "code",
    "id": "PzMJm8sZrCet",
    "outputId": "b867db82-417e-4eca-c353-17d0d8ea0cad"
   },
   "outputs": [],
   "source": [
    "## filter out below 10% and above 90%\n",
    "print(\"total sales \", len(house_prices.index))\n",
    "\n",
    "## filter prices above 10%  (hint : ten_percent_price)\n",
    "above_ten = house_prices[house_prices[\"SalePrice\"] >= ten_percent_price]\n",
    "print(\"above 10% \" , len(above_ten.index))\n",
    "\n",
    "## filter prices below 90%  (hint : <= ninety_percent_price)\n",
    "below_ninety  = house_prices.filter(house_prices[\"SalePrice\"] <= ninety_percent_price)\n",
    "print(\"below 90% \", len(below_ninety.index))\n",
    "## filter above 10% and below 90% in one query\n",
    "above_ten_below_ninety = house_prices.loc[(house_prices['SalePrice'] >= ten_percent_price) & (house_prices['SalePrice'] <=  ninety_percent_price)]\n",
    "print(\"between 10% and 90% = {:,}\".format(above_ten_below_ninety.shape[0]))"
   ]
  },
  {
   "cell_type": "code",
   "execution_count": null,
   "metadata": {
    "colab": {
     "base_uri": "https://localhost:8080/",
     "height": 296
    },
    "colab_type": "code",
    "id": "2s334AADrCev",
    "outputId": "25499c89-38f8-42ea-f047-c26bc646cd99"
   },
   "outputs": [],
   "source": [
    "## TODO: do the same plot again\n",
    "## Hint : data=above_ten_below_ninety\n",
    "sns.boxplot(x=\"PropertyType\", y=\"SalePrice\",  data=above_ten_below_ninety)"
   ]
  },
  {
   "cell_type": "markdown",
   "metadata": {
    "colab_type": "text",
    "id": "g0Ykkm2crCex"
   },
   "source": [
    "## Any other plots?\n",
    "Look at [MatplotLib Examples](https://matplotlib.org/gallery.html).\n",
    "If any of them inspire you try to create a graph like that!\n",
    "And do show it off to the class  :-)"
   ]
  }
 ],
 "metadata": {
  "colab": {
   "collapsed_sections": [],
   "name": "3-visualize-house-sales.ipynb",
   "provenance": []
  },
  "kernelspec": {
   "display_name": "Python 3 (ipykernel)",
   "language": "python",
   "name": "python3"
  },
  "language_info": {
   "codemirror_mode": {
    "name": "ipython",
    "version": 3
   },
   "file_extension": ".py",
   "mimetype": "text/x-python",
   "name": "python",
   "nbconvert_exporter": "python",
   "pygments_lexer": "ipython3",
   "version": "3.8.11"
  }
 },
 "nbformat": 4,
 "nbformat_minor": 4
}
