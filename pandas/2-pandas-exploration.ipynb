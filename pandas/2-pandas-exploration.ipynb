{
 "cells": [
  {
   "cell_type": "markdown",
   "metadata": {},
   "source": [
    "# Exploring Pandas with NYC Flights Dataset\n",
    "\n",
    "R users will recognize this famous\n",
    "dataset as a favorite of Hadley Wickham, author of dplyr.  No matter, we can use\n",
    "it with pandas as\n",
    "well.\n",
    "\n",
    "This dataset will give us flight delay data from all\n",
    "flights departing from the three NYC airports (JFK, LGA, EWR) in the year 2013."
   ]
  },
  {
   "cell_type": "markdown",
   "metadata": {},
   "source": [
    "## Step-1: Get Data"
   ]
  },
  {
   "cell_type": "code",
   "execution_count": null,
   "metadata": {
    "attributes": {
     "classes": [],
     "id": "",
     "n": "2"
    }
   },
   "outputs": [],
   "source": [
    "# get data\n",
    "import os\n",
    "import urllib.request\n",
    "\n",
    "data_location = \"../data/nycflights13/flights.csv.gz\"\n",
    "#data_url = 'https://elephantscale-public.s3.amazonaws.com/data/nycflights13/flights.csv.gz'\n",
    "data_url = 'https://github.com/elephantscale/datasets/blob/master/nycflights13/flights.csv.gz?raw=true'\n",
    "\n",
    "if not os.path.exists (data_location):\n",
    "    data_location = os.path.basename(data_location)\n",
    "    if not os.path.exists(data_location):\n",
    "        urllib.request.urlretrieve(data_url, data_location)\n",
    "        print ('Downloading : ', data_url)\n",
    "print('data_location :', data_location)  "
   ]
  },
  {
   "cell_type": "code",
   "execution_count": null,
   "metadata": {
    "attributes": {
     "classes": [],
     "id": "",
     "n": "3"
    }
   },
   "outputs": [],
   "source": [
    "%matplotlib inline\n",
    "\n",
    "import pandas as pd\n",
    "import matplotlib.pyplot as plt\n",
    "import numpy as np\n",
    "\n",
    "pd.options.display.float_format = '{:,.2f}'.format\n",
    "flights = pd.read_csv(data_location)\n",
    "flights"
   ]
  },
  {
   "cell_type": "markdown",
   "metadata": {},
   "source": [
    "## Step-2: Calculate Arrival Delay\n",
    "\n",
    "Let us focus on some summary and visualizations that we can do here. Let's start\n",
    "out by finding the average delay by month.  We'll also do a matlibplot on it."
   ]
  },
  {
   "cell_type": "code",
   "execution_count": null,
   "metadata": {},
   "outputs": [],
   "source": [
    "# first let's extract 'arr_delay' column\n",
    "flights['arr_delay']"
   ]
  },
  {
   "cell_type": "code",
   "execution_count": null,
   "metadata": {},
   "outputs": [],
   "source": [
    "# then let's calculate average / mean\n",
    "flights['arr_delay'].mean()"
   ]
  },
  {
   "cell_type": "code",
   "execution_count": null,
   "metadata": {
    "attributes": {
     "classes": [],
     "id": "",
     "n": "4"
    }
   },
   "outputs": [],
   "source": [
    "## Now that we have done that, let's group by month and do the same\n",
    "\n",
    "mean_delay_by_month = flights.groupby(['month'])['arr_delay'].mean()\n",
    "mean_delay_by_month"
   ]
  },
  {
   "cell_type": "code",
   "execution_count": null,
   "metadata": {
    "attributes": {
     "classes": [],
     "id": "",
     "n": "5"
    }
   },
   "outputs": [],
   "source": [
    "## Plot this\n",
    "\n",
    "mean_delay_by_month.plot(kind='bar', title=\"Mean Delay By Month\")\n"
   ]
  },
  {
   "cell_type": "markdown",
   "metadata": {},
   "source": [
    "Notice that flights in two months actually have negative delay.  No doubt\n",
    "airlines \"pad\" flight times to achieve better results."
   ]
  },
  {
   "cell_type": "markdown",
   "metadata": {},
   "source": [
    "## Step-3: Airport Specific Delays\n",
    "\n",
    "One would guess that\n",
    "flights to certain airports may have different results. For example, flights to\n",
    "Chicago (ORD) would no doubt be affected by winter weather. Let's take a look at\n",
    "that."
   ]
  },
  {
   "cell_type": "code",
   "execution_count": null,
   "metadata": {},
   "outputs": [],
   "source": [
    "## First step, extract all flights to Chicago (ORD)\n",
    "\n",
    "flights[flights.dest == 'ORD']"
   ]
  },
  {
   "cell_type": "code",
   "execution_count": null,
   "metadata": {
    "attributes": {
     "classes": [],
     "id": "",
     "n": "10"
    }
   },
   "outputs": [],
   "source": [
    "## Now do the same calculation\n",
    "\n",
    "mean_delay_by_month_ord = flights[(flights.dest == 'ORD')].groupby(['month'])['arr_delay'].mean()\n",
    "mean_delay_by_month_ord\n"
   ]
  },
  {
   "cell_type": "code",
   "execution_count": null,
   "metadata": {
    "attributes": {
     "classes": [],
     "id": "",
     "n": "6"
    }
   },
   "outputs": [],
   "source": [
    "mean_delay_by_month_ord.plot(kind='bar', title=\"Mean Delay By Month (Chicago)\")\n"
   ]
  },
  {
   "cell_type": "code",
   "execution_count": null,
   "metadata": {
    "attributes": {
     "classes": [],
     "id": "",
     "n": "7"
    }
   },
   "outputs": [],
   "source": [
    "# Let's try Los Angeles and compare that\n",
    "\n",
    "mean_delay_by_month_lax = flights[(flights.dest == 'LAX')].groupby(['month'])['arr_delay'].mean()\n",
    "print(\"Flights to Los Angeles (LAX)\")\n",
    "print(mean_delay_by_month_lax)\n",
    "\n",
    "mean_delay_by_month_lax.plot(kind='bar', title=\"Mean Delay By Month (Los Angeles)\")\n"
   ]
  },
  {
   "cell_type": "markdown",
   "metadata": {},
   "source": [
    "## Step-4: Delay by Airline\n",
    "\n",
    "Perhaps we would like to see which Airline carrier is the best for delays.  Here\n",
    "we have some plots to do that."
   ]
  },
  {
   "cell_type": "code",
   "execution_count": null,
   "metadata": {},
   "outputs": [],
   "source": [
    "# Examine if specific carrier will create different delay impact\n",
    "arr_delay_by_carrier = flights.groupby('carrier')['arr_delay'].mean()\n",
    "print (arr_delay_by_carrier)\n",
    "\n",
    "# plot this\n",
    "arr_delay_by_carrier.plot(kind='bar')\n",
    "plt.xticks(rotation=0)\n",
    "plt.xlabel('Carrier')\n",
    "plt.ylabel('Average Delay in Min')\n",
    "plt.title('Average Arrival Delay by Carrier in 2008, All  airports')"
   ]
  },
  {
   "cell_type": "markdown",
   "metadata": {},
   "source": [
    "We see that F9 (Frontier Airlines) is among the worst in terms of delays, while\n",
    "Hawaiian (HA) is among the best."
   ]
  },
  {
   "cell_type": "markdown",
   "metadata": {},
   "source": [
    "## Step-5: Joins\n",
    "\n",
    "We have a couple of other tables in our dataset: Weather, and\n",
    "airports. Let's look at these two tables and see if we can perform joins."
   ]
  },
  {
   "cell_type": "code",
   "execution_count": null,
   "metadata": {},
   "outputs": [],
   "source": [
    "import os\n",
    "import urllib.request\n",
    "\n",
    "data_location = \"../data/nycflights13/weather.csv.gz\"\n",
    "data_url = 'https://elephantscale-public.s3.amazonaws.com/data/nycflights13/weather.csv.gz'\n",
    "\n",
    "if not os.path.exists (data_location):\n",
    "    data_location = os.path.basename(data_location)\n",
    "    if not os.path.exists(data_location):\n",
    "        urllib.request.urlretrieve(data_url, data_location)\n",
    "        print ('Downloading : ', data_url)\n",
    "print('data_location :', data_location)  \n",
    "\n",
    "weather = pd.read_csv(data_location)\n",
    "weather"
   ]
  },
  {
   "cell_type": "code",
   "execution_count": null,
   "metadata": {},
   "outputs": [],
   "source": [
    "flights_withweather = pd.merge(flights, weather, how='left', on=['year','month', 'day', 'hour', 'origin'])\n",
    "flights_withweather"
   ]
  },
  {
   "cell_type": "code",
   "execution_count": null,
   "metadata": {},
   "outputs": [],
   "source": [
    "import os\n",
    "import urllib.request\n",
    "\n",
    "data_location = \"../data/nycflights13/airports.csv.gz\"\n",
    "data_url = 'https://elephantscale-public.s3.amazonaws.com/data/nycflights13/airports.csv.gz'\n",
    "\n",
    "if not os.path.exists (data_location):\n",
    "    data_location = os.path.basename(data_location)\n",
    "    if not os.path.exists(data_location):\n",
    "        urllib.request.urlretrieve(data_url, data_location)\n",
    "        print ('Downloading : ', data_url)\n",
    "print('data_location :', data_location)  \n",
    "\n",
    "airports = pd.read_csv(data_location)\n",
    "airports"
   ]
  },
  {
   "cell_type": "code",
   "execution_count": null,
   "metadata": {},
   "outputs": [],
   "source": [
    "flights_withairport = pd.merge(flights_withweather, airports, how='left', left_on='dest', right_on='faa')\n",
    "flights_withairport"
   ]
  }
 ],
 "metadata": {
  "kernelspec": {
   "display_name": "Python 3 (ipykernel)",
   "language": "python",
   "name": "python3"
  },
  "language_info": {
   "codemirror_mode": {
    "name": "ipython",
    "version": 3
   },
   "file_extension": ".py",
   "mimetype": "text/x-python",
   "name": "python",
   "nbconvert_exporter": "python",
   "pygments_lexer": "ipython3",
   "version": "3.8.11"
  }
 },
 "nbformat": 4,
 "nbformat_minor": 4
}
