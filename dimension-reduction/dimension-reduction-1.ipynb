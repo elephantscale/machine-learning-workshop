{
 "cells": [
  {
   "cell_type": "markdown",
   "id": "0a4d4069-d08c-4b26-af60-05fafce7fa9e",
   "metadata": {},
   "source": [
    "# Dealing with High Dimensional Data\n",
    "\n",
    "We are going to try different feature selectors"
   ]
  },
  {
   "cell_type": "code",
   "execution_count": 1,
   "id": "c5d19cb1-4179-4c99-9406-3e106a105aff",
   "metadata": {},
   "outputs": [],
   "source": [
    "import numpy as np\n",
    "import pandas as pd\n",
    "import matplotlib.pyplot as plt\n",
    "import seaborn as sns\n",
    "\n",
    "pd.options.display.float_format = '{:,.2f}'.format"
   ]
  },
  {
   "cell_type": "markdown",
   "id": "0f44c7a3-e79c-4446-987c-7d1c4a4fa291",
   "metadata": {},
   "source": [
    "## Step-1: High Dimensional Data"
   ]
  },
  {
   "cell_type": "code",
   "execution_count": 2,
   "id": "a0336329-1212-4319-b381-c5865f9b6af4",
   "metadata": {},
   "outputs": [],
   "source": [
    "from sklearn.datasets import make_classification\n",
    "\n",
    "X, y = make_classification(\n",
    "    n_samples = 10000,\n",
    "    n_features =200, \n",
    "    n_classes=2,\n",
    "    random_state=123)"
   ]
  },
  {
   "cell_type": "code",
   "execution_count": 3,
   "id": "087c4d11-174b-43d8-bf4f-bd47d6967aa1",
   "metadata": {},
   "outputs": [
    {
     "name": "stdout",
     "output_type": "stream",
     "text": [
      "X.shape : (10000, 200)\n",
      "y.shape : (10000,)\n",
      "y labels : [0 1]\n",
      "[ 0.06402486 -0.98061593 -1.18883537 -0.51764847 -0.82179227  0.0739652\n",
      "  1.44180342  0.19518421 -0.29517086  1.47912689 -0.71346016  2.27275175\n",
      "  0.28846036 -0.85953266 -0.1726296  -0.85107848 -0.95317766 -2.00699533\n",
      " -0.31136413 -0.7217688   0.13594839  0.33877825 -0.19495469 -0.76098685\n",
      "  0.39539052  0.40980633 -0.60746196  0.98047923  0.1500861  -0.05655616\n",
      " -0.13474669  1.03574626 -2.29733106 -0.80930129 -0.69837076  0.60693337\n",
      "  1.11681786 -0.36264125  0.88164179 -0.28123448 -0.25376441 -0.44192162\n",
      "  0.39608794  0.31059178  0.8104255  -1.96554892 -1.09859579  0.03105522\n",
      " -0.07453454  1.318829   -0.95275898  2.00532532  0.39633251 -0.66545447\n",
      "  0.20218599 -1.30227946  0.01582459  0.75926255 -0.6900173  -0.24935142\n",
      " -0.38016661 -0.99870114  0.05998168  0.53265137  0.24895892 -0.9193293\n",
      "  0.03199864 -1.62689223  0.802138   -0.96420766 -0.89326835 -1.23573376\n",
      " -0.04185463 -0.09536766  0.74000348 -0.57833403 -0.89306309  1.12140292\n",
      "  0.65226326  0.51699624  0.31305377  0.7006331  -0.51253472 -1.34751161\n",
      " -0.6194882   0.60925824  0.42878544  0.86644316 -0.47190628 -1.07089702\n",
      "  1.05480371  1.5517869   0.21283252 -0.33797829 -0.81921139 -0.82794641\n",
      " -1.84282092 -0.51698771  0.46103226  0.83309758 -2.36386919  1.13440027\n",
      "  0.85471659  0.41171037  0.57953396  2.82487222 -0.09218159  1.53953318\n",
      "  0.33830649  1.97346174  0.89080707 -0.86554754 -0.48638745 -2.50848314\n",
      "  1.2649538   0.25232053  0.31474596  0.66006721 -0.98340059  0.66864086\n",
      " -0.33288422 -1.13737221  1.6720571  -1.69951511 -0.89586762  0.6305654\n",
      "  2.24565762 -1.51248267 -0.59798961  1.47946259  1.22751051 -0.73547966\n",
      "  0.64439336  0.61261868 -0.89107198  0.35817108  0.71092806 -0.69433569\n",
      "  1.16677806  0.39739377 -0.07375867 -0.24058792 -0.78341827  1.13877717\n",
      "  1.53719574  0.5482593  -0.9501798   1.95029931 -0.2587398  -1.22572675\n",
      " -1.09929601 -0.97339464 -1.60119015 -1.08224296 -0.71728689 -0.6217848\n",
      "  0.29023871  1.01270349 -1.51283002 -1.38259807  0.36623123  0.5062461\n",
      " -0.82288963 -1.00063009  1.06007312 -1.49632315  1.33139248  0.91610953\n",
      "  0.21334274  0.75215168 -1.58762763 -0.93067495 -0.45042122  0.55460088\n",
      "  1.86190691  1.07459619 -0.13183198  0.67967445 -1.56337336 -0.37863533\n",
      " -0.24301793 -0.66259113  1.11855811  0.10087373  1.54602125 -0.10325147\n",
      " -1.5875706   1.07934477  0.29415154  0.85605842 -0.23411109 -0.36032568\n",
      " -2.99436973  0.79658561  1.28370706  0.01948211  1.47567738  2.04529496\n",
      " -1.49468152 -2.01034676]\n"
     ]
    }
   ],
   "source": [
    "print (\"X.shape :\", X.shape)\n",
    "print (\"y.shape :\", y.shape)\n",
    "print (\"y labels :\", np.unique(y))\n",
    "\n",
    "# print some sample data, row 0\n",
    "print (X[0])"
   ]
  },
  {
   "cell_type": "code",
   "execution_count": 4,
   "id": "8d850605-fbfa-4617-85c8-82c76cf35f58",
   "metadata": {},
   "outputs": [],
   "source": [
    "# Let's select the following components\n",
    "## TODO: change this and see the accuracy \n",
    "number_of_fetures_to_select = 20"
   ]
  },
  {
   "cell_type": "markdown",
   "id": "94193b46-d533-4874-aedf-40551d6ecc01",
   "metadata": {},
   "source": [
    "## Scale Data\n",
    "\n",
    "Scaling could be helpful"
   ]
  },
  {
   "cell_type": "code",
   "execution_count": 5,
   "id": "37ed2ca8-9516-4572-8a5f-43cf326ec929",
   "metadata": {},
   "outputs": [
    {
     "name": "stdout",
     "output_type": "stream",
     "text": [
      "[ 0.04770272 -0.98658802 -1.18344408 -0.5183699  -0.80923477  0.0859903\n",
      "  1.42009405  0.20030586 -0.29378248  1.46814489 -0.69634149  2.30114892\n",
      "  0.27919382 -0.87524643 -0.17578529 -0.85687621 -0.9525012  -2.02582782\n",
      " -0.32641631 -0.72053224  0.15226315  0.35694245 -0.19734155 -0.74651541\n",
      "  0.40287909  0.41156388 -0.58746466  0.98508857  0.14742188 -0.05019948\n",
      " -0.11991529  1.04390248 -2.29950898 -0.79466717 -0.68918474  0.5946041\n",
      "  1.11689857 -0.35777014  0.88653489 -0.26495005 -0.24280115 -0.45757415\n",
      "  0.37048396  0.30909569  0.81830433 -1.96304863 -1.08863354  0.04133296\n",
      " -0.06475763  1.30836774 -0.93787528  2.02650904  0.40977975 -0.67020634\n",
      "  0.21012081 -1.30353674  0.02537702  0.7531799  -0.67726781 -0.2538229\n",
      " -0.38373184 -1.01560314  0.06221751  0.53654089  0.26124819 -0.92173107\n",
      "  0.02082859 -1.62358882  0.80719164 -0.96539627 -0.88632467 -1.23655713\n",
      " -0.03004084 -0.0900905   0.73178283 -0.58097747 -0.8967538   1.11118355\n",
      "  0.65790279  0.52865891  0.32406436  0.69701246 -0.51730608 -1.35420078\n",
      " -0.64076893  0.61076073  0.41117078  0.87531033 -0.4796086  -1.08552393\n",
      "  1.05676151  1.5561218   0.20548105 -0.34124979 -0.83086586 -0.83870787\n",
      " -1.85313045 -0.50414801  0.45651187  0.83649516 -2.34344765  1.14667099\n",
      "  0.85415218  0.40438664  0.57691384  2.85563183 -0.10837952  1.54784619\n",
      "  0.35937928  1.98696019  0.88338009 -0.87820886 -0.48783637 -2.48958287\n",
      "  1.27758218  0.25666707  0.31142484  0.64166258 -1.00424934  0.6602158\n",
      " -0.27552727 -1.15631098  1.68413451 -1.68781918 -0.89979885  0.6424637\n",
      "  2.24762713 -1.51812373 -0.60793286  1.48588585  1.22140239 -0.73506979\n",
      "  0.62999858  0.60375751 -0.91536687  0.3494951   0.71044668 -0.71409434\n",
      "  1.19172048  0.38497598 -0.07141609 -0.26100451 -0.80010728  1.15132633\n",
      "  1.54921067  0.53753548 -0.9305221   1.92752382 -0.26553632 -1.25315611\n",
      " -1.10812785 -0.97822762 -1.61366365 -1.06059179 -0.70561888 -0.63481944\n",
      "  0.20933796  0.98083849 -1.50222123 -1.3884881   0.35715859  0.53258736\n",
      " -0.833977   -0.96666755  1.05407649 -1.5076206   1.33720349  0.91308601\n",
      "  0.20380914  0.75569039 -1.60045874 -0.9423679  -0.4580698   0.55220975\n",
      "  1.87523542  1.09401898 -0.13199924  0.68340021 -1.53100518 -0.38151078\n",
      " -0.22499012 -0.66876476  1.12635412  0.08770737  1.58942966 -0.0999996\n",
      " -1.59213956  1.06928515  0.28550427  0.88633482 -0.22865009 -0.36322947\n",
      " -2.98137683  0.77737859  1.27769083  0.29177022  1.46098817  2.04597611\n",
      " -1.49865716 -1.97377552]\n"
     ]
    }
   ],
   "source": [
    "from sklearn.preprocessing import StandardScaler\n",
    "\n",
    "scaler = StandardScaler ()\n",
    "\n",
    "X_scaled = scaler.fit_transform(X)\n",
    "print (X_scaled[0])"
   ]
  },
  {
   "cell_type": "markdown",
   "id": "ca20fd64-234b-456a-aae3-00586c8246c5",
   "metadata": {},
   "source": [
    "## Step-2 : Train / Test Split"
   ]
  },
  {
   "cell_type": "code",
   "execution_count": 6,
   "id": "97a88bf5-39f1-419f-867b-b23daf9e0a6b",
   "metadata": {},
   "outputs": [
    {
     "name": "stdout",
     "output_type": "stream",
     "text": [
      "x_train1 : (8000, 200)\n",
      "x_test1 : (2000, 200)\n",
      "y_train : (8000,)\n",
      "y_test : (2000,)\n"
     ]
    }
   ],
   "source": [
    "from sklearn.model_selection import train_test_split\n",
    "\n",
    "## TODO : split data into train / test, with 20% for test\n",
    "## hint : 20% is 0.2\n",
    "\n",
    "X_train1,X_test1,y_train, y_test = train_test_split(X_scaled, y,  test_size=0.2, random_state=123)\n",
    "\n",
    "\n",
    "print (\"x_train1 :\" , X_train1.shape )\n",
    "print (\"x_test1 :\", X_test1.shape)\n",
    "print (\"y_train :\", y_train.shape)\n",
    "print (\"y_test :\", y_test.shape)"
   ]
  },
  {
   "cell_type": "markdown",
   "id": "7bfe7bb0-972e-4969-9f6f-319c00e07cba",
   "metadata": {},
   "source": [
    "## Step-3: Do a quick logistic regression on **all** data"
   ]
  },
  {
   "cell_type": "code",
   "execution_count": 7,
   "id": "299ef4b7-166f-4ac3-97f5-61063c55c844",
   "metadata": {},
   "outputs": [
    {
     "name": "stdout",
     "output_type": "stream",
     "text": [
      "CPU times: user 107 ms, sys: 9.33 ms, total: 116 ms\n",
      "Wall time: 71.2 ms\n"
     ]
    }
   ],
   "source": [
    "%%time\n",
    "\n",
    "import numpy as np\n",
    "from sklearn.linear_model import LogisticRegression\n",
    "from sklearn.ensemble import RandomForestClassifier\n",
    "from sklearn.svm import LinearSVC\n",
    "from sklearn.ensemble import GradientBoostingClassifier\n",
    "\n",
    "algo = LogisticRegression()\n",
    "# algo = RandomForestClassifier()\n",
    "#algo = LinearSVC(max_iter=5000)\n",
    "#algo = GradientBoostingClassifier()\n",
    "\n",
    "\n",
    "## TODO: fit (X_train, y_train)\n",
    "model1 = algo.fit(X_train1, np.ravel(y_train))"
   ]
  },
  {
   "cell_type": "markdown",
   "id": "807ca440-cc16-470c-b30d-03abfc4f660a",
   "metadata": {},
   "source": [
    "## Step-4: Evaluate"
   ]
  },
  {
   "cell_type": "code",
   "execution_count": 8,
   "id": "55262bd3-2e8c-4276-a74d-4d437fe5dedc",
   "metadata": {},
   "outputs": [
    {
     "name": "stdout",
     "output_type": "stream",
     "text": [
      "Train1 accuracy:  0.93775\n",
      "Test1 accuracy:  0.918\n"
     ]
    }
   ],
   "source": [
    "y_pred1 = model1.predict (X_test1)\n",
    "\n",
    "print (\"Train1 accuracy: \", model1.score(X_train1,y_train))\n",
    "print (\"Test1 accuracy: \", model1.score(X_test1, y_test))"
   ]
  },
  {
   "cell_type": "code",
   "execution_count": 9,
   "id": "88ce7717-60e9-476d-919b-2326cab5add7",
   "metadata": {},
   "outputs": [
    {
     "data": {
      "text/html": [
       "<div>\n",
       "<style scoped>\n",
       "    .dataframe tbody tr th:only-of-type {\n",
       "        vertical-align: middle;\n",
       "    }\n",
       "\n",
       "    .dataframe tbody tr th {\n",
       "        vertical-align: top;\n",
       "    }\n",
       "\n",
       "    .dataframe thead th {\n",
       "        text-align: right;\n",
       "    }\n",
       "</style>\n",
       "<table border=\"1\" class=\"dataframe\">\n",
       "  <thead>\n",
       "    <tr style=\"text-align: right;\">\n",
       "      <th></th>\n",
       "      <th>0</th>\n",
       "      <th>1</th>\n",
       "    </tr>\n",
       "  </thead>\n",
       "  <tbody>\n",
       "    <tr>\n",
       "      <th>0</th>\n",
       "      <td>937</td>\n",
       "      <td>68</td>\n",
       "    </tr>\n",
       "    <tr>\n",
       "      <th>1</th>\n",
       "      <td>96</td>\n",
       "      <td>899</td>\n",
       "    </tr>\n",
       "  </tbody>\n",
       "</table>\n",
       "</div>"
      ],
      "text/plain": [
       "     0    1\n",
       "0  937   68\n",
       "1   96  899"
      ]
     },
     "execution_count": 9,
     "metadata": {},
     "output_type": "execute_result"
    }
   ],
   "source": [
    "from sklearn.metrics import confusion_matrix\n",
    "import numpy as np\n",
    "\n",
    "cm_labels = np.unique(y)\n",
    "cm_array1 = confusion_matrix(y_test, y_pred1)\n",
    "#print (cm_array)\n",
    "\n",
    "cm_df1 = pd.DataFrame(cm_array1, index=cm_labels, columns=cm_labels)\n",
    "cm_df1"
   ]
  },
  {
   "cell_type": "code",
   "execution_count": 10,
   "id": "7d2a4f2c-acae-4904-8529-cdd5459e9e02",
   "metadata": {},
   "outputs": [
    {
     "data": {
      "text/plain": [
       "[]"
      ]
     },
     "execution_count": 10,
     "metadata": {},
     "output_type": "execute_result"
    },
    {
     "data": {
      "image/png": "[encoded data removed]",
      "text/plain": [
       "<Figure size 576x360 with 2 Axes>"
      ]
     },
     "metadata": {
      "needs_background": "light"
     },
     "output_type": "display_data"
    }
   ],
   "source": [
    "import matplotlib.pyplot as plt\n",
    "import seaborn as sns\n",
    "\n",
    "plt.figure(figsize = (8,5))\n",
    "\n",
    "# colormaps : cmap=\"YlGnBu\" , cmap=\"Greens\", cmap=\"Blues\",  cmap=\"Reds\"\n",
    "sns.heatmap(cm_df1, annot=True, cmap=\"Reds\", fmt='d').plot()"
   ]
  },
  {
   "cell_type": "markdown",
   "id": "9ac8ec0d-77a3-424d-8748-fadc2777effe",
   "metadata": {},
   "source": [
    "## Step-5 : Reduce Dimension\n",
    "\n",
    "We will try a few algorithms here.\n"
   ]
  },
  {
   "cell_type": "markdown",
   "id": "9d0144e6-d345-4b55-aa7a-fe8c78843b5a",
   "metadata": {},
   "source": [
    "### 5.1 - RFE\n",
    "\n",
    "https://scikit-learn.org/stable/modules/generated/sklearn.feature_selection.RFE.html"
   ]
  },
  {
   "cell_type": "code",
   "execution_count": 11,
   "id": "f4d2fa1b-7e1a-420f-b47f-4a4a911385b7",
   "metadata": {},
   "outputs": [],
   "source": [
    "from sklearn.feature_selection import RFE\n",
    "\n",
    "# Defining the Classification function\n",
    "estimator = LogisticRegression()\n",
    "\n",
    "# Reducing dimensionality to 250 features for backward elimination model\n",
    "feature_selector = RFE(estimator=estimator, n_features_to_select=number_of_fetures_to_select, verbose=0)"
   ]
  },
  {
   "cell_type": "markdown",
   "id": "9cc4e9ae-bd64-48db-b6f9-977a8d96dd06",
   "metadata": {},
   "source": [
    "### 5.2 - SelectKBest\n",
    "\n",
    "https://scikit-learn.org/stable/modules/generated/sklearn.feature_selection.SelectKBest.html"
   ]
  },
  {
   "cell_type": "code",
   "execution_count": 12,
   "id": "75a7e7e3-40eb-4134-8770-40f167f78872",
   "metadata": {},
   "outputs": [],
   "source": [
    "# from sklearn.feature_selection import SelectKBest\n",
    "\n",
    "# feature_selector = SelectKBest(k=number_of_fetures_to_select)"
   ]
  },
  {
   "cell_type": "markdown",
   "id": "8a58d726-87e1-4565-824d-762099fe5b3d",
   "metadata": {},
   "source": [
    "### 5.3 - PCA\n",
    "\n",
    "https://scikit-learn.org/stable/modules/generated/sklearn.decomposition.PCA.html"
   ]
  },
  {
   "cell_type": "code",
   "execution_count": 13,
   "id": "ef130a38-ae32-4b91-9bbc-02a192fba2cf",
   "metadata": {},
   "outputs": [],
   "source": [
    "# from sklearn.decomposition import PCA\n",
    "\n",
    "# feature_selector = PCA (n_components=number_of_fetures_to_select)"
   ]
  },
  {
   "cell_type": "markdown",
   "id": "d0ce510e-e83c-4646-83fa-98817002b37b",
   "metadata": {},
   "source": [
    "### 5.4 - FastICA\n",
    "\n",
    "https://scikit-learn.org/stable/modules/generated/sklearn.decomposition.FastICA.html?"
   ]
  },
  {
   "cell_type": "code",
   "execution_count": 14,
   "id": "487d2c5f-6108-452e-9b9e-e5a4ff2cf02b",
   "metadata": {},
   "outputs": [],
   "source": [
    "# from sklearn.decomposition import FastICA\n",
    "\n",
    "# feature_selector = FastICA(n_components=number_of_fetures_to_select, max_iter=1000, random_state=123) "
   ]
  },
  {
   "cell_type": "markdown",
   "id": "ea21c48e-4aa4-4155-b66f-84465d2316bf",
   "metadata": {},
   "source": [
    "### 5.5 - Factor Analysis\n",
    "\n",
    "https://scikit-learn.org/stable/modules/generated/sklearn.decomposition.FactorAnalysis.html"
   ]
  },
  {
   "cell_type": "code",
   "execution_count": 15,
   "id": "df5d7309-9610-4396-b5c3-d15355d72119",
   "metadata": {},
   "outputs": [],
   "source": [
    "# # Defining the number of factors\n",
    "# from sklearn.decomposition import FactorAnalysis\n",
    "\n",
    "# feature_selector = FactorAnalysis(n_components = number_of_fetures_to_select,random_state=123)"
   ]
  },
  {
   "cell_type": "markdown",
   "id": "cc48439c-829b-48a7-aa26-0b53836658eb",
   "metadata": {},
   "source": [
    "### Run Feature Selector"
   ]
  },
  {
   "cell_type": "code",
   "execution_count": 16,
   "id": "e19d330b-e699-4cdf-b457-b0fa5f68a28d",
   "metadata": {},
   "outputs": [
    {
     "name": "stdout",
     "output_type": "stream",
     "text": [
      "CPU times: user 20.5 s, sys: 338 ms, total: 20.8 s\n",
      "Wall time: 2.63 s\n"
     ]
    }
   ],
   "source": [
    "%%time\n",
    "\n",
    "feature_selector = feature_selector.fit(X, y)"
   ]
  },
  {
   "cell_type": "markdown",
   "id": "9bbd8d4c-8def-4e1d-b363-6db1d1eb8162",
   "metadata": {},
   "source": [
    "## Step-6: Which features were selected?"
   ]
  },
  {
   "cell_type": "code",
   "execution_count": 17,
   "id": "22b394da-c3aa-496c-9cf7-1c7d0e6a54cc",
   "metadata": {},
   "outputs": [],
   "source": [
    "# print indexes of features selected\n",
    "\n",
    "feature_selector.get_support(indices = True)"
   ]
  },
  {
   "cell_type": "markdown",
   "id": "bbed2e06-0dfd-45eb-a3b8-e1d396473bd0",
   "metadata": {},
   "source": [
    "## Step-7: Shape train/test with Feature Selector"
   ]
  },
  {
   "cell_type": "code",
   "execution_count": 18,
   "id": "4e71a2c5-9728-45b5-a731-05d5e1ac26d6",
   "metadata": {},
   "outputs": [
    {
     "name": "stdout",
     "output_type": "stream",
     "text": [
      "x_train1: (8000, 200)\n",
      "x_train2 : (8000, 20)\n",
      "x_test1: (2000, 200)\n",
      "x_test2 : (2000, 20)\n",
      "y_train : (8000,)\n",
      "y_test : (2000,)\n"
     ]
    }
   ],
   "source": [
    "from sklearn.model_selection import train_test_split\n",
    "\n",
    "## TODO : split data into train / test, with 20% for test\n",
    "## hint : 20% is 0.2\n",
    "\n",
    "X_train2 = feature_selector.transform(X_train1)\n",
    "\n",
    "X_test2 = feature_selector.transform(X_test1)\n",
    "\n",
    "print (\"x_train1:\" , X_train1.shape )\n",
    "print (\"x_train2 :\" , X_train2.shape )\n",
    "print (\"x_test1:\", X_test1.shape)\n",
    "print (\"x_test2 :\", X_test2.shape)\n",
    "print (\"y_train :\", y_train.shape)\n",
    "print (\"y_test :\", y_test.shape)"
   ]
  },
  {
   "cell_type": "markdown",
   "id": "1aaa10c0-7b5f-4846-ac00-d2f24c21950d",
   "metadata": {},
   "source": [
    "## Step-8: Let's do LR again"
   ]
  },
  {
   "cell_type": "code",
   "execution_count": 19,
   "id": "dab7ae58-bc73-4db9-9e95-d60eba80e3f1",
   "metadata": {},
   "outputs": [
    {
     "name": "stdout",
     "output_type": "stream",
     "text": [
      "CPU times: user 51.9 ms, sys: 3.83 ms, total: 55.7 ms\n",
      "Wall time: 6.94 ms\n"
     ]
    }
   ],
   "source": [
    "%%time\n",
    "\n",
    "import numpy as np\n",
    "from sklearn.linear_model import LogisticRegression\n",
    "from sklearn.ensemble import RandomForestClassifier\n",
    "from sklearn.svm import LinearSVC\n",
    "from sklearn.ensemble import GradientBoostingClassifier\n",
    "\n",
    "algo = LogisticRegression()\n",
    "# algo = RandomForestClassifier()\n",
    "#algo = LinearSVC(max_iter=5000)\n",
    "#algo = GradientBoostingClassifier()\n",
    "\n",
    "\n",
    "## TODO: fit (X_train, y_train)\n",
    "model2 = algo.fit(X_train2, np.ravel(y_train))"
   ]
  },
  {
   "cell_type": "code",
   "execution_count": 20,
   "id": "4b7b58cd-eead-4bc8-a65a-14a14d5ae352",
   "metadata": {},
   "outputs": [
    {
     "name": "stdout",
     "output_type": "stream",
     "text": [
      "Train accuracy 1:  0.93775\n",
      "Train accuracy 2:  0.93425\n",
      "Test accuracy 1:  0.918\n",
      "Test accuracy 2:  0.935\n"
     ]
    }
   ],
   "source": [
    "y_pred2 = model2.predict (X_test2)\n",
    "\n",
    "print (\"Train accuracy 1: \", model1.score(X_train1,y_train))\n",
    "print (\"Train accuracy 2: \", model2.score(X_train2,y_train))\n",
    "print (\"Test accuracy 1: \", model1.score(X_test1, y_test))\n",
    "print (\"Test accuracy 2: \", model2.score(X_test2, y_test))"
   ]
  },
  {
   "cell_type": "code",
   "execution_count": 21,
   "id": "5e14989c-b38a-43e3-86f5-631a78f84b2f",
   "metadata": {},
   "outputs": [],
   "source": [
    "from sklearn.metrics import confusion_matrix\n",
    "import numpy as np\n",
    "\n",
    "cm_labels = np.unique(y)\n",
    "cm_array2 = confusion_matrix(y_test, y_pred2)\n",
    "#print (cm_array)\n",
    "\n",
    "cm_df2 = pd.DataFrame(cm_array2, index=cm_labels, columns=cm_labels)"
   ]
  },
  {
   "cell_type": "code",
   "execution_count": 22,
   "id": "a380f121-e821-41ae-9b49-f3dca85db4f2",
   "metadata": {},
   "outputs": [
    {
     "name": "stdout",
     "output_type": "stream",
     "text": [
      "Confusion matrix 1 \n"
     ]
    },
    {
     "data": {
      "text/html": [
       "<div>\n",
       "<style scoped>\n",
       "    .dataframe tbody tr th:only-of-type {\n",
       "        vertical-align: middle;\n",
       "    }\n",
       "\n",
       "    .dataframe tbody tr th {\n",
       "        vertical-align: top;\n",
       "    }\n",
       "\n",
       "    .dataframe thead th {\n",
       "        text-align: right;\n",
       "    }\n",
       "</style>\n",
       "<table border=\"1\" class=\"dataframe\">\n",
       "  <thead>\n",
       "    <tr style=\"text-align: right;\">\n",
       "      <th></th>\n",
       "      <th>0</th>\n",
       "      <th>1</th>\n",
       "    </tr>\n",
       "  </thead>\n",
       "  <tbody>\n",
       "    <tr>\n",
       "      <th>0</th>\n",
       "      <td>937</td>\n",
       "      <td>68</td>\n",
       "    </tr>\n",
       "    <tr>\n",
       "      <th>1</th>\n",
       "      <td>96</td>\n",
       "      <td>899</td>\n",
       "    </tr>\n",
       "  </tbody>\n",
       "</table>\n",
       "</div>"
      ],
      "text/plain": [
       "     0    1\n",
       "0  937   68\n",
       "1   96  899"
      ]
     },
     "execution_count": 22,
     "metadata": {},
     "output_type": "execute_result"
    }
   ],
   "source": [
    "print (\"Confusion matrix 1 \")\n",
    "cm_df1"
   ]
  },
  {
   "cell_type": "code",
   "execution_count": 23,
   "id": "cc9467a5-2683-4293-86e3-a5456ffb77f2",
   "metadata": {},
   "outputs": [
    {
     "name": "stdout",
     "output_type": "stream",
     "text": [
      "Confusion matrix 2 \n"
     ]
    },
    {
     "data": {
      "text/html": [
       "<div>\n",
       "<style scoped>\n",
       "    .dataframe tbody tr th:only-of-type {\n",
       "        vertical-align: middle;\n",
       "    }\n",
       "\n",
       "    .dataframe tbody tr th {\n",
       "        vertical-align: top;\n",
       "    }\n",
       "\n",
       "    .dataframe thead th {\n",
       "        text-align: right;\n",
       "    }\n",
       "</style>\n",
       "<table border=\"1\" class=\"dataframe\">\n",
       "  <thead>\n",
       "    <tr style=\"text-align: right;\">\n",
       "      <th></th>\n",
       "      <th>0</th>\n",
       "      <th>1</th>\n",
       "    </tr>\n",
       "  </thead>\n",
       "  <tbody>\n",
       "    <tr>\n",
       "      <th>0</th>\n",
       "      <td>956</td>\n",
       "      <td>49</td>\n",
       "    </tr>\n",
       "    <tr>\n",
       "      <th>1</th>\n",
       "      <td>81</td>\n",
       "      <td>914</td>\n",
       "    </tr>\n",
       "  </tbody>\n",
       "</table>\n",
       "</div>"
      ],
      "text/plain": [
       "     0    1\n",
       "0  956   49\n",
       "1   81  914"
      ]
     },
     "execution_count": 23,
     "metadata": {},
     "output_type": "execute_result"
    }
   ],
   "source": [
    "print (\"Confusion matrix 2 \")\n",
    "cm_df2"
   ]
  },
  {
   "cell_type": "code",
   "execution_count": 24,
   "id": "8969ffa7-ae97-49ca-9954-cce0bcf06fba",
   "metadata": {},
   "outputs": [
    {
     "data": {
      "text/plain": [
       "[]"
      ]
     },
     "execution_count": 24,
     "metadata": {},
     "output_type": "execute_result"
    },
    {
     "data": {
      "image/png": "[encoded data removed]",
      "text/plain": [
       "<Figure size 432x288 with 2 Axes>"
      ]
     },
     "metadata": {
      "needs_background": "light"
     },
     "output_type": "display_data"
    }
   ],
   "source": [
    "import matplotlib.pyplot as plt\n",
    "import seaborn as sns\n",
    "\n",
    "# colormaps : cmap=\"YlGnBu\" , cmap=\"Greens\", cmap=\"Blues\",  cmap=\"Reds\"\n",
    "sns.heatmap(cm_df1, annot=True, cmap=\"Reds\", fmt='d').plot()"
   ]
  },
  {
   "cell_type": "code",
   "execution_count": 25,
   "id": "b2d9174b-a014-4277-b82f-2fe3de320633",
   "metadata": {},
   "outputs": [
    {
     "data": {
      "text/plain": [
       "[]"
      ]
     },
     "execution_count": 25,
     "metadata": {},
     "output_type": "execute_result"
    },
    {
     "data": {
      "image/png": "[encoded data removed]",
      "text/plain": [
       "<Figure size 432x288 with 2 Axes>"
      ]
     },
     "metadata": {
      "needs_background": "light"
     },
     "output_type": "display_data"
    }
   ],
   "source": [
    "sns.heatmap(cm_df2, annot=True, cmap=\"Reds\", fmt='d').plot()"
   ]
  }
 ],
 "metadata": {
  "kernelspec": {
   "display_name": "Python 3 (ipykernel)",
   "language": "python",
   "name": "python3"
  },
  "language_info": {
   "codemirror_mode": {
    "name": "ipython",
    "version": 3
   },
   "file_extension": ".py",
   "mimetype": "text/x-python",
   "name": "python",
   "nbconvert_exporter": "python",
   "pygments_lexer": "ipython3",
   "version": "3.8.13"
  }
 },
 "nbformat": 4,
 "nbformat_minor": 5
}
