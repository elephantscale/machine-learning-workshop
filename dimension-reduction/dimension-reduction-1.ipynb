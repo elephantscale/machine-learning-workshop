{
 "cells": [
  {
   "cell_type": "markdown",
   "id": "0a4d4069-d08c-4b26-af60-05fafce7fa9e",
   "metadata": {},
   "source": [
    "# Dealing with High Dimensional Data\n",
    "\n",
    "We are going to try different feature selectors"
   ]
  },
  {
   "cell_type": "code",
   "execution_count": 1,
   "id": "c5d19cb1-4179-4c99-9406-3e106a105aff",
   "metadata": {},
   "outputs": [],
   "source": [
    "import numpy as np\n",
    "import pandas as pd\n",
    "import matplotlib.pyplot as plt\n",
    "import seaborn as sns\n",
    "\n",
    "pd.options.display.float_format = '{:,.2f}'.format"
   ]
  },
  {
   "cell_type": "markdown",
   "id": "0f44c7a3-e79c-4446-987c-7d1c4a4fa291",
   "metadata": {},
   "source": [
    "## Step-1: High Dimensional Data"
   ]
  },
  {
   "cell_type": "code",
   "execution_count": 2,
   "id": "a0336329-1212-4319-b381-c5865f9b6af4",
   "metadata": {},
   "outputs": [
    {
     "name": "stdout",
     "output_type": "stream",
     "text": [
      "X.shape : (10000, 200)\n",
      "y.shape : (10000,)\n"
     ]
    }
   ],
   "source": [
    "from sklearn.datasets import make_classification\n",
    "\n",
    "X, y = make_classification(\n",
    "    n_samples = 10000,\n",
    "    n_features =200, \n",
    "    random_state=1)\n",
    "\n",
    "print (\"X.shape :\", X.shape)\n",
    "print (\"y.shape :\", y.shape)"
   ]
  },
  {
   "cell_type": "code",
   "execution_count": 3,
   "id": "8d850605-fbfa-4617-85c8-82c76cf35f58",
   "metadata": {},
   "outputs": [],
   "source": [
    "# Let's select the following components\n",
    "## TODO: change this and see the accuracy \n",
    "number_of_fetures_to_select = 20"
   ]
  },
  {
   "cell_type": "code",
   "execution_count": 4,
   "id": "8b86ebc1-1eb7-4f5d-b539-0500680fdf74",
   "metadata": {},
   "outputs": [],
   "source": [
    "# print some sample data, row 0\n",
    "# print (X[0])"
   ]
  },
  {
   "cell_type": "markdown",
   "id": "ca20fd64-234b-456a-aae3-00586c8246c5",
   "metadata": {},
   "source": [
    "## Step-2 : Train / Test Split"
   ]
  },
  {
   "cell_type": "code",
   "execution_count": 5,
   "id": "97a88bf5-39f1-419f-867b-b23daf9e0a6b",
   "metadata": {},
   "outputs": [
    {
     "name": "stdout",
     "output_type": "stream",
     "text": [
      "x_train1 : (8000, 200)\n",
      "x_test1 : (2000, 200)\n",
      "y_train : (8000,)\n",
      "y_test : (2000,)\n"
     ]
    }
   ],
   "source": [
    "from sklearn.model_selection import train_test_split\n",
    "\n",
    "## TODO : split data into train / test, with 20% for test\n",
    "## hint : 20% is 0.2\n",
    "\n",
    "X_train1,X_test1,y_train, y_test = train_test_split(X,y,  test_size=0.2, random_state=123)\n",
    "\n",
    "\n",
    "print (\"x_train1 :\" , X_train1.shape )\n",
    "print (\"x_test1 :\", X_test1.shape)\n",
    "print (\"y_train :\", y_train.shape)\n",
    "print (\"y_test :\", y_test.shape)"
   ]
  },
  {
   "cell_type": "markdown",
   "id": "7bfe7bb0-972e-4969-9f6f-319c00e07cba",
   "metadata": {},
   "source": [
    "## Step-3: Do a quick logistic regression on **all** data"
   ]
  },
  {
   "cell_type": "code",
   "execution_count": 6,
   "id": "299ef4b7-166f-4ac3-97f5-61063c55c844",
   "metadata": {},
   "outputs": [
    {
     "name": "stdout",
     "output_type": "stream",
     "text": [
      "CPU times: user 95.6 ms, sys: 4.62 ms, total: 100 ms\n",
      "Wall time: 34.5 ms\n"
     ]
    }
   ],
   "source": [
    "%%time\n",
    "\n",
    "import numpy as np\n",
    "from sklearn.linear_model import LogisticRegression\n",
    "from sklearn.ensemble import RandomForestClassifier\n",
    "from sklearn.svm import LinearSVC\n",
    "from sklearn.ensemble import GradientBoostingClassifier\n",
    "\n",
    "algo = LogisticRegression()\n",
    "# algo = RandomForestClassifier()\n",
    "#algo = LinearSVC(max_iter=5000)\n",
    "#algo = GradientBoostingClassifier()\n",
    "\n",
    "\n",
    "## TODO: fit (X_train, y_train)\n",
    "model1 = algo.fit(X_train1, np.ravel(y_train))"
   ]
  },
  {
   "cell_type": "markdown",
   "id": "807ca440-cc16-470c-b30d-03abfc4f660a",
   "metadata": {},
   "source": [
    "## Step-4: Evaluate"
   ]
  },
  {
   "cell_type": "code",
   "execution_count": 7,
   "id": "55262bd3-2e8c-4276-a74d-4d437fe5dedc",
   "metadata": {},
   "outputs": [
    {
     "name": "stdout",
     "output_type": "stream",
     "text": [
      "Train1 accuracy:  0.877875\n",
      "Test1 accuracy:  0.867\n"
     ]
    }
   ],
   "source": [
    "y_pred1 = model1.predict (X_test1)\n",
    "\n",
    "print (\"Train1 accuracy: \", model1.score(X_train1,y_train))\n",
    "print (\"Test1 accuracy: \", model1.score(X_test1, y_test))"
   ]
  },
  {
   "cell_type": "code",
   "execution_count": 8,
   "id": "88ce7717-60e9-476d-919b-2326cab5add7",
   "metadata": {},
   "outputs": [
    {
     "data": {
      "text/html": [
       "<div>\n",
       "<style scoped>\n",
       "    .dataframe tbody tr th:only-of-type {\n",
       "        vertical-align: middle;\n",
       "    }\n",
       "\n",
       "    .dataframe tbody tr th {\n",
       "        vertical-align: top;\n",
       "    }\n",
       "\n",
       "    .dataframe thead th {\n",
       "        text-align: right;\n",
       "    }\n",
       "</style>\n",
       "<table border=\"1\" class=\"dataframe\">\n",
       "  <thead>\n",
       "    <tr style=\"text-align: right;\">\n",
       "      <th></th>\n",
       "      <th>0</th>\n",
       "      <th>1</th>\n",
       "    </tr>\n",
       "  </thead>\n",
       "  <tbody>\n",
       "    <tr>\n",
       "      <th>0</th>\n",
       "      <td>888</td>\n",
       "      <td>115</td>\n",
       "    </tr>\n",
       "    <tr>\n",
       "      <th>1</th>\n",
       "      <td>151</td>\n",
       "      <td>846</td>\n",
       "    </tr>\n",
       "  </tbody>\n",
       "</table>\n",
       "</div>"
      ],
      "text/plain": [
       "     0    1\n",
       "0  888  115\n",
       "1  151  846"
      ]
     },
     "execution_count": 8,
     "metadata": {},
     "output_type": "execute_result"
    }
   ],
   "source": [
    "from sklearn.metrics import confusion_matrix\n",
    "import numpy as np\n",
    "\n",
    "cm_labels = np.unique(y)\n",
    "cm_array1 = confusion_matrix(y_test, y_pred1)\n",
    "#print (cm_array)\n",
    "\n",
    "cm_df1 = pd.DataFrame(cm_array1, index=cm_labels, columns=cm_labels)\n",
    "cm_df1"
   ]
  },
  {
   "cell_type": "code",
   "execution_count": 9,
   "id": "7d2a4f2c-acae-4904-8529-cdd5459e9e02",
   "metadata": {},
   "outputs": [
    {
     "data": {
      "text/plain": [
       "[]"
      ]
     },
     "execution_count": 9,
     "metadata": {},
     "output_type": "execute_result"
    },
    {
     "data": {
      "image/png": "[encoded data removed]",
      "text/plain": [
       "<Figure size 576x360 with 2 Axes>"
      ]
     },
     "metadata": {
      "needs_background": "light"
     },
     "output_type": "display_data"
    }
   ],
   "source": [
    "import matplotlib.pyplot as plt\n",
    "import seaborn as sns\n",
    "\n",
    "plt.figure(figsize = (8,5))\n",
    "\n",
    "# colormaps : cmap=\"YlGnBu\" , cmap=\"Greens\", cmap=\"Blues\",  cmap=\"Reds\"\n",
    "sns.heatmap(cm_df1, annot=True, cmap=\"Reds\", fmt='d').plot()"
   ]
  },
  {
   "cell_type": "markdown",
   "id": "9ac8ec0d-77a3-424d-8748-fadc2777effe",
   "metadata": {},
   "source": [
    "## Step-5 : Reduce Dimension\n",
    "\n",
    "We will try a few algorithms here.\n"
   ]
  },
  {
   "cell_type": "markdown",
   "id": "9d0144e6-d345-4b55-aa7a-fe8c78843b5a",
   "metadata": {},
   "source": [
    "### 5.1 - RFE\n",
    "\n",
    "https://scikit-learn.org/stable/modules/generated/sklearn.feature_selection.RFE.html"
   ]
  },
  {
   "cell_type": "code",
   "execution_count": 10,
   "id": "f4d2fa1b-7e1a-420f-b47f-4a4a911385b7",
   "metadata": {},
   "outputs": [],
   "source": [
    "from sklearn.feature_selection import RFE\n",
    "\n",
    "# Defining the Classification function\n",
    "estimator = LogisticRegression()\n",
    "\n",
    "# Reducing dimensionality to 250 features for backward elimination model\n",
    "feature_selector = RFE(estimator=estimator, n_features_to_select=number_of_fetures_to_select, verbose=0)"
   ]
  },
  {
   "cell_type": "markdown",
   "id": "9cc4e9ae-bd64-48db-b6f9-977a8d96dd06",
   "metadata": {},
   "source": [
    "### 5.2 - SelectKBest\n",
    "\n",
    "https://scikit-learn.org/stable/modules/generated/sklearn.feature_selection.SelectKBest.html"
   ]
  },
  {
   "cell_type": "code",
   "execution_count": 11,
   "id": "75a7e7e3-40eb-4134-8770-40f167f78872",
   "metadata": {},
   "outputs": [],
   "source": [
    "# from sklearn.feature_selection import SelectKBest\n",
    "\n",
    "# feature_selector = SelectKBest(k=number_of_fetures_to_select)"
   ]
  },
  {
   "cell_type": "markdown",
   "id": "8a58d726-87e1-4565-824d-762099fe5b3d",
   "metadata": {},
   "source": [
    "### 5.3 - PCA\n",
    "\n",
    "https://scikit-learn.org/stable/modules/generated/sklearn.decomposition.PCA.html"
   ]
  },
  {
   "cell_type": "code",
   "execution_count": 12,
   "id": "ef130a38-ae32-4b91-9bbc-02a192fba2cf",
   "metadata": {},
   "outputs": [],
   "source": [
    "# from sklearn.decomposition import PCA\n",
    "\n",
    "# feature_selector = PCA (n_components=number_of_fetures_to_select)"
   ]
  },
  {
   "cell_type": "markdown",
   "id": "d0ce510e-e83c-4646-83fa-98817002b37b",
   "metadata": {},
   "source": [
    "### 5.4 - FastICA\n",
    "\n",
    "https://scikit-learn.org/stable/modules/generated/sklearn.decomposition.FastICA.html?"
   ]
  },
  {
   "cell_type": "code",
   "execution_count": 13,
   "id": "487d2c5f-6108-452e-9b9e-e5a4ff2cf02b",
   "metadata": {},
   "outputs": [],
   "source": [
    "# from sklearn.decomposition import FastICA\n",
    "\n",
    "# feature_selector = FastICA(n_components=number_of_fetures_to_select, max_iter=1000, random_state=123) "
   ]
  },
  {
   "cell_type": "markdown",
   "id": "ea21c48e-4aa4-4155-b66f-84465d2316bf",
   "metadata": {},
   "source": [
    "### 5.5 - Factor Analysis\n",
    "\n",
    "https://scikit-learn.org/stable/modules/generated/sklearn.decomposition.FactorAnalysis.html"
   ]
  },
  {
   "cell_type": "code",
   "execution_count": 14,
   "id": "df5d7309-9610-4396-b5c3-d15355d72119",
   "metadata": {},
   "outputs": [],
   "source": [
    "# # Defining the number of factors\n",
    "# from sklearn.decomposition import FactorAnalysis\n",
    "\n",
    "# feature_selector = FactorAnalysis(n_components = number_of_fetures_to_select,random_state=123)"
   ]
  },
  {
   "cell_type": "markdown",
   "id": "cc48439c-829b-48a7-aa26-0b53836658eb",
   "metadata": {},
   "source": [
    "### Run Feature Selector"
   ]
  },
  {
   "cell_type": "code",
   "execution_count": 15,
   "id": "e19d330b-e699-4cdf-b457-b0fa5f68a28d",
   "metadata": {},
   "outputs": [
    {
     "name": "stdout",
     "output_type": "stream",
     "text": [
      "CPU times: user 16.8 s, sys: 142 ms, total: 17 s\n",
      "Wall time: 2.13 s\n"
     ]
    }
   ],
   "source": [
    "%%time\n",
    "\n",
    "feature_selector = feature_selector.fit(X, y)"
   ]
  },
  {
   "cell_type": "markdown",
   "id": "9bbd8d4c-8def-4e1d-b363-6db1d1eb8162",
   "metadata": {},
   "source": [
    "## Step-6: Which features were selected?"
   ]
  },
  {
   "cell_type": "code",
   "execution_count": 16,
   "id": "22b394da-c3aa-496c-9cf7-1c7d0e6a54cc",
   "metadata": {},
   "outputs": [],
   "source": [
    "# print indexes of features selected\n",
    "\n",
    "# feature_selector.get_support(indices = True)"
   ]
  },
  {
   "cell_type": "markdown",
   "id": "bbed2e06-0dfd-45eb-a3b8-e1d396473bd0",
   "metadata": {},
   "source": [
    "## Step-7: Shape train/test with Feature Selector"
   ]
  },
  {
   "cell_type": "code",
   "execution_count": 17,
   "id": "4e71a2c5-9728-45b5-a731-05d5e1ac26d6",
   "metadata": {},
   "outputs": [
    {
     "name": "stdout",
     "output_type": "stream",
     "text": [
      "x_train1: (8000, 200)\n",
      "x_train2 : (8000, 20)\n",
      "x_test1: (2000, 200)\n",
      "x_test2 : (2000, 20)\n",
      "y_train : (8000,)\n",
      "y_test : (2000,)\n"
     ]
    }
   ],
   "source": [
    "from sklearn.model_selection import train_test_split\n",
    "\n",
    "## TODO : split data into train / test, with 20% for test\n",
    "## hint : 20% is 0.2\n",
    "\n",
    "X_train2 = feature_selector.transform(X_train1)\n",
    "\n",
    "X_test2 = feature_selector.transform(X_test1)\n",
    "\n",
    "print (\"x_train1:\" , X_train1.shape )\n",
    "print (\"x_train2 :\" , X_train2.shape )\n",
    "print (\"x_test1:\", X_test1.shape)\n",
    "print (\"x_test2 :\", X_test2.shape)\n",
    "print (\"y_train :\", y_train.shape)\n",
    "print (\"y_test :\", y_test.shape)"
   ]
  },
  {
   "cell_type": "markdown",
   "id": "1aaa10c0-7b5f-4846-ac00-d2f24c21950d",
   "metadata": {},
   "source": [
    "## Step-8: Let's do LR again"
   ]
  },
  {
   "cell_type": "code",
   "execution_count": 18,
   "id": "dab7ae58-bc73-4db9-9e95-d60eba80e3f1",
   "metadata": {},
   "outputs": [
    {
     "name": "stdout",
     "output_type": "stream",
     "text": [
      "CPU times: user 44.5 ms, sys: 0 ns, total: 44.5 ms\n",
      "Wall time: 5.55 ms\n"
     ]
    }
   ],
   "source": [
    "%%time\n",
    "\n",
    "import numpy as np\n",
    "from sklearn.linear_model import LogisticRegression\n",
    "from sklearn.ensemble import RandomForestClassifier\n",
    "from sklearn.svm import LinearSVC\n",
    "from sklearn.ensemble import GradientBoostingClassifier\n",
    "\n",
    "algo = LogisticRegression()\n",
    "# algo = RandomForestClassifier()\n",
    "#algo = LinearSVC(max_iter=5000)\n",
    "#algo = GradientBoostingClassifier()\n",
    "\n",
    "\n",
    "## TODO: fit (X_train, y_train)\n",
    "model2 = algo.fit(X_train2, np.ravel(y_train))"
   ]
  },
  {
   "cell_type": "code",
   "execution_count": 19,
   "id": "4b7b58cd-eead-4bc8-a65a-14a14d5ae352",
   "metadata": {},
   "outputs": [
    {
     "name": "stdout",
     "output_type": "stream",
     "text": [
      "Train accuracy 1:  0.877875\n",
      "Train accuracy 2:  0.879\n",
      "Test accuracy 1:  0.867\n",
      "Test accuracy 2:  0.871\n"
     ]
    }
   ],
   "source": [
    "y_pred2 = model2.predict (X_test2)\n",
    "\n",
    "print (\"Train accuracy 1: \", model1.score(X_train1,y_train))\n",
    "print (\"Train accuracy 2: \", model2.score(X_train2,y_train))\n",
    "print (\"Test accuracy 1: \", model1.score(X_test1, y_test))\n",
    "print (\"Test accuracy 2: \", model2.score(X_test2, y_test))"
   ]
  },
  {
   "cell_type": "code",
   "execution_count": 20,
   "id": "5e14989c-b38a-43e3-86f5-631a78f84b2f",
   "metadata": {},
   "outputs": [],
   "source": [
    "from sklearn.metrics import confusion_matrix\n",
    "import numpy as np\n",
    "\n",
    "cm_labels = np.unique(y)\n",
    "cm_array2 = confusion_matrix(y_test, y_pred2)\n",
    "#print (cm_array)\n",
    "\n",
    "cm_df2 = pd.DataFrame(cm_array2, index=cm_labels, columns=cm_labels)"
   ]
  },
  {
   "cell_type": "code",
   "execution_count": 21,
   "id": "a380f121-e821-41ae-9b49-f3dca85db4f2",
   "metadata": {},
   "outputs": [
    {
     "name": "stdout",
     "output_type": "stream",
     "text": [
      "Confusion matrix 1 \n"
     ]
    },
    {
     "data": {
      "text/html": [
       "<div>\n",
       "<style scoped>\n",
       "    .dataframe tbody tr th:only-of-type {\n",
       "        vertical-align: middle;\n",
       "    }\n",
       "\n",
       "    .dataframe tbody tr th {\n",
       "        vertical-align: top;\n",
       "    }\n",
       "\n",
       "    .dataframe thead th {\n",
       "        text-align: right;\n",
       "    }\n",
       "</style>\n",
       "<table border=\"1\" class=\"dataframe\">\n",
       "  <thead>\n",
       "    <tr style=\"text-align: right;\">\n",
       "      <th></th>\n",
       "      <th>0</th>\n",
       "      <th>1</th>\n",
       "    </tr>\n",
       "  </thead>\n",
       "  <tbody>\n",
       "    <tr>\n",
       "      <th>0</th>\n",
       "      <td>888</td>\n",
       "      <td>115</td>\n",
       "    </tr>\n",
       "    <tr>\n",
       "      <th>1</th>\n",
       "      <td>151</td>\n",
       "      <td>846</td>\n",
       "    </tr>\n",
       "  </tbody>\n",
       "</table>\n",
       "</div>"
      ],
      "text/plain": [
       "     0    1\n",
       "0  888  115\n",
       "1  151  846"
      ]
     },
     "execution_count": 21,
     "metadata": {},
     "output_type": "execute_result"
    }
   ],
   "source": [
    "print (\"Confusion matrix 1 \")\n",
    "cm_df1"
   ]
  },
  {
   "cell_type": "code",
   "execution_count": 22,
   "id": "cc9467a5-2683-4293-86e3-a5456ffb77f2",
   "metadata": {},
   "outputs": [
    {
     "name": "stdout",
     "output_type": "stream",
     "text": [
      "Confusion matrix 2 \n"
     ]
    },
    {
     "data": {
      "text/html": [
       "<div>\n",
       "<style scoped>\n",
       "    .dataframe tbody tr th:only-of-type {\n",
       "        vertical-align: middle;\n",
       "    }\n",
       "\n",
       "    .dataframe tbody tr th {\n",
       "        vertical-align: top;\n",
       "    }\n",
       "\n",
       "    .dataframe thead th {\n",
       "        text-align: right;\n",
       "    }\n",
       "</style>\n",
       "<table border=\"1\" class=\"dataframe\">\n",
       "  <thead>\n",
       "    <tr style=\"text-align: right;\">\n",
       "      <th></th>\n",
       "      <th>0</th>\n",
       "      <th>1</th>\n",
       "    </tr>\n",
       "  </thead>\n",
       "  <tbody>\n",
       "    <tr>\n",
       "      <th>0</th>\n",
       "      <td>896</td>\n",
       "      <td>107</td>\n",
       "    </tr>\n",
       "    <tr>\n",
       "      <th>1</th>\n",
       "      <td>151</td>\n",
       "      <td>846</td>\n",
       "    </tr>\n",
       "  </tbody>\n",
       "</table>\n",
       "</div>"
      ],
      "text/plain": [
       "     0    1\n",
       "0  896  107\n",
       "1  151  846"
      ]
     },
     "execution_count": 22,
     "metadata": {},
     "output_type": "execute_result"
    }
   ],
   "source": [
    "print (\"Confusion matrix 2 \")\n",
    "cm_df2"
   ]
  },
  {
   "cell_type": "code",
   "execution_count": 23,
   "id": "8969ffa7-ae97-49ca-9954-cce0bcf06fba",
   "metadata": {},
   "outputs": [
    {
     "data": {
      "text/plain": [
       "[]"
      ]
     },
     "execution_count": 23,
     "metadata": {},
     "output_type": "execute_result"
    },
    {
     "data": {
      "image/png": "[encoded data removed]",
      "text/plain": [
       "<Figure size 432x288 with 2 Axes>"
      ]
     },
     "metadata": {
      "needs_background": "light"
     },
     "output_type": "display_data"
    }
   ],
   "source": [
    "import matplotlib.pyplot as plt\n",
    "import seaborn as sns\n",
    "\n",
    "# colormaps : cmap=\"YlGnBu\" , cmap=\"Greens\", cmap=\"Blues\",  cmap=\"Reds\"\n",
    "sns.heatmap(cm_df1, annot=True, cmap=\"Reds\", fmt='d').plot()"
   ]
  },
  {
   "cell_type": "code",
   "execution_count": 24,
   "id": "b2d9174b-a014-4277-b82f-2fe3de320633",
   "metadata": {},
   "outputs": [
    {
     "data": {
      "text/plain": [
       "[]"
      ]
     },
     "execution_count": 24,
     "metadata": {},
     "output_type": "execute_result"
    },
    {
     "data": {
      "image/png": "[encoded data removed]",
      "text/plain": [
       "<Figure size 432x288 with 2 Axes>"
      ]
     },
     "metadata": {
      "needs_background": "light"
     },
     "output_type": "display_data"
    }
   ],
   "source": [
    "sns.heatmap(cm_df2, annot=True, cmap=\"Reds\", fmt='d').plot()"
   ]
  }
 ],
 "metadata": {
  "kernelspec": {
   "display_name": "Python 3 (ipykernel)",
   "language": "python",
   "name": "python3"
  },
  "language_info": {
   "codemirror_mode": {
    "name": "ipython",
    "version": 3
   },
   "file_extension": ".py",
   "mimetype": "text/x-python",
   "name": "python",
   "nbconvert_exporter": "python",
   "pygments_lexer": "ipython3",
   "version": "3.8.13"
  }
 },
 "nbformat": 4,
 "nbformat_minor": 5
}
