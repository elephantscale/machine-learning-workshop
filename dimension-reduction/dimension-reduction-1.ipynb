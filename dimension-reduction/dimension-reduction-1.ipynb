{
 "cells": [
  {
   "cell_type": "markdown",
   "id": "0a4d4069-d08c-4b26-af60-05fafce7fa9e",
   "metadata": {},
   "source": [
    "# Dealing with High Dimensional Data\n",
    "\n",
    "We are going to try different feature selectors"
   ]
  },
  {
   "cell_type": "code",
   "execution_count": 1,
   "id": "c5d19cb1-4179-4c99-9406-3e106a105aff",
   "metadata": {},
   "outputs": [],
   "source": [
    "import numpy as np\n",
    "import pandas as pd\n",
    "import matplotlib.pyplot as plt\n",
    "import seaborn as sns\n",
    "\n",
    "pd.options.display.float_format = '{:,.2f}'.format"
   ]
  },
  {
   "cell_type": "markdown",
   "id": "0f44c7a3-e79c-4446-987c-7d1c4a4fa291",
   "metadata": {},
   "source": [
    "## Step-1: High Dimensional Data"
   ]
  },
  {
   "cell_type": "code",
   "execution_count": 2,
   "id": "c404c558-445d-49ab-9c9e-fc73adbbc9fb",
   "metadata": {},
   "outputs": [],
   "source": [
    "# data = pd.read_csv()\n",
    "# do your EDA\n",
    "# do your cleanup\n",
    "# X = \n",
    "# y = "
   ]
  },
  {
   "cell_type": "code",
   "execution_count": 3,
   "id": "a0336329-1212-4319-b381-c5865f9b6af4",
   "metadata": {},
   "outputs": [],
   "source": [
    "from sklearn.datasets import make_classification\n",
    "\n",
    "X, y = make_classification(\n",
    "    n_samples = 50000,  # rows\n",
    "    n_features =200,    # columns\n",
    "    n_classes=2,    # binary classifier\n",
    "    random_state=123)"
   ]
  },
  {
   "cell_type": "code",
   "execution_count": 4,
   "id": "087c4d11-174b-43d8-bf4f-bd47d6967aa1",
   "metadata": {},
   "outputs": [
    {
     "name": "stdout",
     "output_type": "stream",
     "text": [
      "X.shape : (50000, 200)\n",
      "y.shape : (50000,)\n",
      "y labels : [0 1]\n",
      "[ 1.73891244 -1.18804012 -1.28358018 -0.54161286 -1.84167768 -0.08074319\n",
      " -1.28359196 -1.58095369  0.96948623  2.66567568  0.41127292  0.38108973\n",
      " -0.25240963 -0.55844604  1.07563465  0.0277148  -0.32735659 -0.25010415\n",
      " -0.24488672  1.91188512  0.70348063 -0.70871817 -0.65338254 -1.05397975\n",
      " -0.79492723  0.05899362 -0.88701505 -1.4792244  -1.3551333   0.78052601\n",
      "  1.0127443  -0.93307074 -1.66203283 -1.06443259 -2.11999848  1.23413945\n",
      "  0.422762    0.44261697  0.76274453  1.07075613  1.85146927  1.28708121\n",
      " -0.86083403  0.22324481 -0.44228435  0.11548223 -1.26228145  0.70408758\n",
      "  2.06101952 -0.19186046  0.61176773 -0.74121454 -0.38345612 -1.67559239\n",
      " -0.30819127  1.34383366  1.01027749 -1.90022181 -0.90559364 -0.65121289\n",
      " -0.25605178 -0.06603191 -0.30990643  1.1332993  -0.4710367  -1.09062041\n",
      "  1.10725614  2.48812407 -1.05659804  0.67720675 -1.22993607  0.51860894\n",
      " -0.01421047  2.37388524  0.04494114  0.47544967  0.37099537  0.58473131\n",
      " -0.20778802 -0.72580706  0.66777125 -1.26448001  0.2715562  -0.51970346\n",
      " -1.58908826 -0.7851988  -2.90875236  1.03276809  1.40904449 -0.81320016\n",
      " -0.80506203  0.61253885 -0.82536721  0.71310857 -0.28611485 -1.48511095\n",
      "  1.13700456 -1.16885485  1.54799224  0.59074728  0.18170571 -0.28398403\n",
      "  1.96156903  1.19286933 -0.62379512 -1.54497009 -0.11765189  0.50888396\n",
      "  0.14168709 -0.3258234  -0.54132792 -0.80988217  0.38232786  0.36903717\n",
      "  0.18518488  0.70670952 -0.65358496  0.59752132  0.51063268 -0.53166717\n",
      "  0.78386464  0.35911151 -1.12883207  0.42763458  3.37527328  0.63708133\n",
      "  2.27304403 -0.20123688 -0.10688593  0.62323006  0.06201827 -0.35779194\n",
      " -2.16507518 -0.79703494 -0.19294085 -0.60871352 -0.16246967  1.57383971\n",
      " -1.62528361  1.02820068 -0.74432577  2.24023151  0.22320759  0.1352054\n",
      " -1.46309889  1.26449977 -0.80172724 -0.8987455   0.82597774 -0.14638893\n",
      " -0.0708614  -0.66848147 -0.87103995 -1.46693768  0.11154281 -0.76776092\n",
      " -1.63030463  0.01925224  0.38268005  0.07225161  0.02938411 -0.12472884\n",
      " -0.78081178 -0.21342013 -0.9781932   0.74530382  1.43285762  0.23743547\n",
      "  0.36605932  0.84515255 -2.96785914  0.27482904  2.17489209 -0.52309169\n",
      "  0.6040713  -0.78109381  0.23981673  0.48373676 -0.63402224 -1.06355468\n",
      " -0.28347363 -0.04219119 -1.91665685  0.80778648 -0.00458936  1.25023795\n",
      "  0.16214122 -0.1065257   0.400827   -0.20350127  0.09909485 -1.15181715\n",
      "  0.75210094  2.56079801 -1.31097801 -1.67833712  0.93994457  0.27738055\n",
      "  2.97041229  0.72039172]\n"
     ]
    }
   ],
   "source": [
    "print (\"X.shape :\", X.shape)\n",
    "print (\"y.shape :\", y.shape)\n",
    "print (\"y labels :\", np.unique(y))\n",
    "\n",
    "# print some sample data, row 0\n",
    "print (X[0])"
   ]
  },
  {
   "cell_type": "code",
   "execution_count": 5,
   "id": "8d850605-fbfa-4617-85c8-82c76cf35f58",
   "metadata": {},
   "outputs": [],
   "source": [
    "# Let's select the following components\n",
    "## TODO: change this and see the accuracy \n",
    "number_of_fetures_to_select = 5"
   ]
  },
  {
   "cell_type": "markdown",
   "id": "94193b46-d533-4874-aedf-40551d6ecc01",
   "metadata": {},
   "source": [
    "## Scale Data\n",
    "\n",
    "Scaling could be helpful"
   ]
  },
  {
   "cell_type": "code",
   "execution_count": 6,
   "id": "37ed2ca8-9516-4572-8a5f-43cf326ec929",
   "metadata": {},
   "outputs": [
    {
     "name": "stdout",
     "output_type": "stream",
     "text": [
      "[ 1.74720867 -1.19888868 -1.292611   -0.55084503 -1.83810184 -0.07405325\n",
      " -1.27360638 -1.57441442  0.97849581  2.65195111  0.40973095  0.37964833\n",
      " -0.2557605  -0.56544735  1.07348782  0.03762771 -0.32655611 -0.25182855\n",
      " -0.24916649  1.9069386   0.70394203 -0.70797185 -0.65576526 -1.04910909\n",
      " -0.79372929  0.0633992  -0.88857746 -1.47139906 -1.35279313  0.78734089\n",
      "  1.01238364 -0.92760809 -1.6608378  -0.83503757 -2.12957737  1.22999048\n",
      "  0.42586732  0.43701447  0.75546129  1.07571033  1.84360816  1.27399943\n",
      " -0.85600063  0.21458699 -0.4407686   0.11121154 -1.26104794  0.70218759\n",
      "  2.06165283 -0.19076387  0.61076069 -0.74136976 -0.38689563 -1.66519333\n",
      " -0.30454469  1.34407446  1.01131133 -1.89544368 -0.90056726 -0.64099632\n",
      " -0.25218521 -0.06929873 -0.30809047  1.13606127 -0.47552028 -1.08075927\n",
      "  1.10618013  2.49702228 -1.05157346  0.68172391 -1.22834788  0.51195283\n",
      " -0.01820573  2.38106795  0.04019698  0.47338981  0.37048001  0.58279072\n",
      " -0.21117299 -0.72606409  0.66258879 -1.27322402  0.27018072 -0.52396687\n",
      " -1.58393689 -0.79209563 -2.88684379  1.02577487  1.40794742 -0.82267374\n",
      " -0.81247758  0.61091231 -0.82128615  0.55649333 -0.28248163 -1.49398989\n",
      "  1.14251078 -1.16356734  1.54579486  0.59355824  0.18407122 -0.28642166\n",
      "  1.97669814  1.1981819  -0.63073857 -1.53809116 -0.11868771  0.51789002\n",
      "  0.13826008 -0.32437254 -0.54415803 -0.8132446   0.37629445  0.36165598\n",
      "  0.18488498  0.70382684 -0.65396609  0.59165317  0.49717861 -0.52906309\n",
      "  0.78668469  0.35668361 -1.12226412  0.42727129  3.36171934  0.63505057\n",
      "  2.27554354 -0.20222514 -0.11197661  0.62592426  0.05969857 -0.35127927\n",
      " -2.16207716 -0.80124389 -0.2002398  -0.6093771  -0.16578809  1.56652014\n",
      " -1.63337927  1.02696084 -0.74199666  2.23005782  0.22180063  0.12971662\n",
      " -1.46399084  1.26326925 -0.79876144 -0.90280579  0.82482731 -0.14865929\n",
      " -0.06885086 -0.67102978 -0.87125723 -1.47430368  0.10612753 -0.76705066\n",
      " -1.63758515  0.04096332  0.3850897   0.06868588  0.02692853 -0.11473244\n",
      " -0.77477871 -0.21812148 -0.98359998  0.75139597  1.43495793  0.24273012\n",
      "  0.36428896  0.85069091 -2.99193118  0.26747315  2.17960312 -0.52750242\n",
      "  0.60633736 -0.61991062  0.24355966  0.48711313 -0.63683925 -1.05923922\n",
      " -0.28113457 -0.03625496 -1.92527353  0.80193951 -0.00410214  1.25295485\n",
      "  0.15718807 -0.11071867  0.40360754 -0.19755395  0.10183104 -1.15011642\n",
      "  0.75843306  2.5664162  -1.31505688 -1.68275282  0.94031045  0.27334798\n",
      "  2.98388363  0.72281446]\n"
     ]
    }
   ],
   "source": [
    "from sklearn.preprocessing import StandardScaler\n",
    "\n",
    "scaler = StandardScaler ()\n",
    "\n",
    "X_scaled = scaler.fit_transform(X)\n",
    "print (X_scaled[0])"
   ]
  },
  {
   "cell_type": "markdown",
   "id": "ca20fd64-234b-456a-aae3-00586c8246c5",
   "metadata": {},
   "source": [
    "## Step-2 : Train / Test Split"
   ]
  },
  {
   "cell_type": "code",
   "execution_count": 7,
   "id": "97a88bf5-39f1-419f-867b-b23daf9e0a6b",
   "metadata": {},
   "outputs": [
    {
     "name": "stdout",
     "output_type": "stream",
     "text": [
      "x_train1 : (40000, 200)\n",
      "x_test1 : (10000, 200)\n",
      "y_train : (40000,)\n",
      "y_test : (10000,)\n"
     ]
    }
   ],
   "source": [
    "from sklearn.model_selection import train_test_split\n",
    "\n",
    "## TODO : split data into train / test, with 20% for test\n",
    "## hint : 20% is 0.2\n",
    "\n",
    "X_train1,X_test1,y_train, y_test = train_test_split(X_scaled, y,  test_size=0.2, random_state=123)\n",
    "\n",
    "\n",
    "print (\"x_train1 :\" , X_train1.shape )\n",
    "print (\"x_test1 :\", X_test1.shape)\n",
    "print (\"y_train :\", y_train.shape)\n",
    "print (\"y_test :\", y_test.shape)"
   ]
  },
  {
   "cell_type": "markdown",
   "id": "7bfe7bb0-972e-4969-9f6f-319c00e07cba",
   "metadata": {},
   "source": [
    "## Step-3: Do a quick logistic regression on **all** data"
   ]
  },
  {
   "cell_type": "code",
   "execution_count": 8,
   "id": "299ef4b7-166f-4ac3-97f5-61063c55c844",
   "metadata": {},
   "outputs": [
    {
     "name": "stdout",
     "output_type": "stream",
     "text": [
      "CPU times: user 664 ms, sys: 3.85 ms, total: 668 ms\n",
      "Wall time: 108 ms\n"
     ]
    }
   ],
   "source": [
    "%%time\n",
    "\n",
    "import numpy as np\n",
    "from sklearn.linear_model import LogisticRegression\n",
    "from sklearn.ensemble import RandomForestClassifier\n",
    "from sklearn.svm import LinearSVC\n",
    "from sklearn.ensemble import GradientBoostingClassifier\n",
    "\n",
    "algo = LogisticRegression()\n",
    "# algo = RandomForestClassifier()\n",
    "#algo = LinearSVC(max_iter=5000)\n",
    "#algo = GradientBoostingClassifier()\n",
    "\n",
    "\n",
    "## TODO: fit (X_train, y_train)\n",
    "model1 = algo.fit(X_train1, np.ravel(y_train))"
   ]
  },
  {
   "cell_type": "markdown",
   "id": "807ca440-cc16-470c-b30d-03abfc4f660a",
   "metadata": {},
   "source": [
    "## Step-4: Evaluate"
   ]
  },
  {
   "cell_type": "code",
   "execution_count": 9,
   "id": "55262bd3-2e8c-4276-a74d-4d437fe5dedc",
   "metadata": {},
   "outputs": [
    {
     "name": "stdout",
     "output_type": "stream",
     "text": [
      "Train1 accuracy:  0.9399\n",
      "Test1 accuracy:  0.9381\n"
     ]
    }
   ],
   "source": [
    "y_pred1 = model1.predict (X_test1)\n",
    "\n",
    "print (\"Train1 accuracy: \", model1.score(X_train1,y_train))\n",
    "print (\"Test1 accuracy: \", model1.score(X_test1, y_test))"
   ]
  },
  {
   "cell_type": "code",
   "execution_count": 10,
   "id": "88ce7717-60e9-476d-919b-2326cab5add7",
   "metadata": {},
   "outputs": [
    {
     "data": {
      "text/html": [
       "<div>\n",
       "<style scoped>\n",
       "    .dataframe tbody tr th:only-of-type {\n",
       "        vertical-align: middle;\n",
       "    }\n",
       "\n",
       "    .dataframe tbody tr th {\n",
       "        vertical-align: top;\n",
       "    }\n",
       "\n",
       "    .dataframe thead th {\n",
       "        text-align: right;\n",
       "    }\n",
       "</style>\n",
       "<table border=\"1\" class=\"dataframe\">\n",
       "  <thead>\n",
       "    <tr style=\"text-align: right;\">\n",
       "      <th></th>\n",
       "      <th>0</th>\n",
       "      <th>1</th>\n",
       "    </tr>\n",
       "  </thead>\n",
       "  <tbody>\n",
       "    <tr>\n",
       "      <th>0</th>\n",
       "      <td>4543</td>\n",
       "      <td>468</td>\n",
       "    </tr>\n",
       "    <tr>\n",
       "      <th>1</th>\n",
       "      <td>151</td>\n",
       "      <td>4838</td>\n",
       "    </tr>\n",
       "  </tbody>\n",
       "</table>\n",
       "</div>"
      ],
      "text/plain": [
       "      0     1\n",
       "0  4543   468\n",
       "1   151  4838"
      ]
     },
     "execution_count": 10,
     "metadata": {},
     "output_type": "execute_result"
    }
   ],
   "source": [
    "from sklearn.metrics import confusion_matrix\n",
    "import numpy as np\n",
    "\n",
    "cm_labels = np.unique(y)\n",
    "cm_array1 = confusion_matrix(y_test, y_pred1)\n",
    "#print (cm_array)\n",
    "\n",
    "cm_df1 = pd.DataFrame(cm_array1, index=cm_labels, columns=cm_labels)\n",
    "cm_df1"
   ]
  },
  {
   "cell_type": "code",
   "execution_count": 11,
   "id": "7d2a4f2c-acae-4904-8529-cdd5459e9e02",
   "metadata": {},
   "outputs": [
    {
     "data": {
      "text/plain": [
       "[]"
      ]
     },
     "execution_count": 11,
     "metadata": {},
     "output_type": "execute_result"
    },
    {
     "data": {
      "image/png": "[encoded data removed]",
      "text/plain": [
       "<Figure size 576x360 with 2 Axes>"
      ]
     },
     "metadata": {
      "needs_background": "light"
     },
     "output_type": "display_data"
    }
   ],
   "source": [
    "import matplotlib.pyplot as plt\n",
    "import seaborn as sns\n",
    "\n",
    "plt.figure(figsize = (8,5))\n",
    "\n",
    "# colormaps : cmap=\"YlGnBu\" , cmap=\"Greens\", cmap=\"Blues\",  cmap=\"Reds\"\n",
    "sns.heatmap(cm_df1, annot=True, cmap=\"Reds\", fmt='d').plot()"
   ]
  },
  {
   "cell_type": "markdown",
   "id": "9ac8ec0d-77a3-424d-8748-fadc2777effe",
   "metadata": {},
   "source": [
    "## Step-5 : Reduce Dimension\n",
    "\n",
    "We will try a few algorithms here.\n"
   ]
  },
  {
   "cell_type": "markdown",
   "id": "9d0144e6-d345-4b55-aa7a-fe8c78843b5a",
   "metadata": {},
   "source": [
    "### 5.1 - RFE\n",
    "\n",
    "https://scikit-learn.org/stable/modules/generated/sklearn.feature_selection.RFE.html"
   ]
  },
  {
   "cell_type": "code",
   "execution_count": 12,
   "id": "f4d2fa1b-7e1a-420f-b47f-4a4a911385b7",
   "metadata": {},
   "outputs": [],
   "source": [
    "# %%time\n",
    "\n",
    "# from sklearn.feature_selection import RFE\n",
    "\n",
    "# # Defining the Classification function\n",
    "# estimator = LogisticRegression()\n",
    "\n",
    "# # Reducing dimensionality to 250 features for backward elimination model\n",
    "# feature_selector = RFE(estimator=estimator, n_features_to_select=number_of_fetures_to_select, verbose=0)\n",
    "\n",
    "# feature_selector = feature_selector.fit(X_scaled, y)"
   ]
  },
  {
   "cell_type": "code",
   "execution_count": 13,
   "id": "6a4b91ab-3cea-414b-a1b8-272fd4479147",
   "metadata": {},
   "outputs": [],
   "source": [
    "# # print indexes of features selected\n",
    "\n",
    "# feature_selector.get_support(indices = True)"
   ]
  },
  {
   "cell_type": "markdown",
   "id": "9cc4e9ae-bd64-48db-b6f9-977a8d96dd06",
   "metadata": {},
   "source": [
    "### 5.2 - SelectKBest\n",
    "\n",
    "https://scikit-learn.org/stable/modules/generated/sklearn.feature_selection.SelectKBest.html"
   ]
  },
  {
   "cell_type": "code",
   "execution_count": 14,
   "id": "75a7e7e3-40eb-4134-8770-40f167f78872",
   "metadata": {},
   "outputs": [],
   "source": [
    "# %%time \n",
    "\n",
    "# from sklearn.feature_selection import SelectKBest\n",
    "\n",
    "# feature_selector = SelectKBest(k=number_of_fetures_to_select)\n",
    "\n",
    "# feature_selector = feature_selector.fit(X_scaled, y)"
   ]
  },
  {
   "cell_type": "code",
   "execution_count": 15,
   "id": "c26d3c30-5fc4-4d41-99a0-0199b41933a1",
   "metadata": {},
   "outputs": [],
   "source": [
    "# feature_selector.get_support(indices = True)"
   ]
  },
  {
   "cell_type": "markdown",
   "id": "8a58d726-87e1-4565-824d-762099fe5b3d",
   "metadata": {},
   "source": [
    "### 5.3 - PCA\n",
    "\n",
    "https://scikit-learn.org/stable/modules/generated/sklearn.decomposition.PCA.html"
   ]
  },
  {
   "cell_type": "code",
   "execution_count": 16,
   "id": "ef130a38-ae32-4b91-9bbc-02a192fba2cf",
   "metadata": {},
   "outputs": [
    {
     "name": "stdout",
     "output_type": "stream",
     "text": [
      "CPU times: user 1.17 s, sys: 20.5 ms, total: 1.19 s\n",
      "Wall time: 172 ms\n"
     ]
    }
   ],
   "source": [
    "%%time \n",
    "\n",
    "from sklearn.decomposition import PCA\n",
    "\n",
    "feature_selector = PCA (n_components=number_of_fetures_to_select)\n",
    "\n",
    "feature_selector = feature_selector.fit(X_scaled)"
   ]
  },
  {
   "cell_type": "markdown",
   "id": "d0ce510e-e83c-4646-83fa-98817002b37b",
   "metadata": {},
   "source": [
    "### 5.4 - FastICA\n",
    "\n",
    "https://scikit-learn.org/stable/modules/generated/sklearn.decomposition.FastICA.html?"
   ]
  },
  {
   "cell_type": "code",
   "execution_count": 17,
   "id": "487d2c5f-6108-452e-9b9e-e5a4ff2cf02b",
   "metadata": {},
   "outputs": [],
   "source": [
    "# %%time \n",
    "\n",
    "# from sklearn.decomposition import FastICA\n",
    "\n",
    "# feature_selector = FastICA(n_components=number_of_fetures_to_select, max_iter=1000, random_state=123) \n",
    "\n",
    "# feature_selector = feature_selector.fit(X_scaled)"
   ]
  },
  {
   "cell_type": "markdown",
   "id": "ea21c48e-4aa4-4155-b66f-84465d2316bf",
   "metadata": {},
   "source": [
    "### 5.5 - Factor Analysis\n",
    "\n",
    "https://scikit-learn.org/stable/modules/generated/sklearn.decomposition.FactorAnalysis.html"
   ]
  },
  {
   "cell_type": "code",
   "execution_count": 18,
   "id": "df5d7309-9610-4396-b5c3-d15355d72119",
   "metadata": {},
   "outputs": [],
   "source": [
    "# %%time\n",
    "\n",
    "# # # Defining the number of factors\n",
    "# from sklearn.decomposition import FactorAnalysis\n",
    "\n",
    "# feature_selector = FactorAnalysis(n_components = number_of_fetures_to_select,random_state=123)\n",
    "\n",
    "# feature_selector = feature_selector.fit(X_scaled)"
   ]
  },
  {
   "cell_type": "markdown",
   "id": "bbed2e06-0dfd-45eb-a3b8-e1d396473bd0",
   "metadata": {},
   "source": [
    "## Step-6: Shape train/test with Feature Selector"
   ]
  },
  {
   "cell_type": "code",
   "execution_count": 19,
   "id": "4e71a2c5-9728-45b5-a731-05d5e1ac26d6",
   "metadata": {},
   "outputs": [
    {
     "name": "stdout",
     "output_type": "stream",
     "text": [
      "x_train1: (40000, 200)\n",
      "x_train2 : (40000, 5)\n",
      "x_test1: (10000, 200)\n",
      "x_test2 : (10000, 5)\n",
      "y_train : (40000,)\n",
      "y_test : (10000,)\n"
     ]
    }
   ],
   "source": [
    "from sklearn.model_selection import train_test_split\n",
    "\n",
    "## TODO : split data into train / test, with 20% for test\n",
    "## hint : 20% is 0.2\n",
    "\n",
    "X_train2 = feature_selector.transform(X_train1)\n",
    "\n",
    "X_test2 = feature_selector.transform(X_test1)\n",
    "\n",
    "print (\"x_train1:\" , X_train1.shape )\n",
    "print (\"x_train2 :\" , X_train2.shape )\n",
    "print (\"x_test1:\", X_test1.shape)\n",
    "print (\"x_test2 :\", X_test2.shape)\n",
    "print (\"y_train :\", y_train.shape)\n",
    "print (\"y_test :\", y_test.shape)"
   ]
  },
  {
   "cell_type": "markdown",
   "id": "1aaa10c0-7b5f-4846-ac00-d2f24c21950d",
   "metadata": {},
   "source": [
    "## Step-7: Let's do LR again"
   ]
  },
  {
   "cell_type": "code",
   "execution_count": 20,
   "id": "dab7ae58-bc73-4db9-9e95-d60eba80e3f1",
   "metadata": {},
   "outputs": [
    {
     "name": "stdout",
     "output_type": "stream",
     "text": [
      "CPU times: user 182 ms, sys: 3.78 ms, total: 186 ms\n",
      "Wall time: 23.1 ms\n"
     ]
    }
   ],
   "source": [
    "%%time\n",
    "\n",
    "import numpy as np\n",
    "from sklearn.linear_model import LogisticRegression\n",
    "from sklearn.ensemble import RandomForestClassifier\n",
    "from sklearn.svm import LinearSVC\n",
    "from sklearn.ensemble import GradientBoostingClassifier\n",
    "\n",
    "algo = LogisticRegression()\n",
    "# algo = RandomForestClassifier()\n",
    "#algo = LinearSVC(max_iter=5000)\n",
    "#algo = GradientBoostingClassifier()\n",
    "\n",
    "\n",
    "## TODO: fit (X_train, y_train)\n",
    "model2 = algo.fit(X_train2, np.ravel(y_train))"
   ]
  },
  {
   "cell_type": "code",
   "execution_count": 21,
   "id": "4b7b58cd-eead-4bc8-a65a-14a14d5ae352",
   "metadata": {},
   "outputs": [
    {
     "name": "stdout",
     "output_type": "stream",
     "text": [
      "Train accuracy 1:  0.9399\n",
      "Train accuracy 2:  0.93755\n",
      "Test accuracy 1:  0.9381\n",
      "Test accuracy 2:  0.9367\n"
     ]
    }
   ],
   "source": [
    "y_pred2 = model2.predict (X_test2)\n",
    "\n",
    "print (\"Train accuracy 1: \", model1.score(X_train1,y_train))\n",
    "print (\"Train accuracy 2: \", model2.score(X_train2,y_train))\n",
    "print (\"Test accuracy 1: \", model1.score(X_test1, y_test))\n",
    "print (\"Test accuracy 2: \", model2.score(X_test2, y_test))"
   ]
  },
  {
   "cell_type": "code",
   "execution_count": 22,
   "id": "5e14989c-b38a-43e3-86f5-631a78f84b2f",
   "metadata": {},
   "outputs": [],
   "source": [
    "from sklearn.metrics import confusion_matrix\n",
    "import numpy as np\n",
    "\n",
    "cm_labels = np.unique(y)\n",
    "cm_array2 = confusion_matrix(y_test, y_pred2)\n",
    "#print (cm_array)\n",
    "\n",
    "cm_df2 = pd.DataFrame(cm_array2, index=cm_labels, columns=cm_labels)"
   ]
  },
  {
   "cell_type": "code",
   "execution_count": 23,
   "id": "a380f121-e821-41ae-9b49-f3dca85db4f2",
   "metadata": {},
   "outputs": [
    {
     "name": "stdout",
     "output_type": "stream",
     "text": [
      "Confusion matrix 1 \n"
     ]
    },
    {
     "data": {
      "text/html": [
       "<div>\n",
       "<style scoped>\n",
       "    .dataframe tbody tr th:only-of-type {\n",
       "        vertical-align: middle;\n",
       "    }\n",
       "\n",
       "    .dataframe tbody tr th {\n",
       "        vertical-align: top;\n",
       "    }\n",
       "\n",
       "    .dataframe thead th {\n",
       "        text-align: right;\n",
       "    }\n",
       "</style>\n",
       "<table border=\"1\" class=\"dataframe\">\n",
       "  <thead>\n",
       "    <tr style=\"text-align: right;\">\n",
       "      <th></th>\n",
       "      <th>0</th>\n",
       "      <th>1</th>\n",
       "    </tr>\n",
       "  </thead>\n",
       "  <tbody>\n",
       "    <tr>\n",
       "      <th>0</th>\n",
       "      <td>4543</td>\n",
       "      <td>468</td>\n",
       "    </tr>\n",
       "    <tr>\n",
       "      <th>1</th>\n",
       "      <td>151</td>\n",
       "      <td>4838</td>\n",
       "    </tr>\n",
       "  </tbody>\n",
       "</table>\n",
       "</div>"
      ],
      "text/plain": [
       "      0     1\n",
       "0  4543   468\n",
       "1   151  4838"
      ]
     },
     "execution_count": 23,
     "metadata": {},
     "output_type": "execute_result"
    }
   ],
   "source": [
    "print (\"Confusion matrix 1 \")\n",
    "cm_df1"
   ]
  },
  {
   "cell_type": "code",
   "execution_count": 24,
   "id": "cc9467a5-2683-4293-86e3-a5456ffb77f2",
   "metadata": {},
   "outputs": [
    {
     "name": "stdout",
     "output_type": "stream",
     "text": [
      "Confusion matrix 2 \n"
     ]
    },
    {
     "data": {
      "text/html": [
       "<div>\n",
       "<style scoped>\n",
       "    .dataframe tbody tr th:only-of-type {\n",
       "        vertical-align: middle;\n",
       "    }\n",
       "\n",
       "    .dataframe tbody tr th {\n",
       "        vertical-align: top;\n",
       "    }\n",
       "\n",
       "    .dataframe thead th {\n",
       "        text-align: right;\n",
       "    }\n",
       "</style>\n",
       "<table border=\"1\" class=\"dataframe\">\n",
       "  <thead>\n",
       "    <tr style=\"text-align: right;\">\n",
       "      <th></th>\n",
       "      <th>0</th>\n",
       "      <th>1</th>\n",
       "    </tr>\n",
       "  </thead>\n",
       "  <tbody>\n",
       "    <tr>\n",
       "      <th>0</th>\n",
       "      <td>4538</td>\n",
       "      <td>473</td>\n",
       "    </tr>\n",
       "    <tr>\n",
       "      <th>1</th>\n",
       "      <td>160</td>\n",
       "      <td>4829</td>\n",
       "    </tr>\n",
       "  </tbody>\n",
       "</table>\n",
       "</div>"
      ],
      "text/plain": [
       "      0     1\n",
       "0  4538   473\n",
       "1   160  4829"
      ]
     },
     "execution_count": 24,
     "metadata": {},
     "output_type": "execute_result"
    }
   ],
   "source": [
    "print (\"Confusion matrix 2 \")\n",
    "cm_df2"
   ]
  },
  {
   "cell_type": "code",
   "execution_count": 25,
   "id": "8969ffa7-ae97-49ca-9954-cce0bcf06fba",
   "metadata": {},
   "outputs": [
    {
     "data": {
      "text/plain": [
       "[]"
      ]
     },
     "execution_count": 25,
     "metadata": {},
     "output_type": "execute_result"
    },
    {
     "data": {
      "image/png": "[encoded data removed]",
      "text/plain": [
       "<Figure size 432x288 with 2 Axes>"
      ]
     },
     "metadata": {
      "needs_background": "light"
     },
     "output_type": "display_data"
    }
   ],
   "source": [
    "import matplotlib.pyplot as plt\n",
    "import seaborn as sns\n",
    "\n",
    "# colormaps : cmap=\"YlGnBu\" , cmap=\"Greens\", cmap=\"Blues\",  cmap=\"Reds\"\n",
    "sns.heatmap(cm_df1, annot=True, cmap=\"Reds\", fmt='d').plot()"
   ]
  },
  {
   "cell_type": "code",
   "execution_count": 26,
   "id": "b2d9174b-a014-4277-b82f-2fe3de320633",
   "metadata": {},
   "outputs": [
    {
     "data": {
      "text/plain": [
       "[]"
      ]
     },
     "execution_count": 26,
     "metadata": {},
     "output_type": "execute_result"
    },
    {
     "data": {
      "image/png": "[encoded data removed]",
      "text/plain": [
       "<Figure size 432x288 with 2 Axes>"
      ]
     },
     "metadata": {
      "needs_background": "light"
     },
     "output_type": "display_data"
    }
   ],
   "source": [
    "sns.heatmap(cm_df2, annot=True, cmap=\"Reds\", fmt='d').plot()"
   ]
  },
  {
   "cell_type": "code",
   "execution_count": null,
   "id": "a7ad1332-814b-4a63-979f-91a8bc27841b",
   "metadata": {},
   "outputs": [],
   "source": []
  }
 ],
 "metadata": {
  "kernelspec": {
   "display_name": "Python 3 (ipykernel)",
   "language": "python",
   "name": "python3"
  },
  "language_info": {
   "codemirror_mode": {
    "name": "ipython",
    "version": 3
   },
   "file_extension": ".py",
   "mimetype": "text/x-python",
   "name": "python",
   "nbconvert_exporter": "python",
   "pygments_lexer": "ipython3",
   "version": "3.8.13"
  }
 },
 "nbformat": 4,
 "nbformat_minor": 5
}
