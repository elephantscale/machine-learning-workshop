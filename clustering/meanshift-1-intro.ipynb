{
 "cells": [
  {
   "cell_type": "markdown",
   "id": "09712675-392e-4f3c-9180-89a5935fee0d",
   "metadata": {},
   "source": [
    "# MeanShift"
   ]
  },
  {
   "cell_type": "markdown",
   "id": "a111984f-b646-4999-9453-980d37993d00",
   "metadata": {},
   "source": [
    "## Step-1: Generate Some Data"
   ]
  },
  {
   "cell_type": "code",
   "execution_count": null,
   "id": "d2a7e838-741b-4cdb-9a14-7874a0fc66a1",
   "metadata": {},
   "outputs": [],
   "source": [
    "from sklearn.datasets import make_blobs\n",
    "import matplotlib.pyplot as plt\n",
    "\n",
    "num_centers = 5\n",
    "\n",
    "X, y = make_blobs(n_samples=1000,  n_features=2, centers=num_centers)\n",
    "\n",
    "print ('X.shape:', X.shape)\n",
    "print ('y.shape:', y.shape)\n",
    "\n",
    "# note the color coding of clusters\n",
    "plt.scatter(X[:, 0], X[:, 1], marker='o', c=y,\n",
    "            s=25, edgecolor='k')\n",
    "plt.show()"
   ]
  },
  {
   "cell_type": "markdown",
   "id": "0876b881-dcd1-441c-bf99-3d95ac8ada9a",
   "metadata": {},
   "source": [
    "## Step-2: Run MeanShift Clustering"
   ]
  },
  {
   "cell_type": "code",
   "execution_count": null,
   "id": "d91f9062-f12b-4cd9-8fd6-d69c182dd463",
   "metadata": {},
   "outputs": [],
   "source": [
    "from sklearn.cluster import MeanShift\n",
    "\n",
    "ms = MeanShift(bandwidth=2).fit(X)\n",
    "print (\"num clusters : \", len(ms.cluster_centers_))\n",
    "print (ms.cluster_centers_)"
   ]
  },
  {
   "cell_type": "markdown",
   "id": "ecee3d12-ee3b-452a-b1ac-2c836be29054",
   "metadata": {},
   "source": [
    "## Step-3: Visualize Clusters"
   ]
  },
  {
   "cell_type": "code",
   "execution_count": null,
   "id": "9edb8336-5f6a-43ea-bc46-d0a9c55460db",
   "metadata": {},
   "outputs": [],
   "source": [
    "## plot predicted results\n",
    "y_pred = ms.predict(X)\n",
    "\n",
    "## now observe the color coding of clusters\n",
    "## do they match?\n",
    "plt.scatter(X[:, 0], X[:, 1], c=y_pred)\n",
    "plt.scatter(ms.cluster_centers_[:][0:,0], ms.cluster_centers_[:][0:,1], marker='^', c='red')"
   ]
  },
  {
   "cell_type": "markdown",
   "id": "8cce2b32-21ec-4ccb-ae56-7d85909dbfb2",
   "metadata": {},
   "source": [
    "## Experiment\n",
    "\n",
    "Change the bandwidth in step-2 and run the algorithm.  Does it change the predicted clusters?"
   ]
  }
 ],
 "metadata": {
  "kernelspec": {
   "display_name": "Python 3 (ipykernel)",
   "language": "python",
   "name": "python3"
  },
  "language_info": {
   "codemirror_mode": {
    "name": "ipython",
    "version": 3
   },
   "file_extension": ".py",
   "mimetype": "text/x-python",
   "name": "python",
   "nbconvert_exporter": "python",
   "pygments_lexer": "ipython3",
   "version": "3.8.11"
  }
 },
 "nbformat": 4,
 "nbformat_minor": 5
}
