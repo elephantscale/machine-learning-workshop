{
 "cells": [
  {
   "cell_type": "markdown",
   "id": "09712675-392e-4f3c-9180-89a5935fee0d",
   "metadata": {},
   "source": [
    "# MeanShift"
   ]
  },
  {
   "cell_type": "markdown",
   "id": "a111984f-b646-4999-9453-980d37993d00",
   "metadata": {},
   "source": [
    "## Step-1: Generate Some Data"
   ]
  },
  {
   "cell_type": "code",
   "execution_count": null,
   "id": "d2a7e838-741b-4cdb-9a14-7874a0fc66a1",
   "metadata": {},
   "outputs": [],
   "source": [
    "from sklearn.datasets import make_blobs\n",
    "import matplotlib.pyplot as plt\n",
    "\n",
    "num_centers = 5\n",
    "\n",
    "X, y = make_blobs(n_samples=1000,  n_features=2, centers=num_centers)\n",
    "\n",
    "print ('X.shape:', X.shape)\n",
    "print ('y.shape:', y.shape)\n",
    "\n",
    "# note the color coding of clusters\n",
    "plt.scatter(X[:, 0], X[:, 1], marker='o', c=y,\n",
    "            s=25, edgecolor='k')\n",
    "plt.show()"
   ]
  },
  {
   "cell_type": "markdown",
   "id": "0876b881-dcd1-441c-bf99-3d95ac8ada9a",
   "metadata": {},
   "source": [
    "## Step-2: Run MeanShift Clustering"
   ]
  },
  {
   "cell_type": "code",
   "execution_count": null,
   "id": "d91f9062-f12b-4cd9-8fd6-d69c182dd463",
   "metadata": {},
   "outputs": [],
   "source": [
    "from sklearn.cluster import MeanShift\n",
    "\n",
    "ms = MeanShift(bandwidth=2).fit(X)\n",
    "print (\"num clusters : \", len(ms.cluster_centers_))\n",
    "print (ms.cluster_centers_)"
   ]
  },
  {
   "cell_type": "markdown",
   "id": "ecee3d12-ee3b-452a-b1ac-2c836be29054",
   "metadata": {},
   "source": [
    "## Step-3: Visualize Clusters"
   ]
  },
  {
   "cell_type": "code",
   "execution_count": null,
   "id": "9edb8336-5f6a-43ea-bc46-d0a9c55460db",
   "metadata": {},
   "outputs": [],
   "source": [
    "## plot predicted results\n",
    "y_pred = ms.predict(X)\n",
    "\n",
    "## now observe the color coding of clusters\n",
    "## do they match?\n",
    "plt.scatter(X[:, 0], X[:, 1], c=y_pred)\n",
    "plt.scatter(ms.cluster_centers_[:][0:,0], ms.cluster_centers_[:][0:,1], marker='^', c='red')"
   ]
  },
  {
   "cell_type": "markdown",
   "id": "8cce2b32-21ec-4ccb-ae56-7d85909dbfb2",
   "metadata": {},
   "source": [
    "## Experiment\n",
    "\n",
    "Change the bandwidth in step-2 and run the algorithm.  Does it change the predicted clusters?"
   ]
  },
  {
   "cell_type": "markdown",
   "id": "52a91957-7492-45c2-bfed-b887158551df",
   "metadata": {},
   "source": [
    "## Iterate over bandwidth (silhouette_score)"
   ]
  },
  {
   "cell_type": "code",
   "execution_count": null,
   "id": "a74d72ca-e961-4f02-8603-472c4bf75281",
   "metadata": {},
   "outputs": [],
   "source": [
    "from sklearn.cluster import MeanShift\n",
    "from  sklearn.metrics import silhouette_score\n",
    "\n",
    "bandwidths = [0.5, 1, 1.5, 2, 2.5, 3]\n",
    "sil_scores = []\n",
    "for bandwidth in bandwidths:\n",
    "  ms = MeanShift(bandwidth=bandwidth).fit(X)\n",
    "  y_pred = ms.predict(X)\n",
    "  sil_score = silhouette_score (X, y_pred)\n",
    "  sil_scores.append(sil_score)\n",
    "  print (\"bandwidth={}, num clusters={}, silhoutte_score={}\".format(\n",
    "      bandwidth, len(ms.cluster_centers_), sil_score))"
   ]
  },
  {
   "cell_type": "code",
   "execution_count": null,
   "id": "e4c334b2-efe4-4f59-9369-9c08372d800d",
   "metadata": {},
   "outputs": [],
   "source": [
    "import pandas as pd\n",
    "df_sil = pd.DataFrame({'bandwidth': bandwidths, 'sil_score':sil_scores})\n",
    "df_sil"
   ]
  },
  {
   "cell_type": "code",
   "execution_count": null,
   "id": "508949ec-2c6c-4e11-bafa-29e8502c146d",
   "metadata": {},
   "outputs": [],
   "source": [
    "df_sil.plot(x=\"bandwidth\")"
   ]
  },
  {
   "cell_type": "markdown",
   "id": "98541097-de3a-4d5d-957e-c0950debaf91",
   "metadata": {},
   "source": [
    "## Iterate over bandwidth (Calinski-Harabasz)"
   ]
  },
  {
   "cell_type": "code",
   "execution_count": null,
   "id": "068fa98d-9f8a-4586-bf30-61c99192abf2",
   "metadata": {},
   "outputs": [],
   "source": [
    "from sklearn.metrics import calinski_harabasz_score\n",
    "from sklearn.cluster import MeanShift\n",
    "\n",
    "ch_scores = []\n",
    "\n",
    "bandwidths = [0.5, 1, 1.5, 2, 2.5, 3]\n",
    "sil_scores = []\n",
    "for bandwidth in bandwidths:\n",
    "  ms = MeanShift(bandwidth=bandwidth).fit(X)\n",
    "  y_pred = ms.predict(X)\n",
    "  ch_score = calinski_harabasz_score (X, y_pred)\n",
    "  ch_scores.append(ch_score)\n",
    "  print (\"bandwidth={}, num clusters={}, ch_score={}\".format(\n",
    "      bandwidth, len(ms.cluster_centers_), ch_score))"
   ]
  },
  {
   "cell_type": "code",
   "execution_count": null,
   "id": "b5aeabf5-7e73-4ab7-a605-e15ad971c851",
   "metadata": {},
   "outputs": [],
   "source": [
    "import pandas as pd\n",
    "df_ch = pd.DataFrame({'bandwidth': bandwidths, 'ch_score':ch_scores})\n",
    "df_ch"
   ]
  },
  {
   "cell_type": "code",
   "execution_count": null,
   "id": "c8cc49af-788d-45dc-b781-cf5c4e9c31ba",
   "metadata": {},
   "outputs": [],
   "source": [
    "df_ch.plot(x=\"bandwidth\")"
   ]
  },
  {
   "cell_type": "markdown",
   "id": "c372d168-3df3-4c15-9ffc-86faf88d27b4",
   "metadata": {},
   "source": [
    "## Find the Optimal Bandwidth"
   ]
  },
  {
   "cell_type": "code",
   "execution_count": null,
   "id": "7bc36171-0c1f-4f67-8047-e835c8ed29f2",
   "metadata": {
    "tags": []
   },
   "outputs": [],
   "source": [
    "import numpy as np\n",
    "\n",
    "# from ch_scores\n",
    "max_index_of_score = np.argmax(df_ch['ch_score'])\n",
    "optimal_bandwidth = df_ch['bandwidth'].iloc[max_index_of_score]\n",
    "print (\"From Calinski-Harabasz, optimal bandwidth=\", optimal_bandwidth)\n"
   ]
  },
  {
   "cell_type": "code",
   "execution_count": null,
   "id": "97529496-f216-40fe-a636-537b5b334b0c",
   "metadata": {},
   "outputs": [],
   "source": [
    "from sklearn.cluster import MeanShift\n",
    "\n",
    "ms = MeanShift(bandwidth=optimal_bandwidth).fit(X)\n",
    "print (\"num clusters : \", len(ms.cluster_centers_))\n",
    "y_pred = ms.predict(X)\n",
    "\n",
    "plt.scatter(X[:, 0], X[:, 1], c=y_pred)\n",
    "plt.scatter(ms.cluster_centers_[:][0:,0], ms.cluster_centers_[:][0:,1], marker='^', c='red')"
   ]
  },
  {
   "cell_type": "code",
   "execution_count": null,
   "id": "514f7999-8c66-4c36-8ef0-cc01b154b916",
   "metadata": {},
   "outputs": [],
   "source": []
  }
 ],
 "metadata": {
  "kernelspec": {
   "display_name": "Python 3 (ipykernel)",
   "language": "python",
   "name": "python3"
  },
  "language_info": {
   "codemirror_mode": {
    "name": "ipython",
    "version": 3
   },
   "file_extension": ".py",
   "mimetype": "text/x-python",
   "name": "python",
   "nbconvert_exporter": "python",
   "pygments_lexer": "ipython3",
   "version": "3.8.11"
  }
 },
 "nbformat": 4,
 "nbformat_minor": 5
}
