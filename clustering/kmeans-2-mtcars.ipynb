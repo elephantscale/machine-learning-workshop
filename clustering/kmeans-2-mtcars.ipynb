{
 "cells": [
  {
   "cell_type": "markdown",
   "metadata": {},
   "source": [
    "# K-Means Clustering : Cars Data\n",
    "\n",
    "Let's look at a clustering example.\n",
    "\n",
    "Here, we are going to load the mtcars dataset. This has some stats on different models of cars.  Here, we will load the CSV file as a pandas dataframe, and view it.\n",
    "\n",
    "And here is a [spreadsheet](WSSSE-versus-k.xlsx) for you record K and WSSSE."
   ]
  },
  {
   "cell_type": "markdown",
   "metadata": {},
   "source": [
    "## Step 1: Load the Data"
   ]
  },
  {
   "cell_type": "code",
   "execution_count": null,
   "metadata": {},
   "outputs": [],
   "source": [
    "import os\n",
    "import urllib.request\n",
    "\n",
    "data_location = \"../data/cars/mtcars_header.csv\"\n",
    "data_url = 'https://elephantscale-public.s3.amazonaws.com/data/cars/mtcars_header.csv'\n",
    "\n",
    "if not os.path.exists (data_location):\n",
    "    data_location = os.path.basename(data_location)\n",
    "    if not os.path.exists(data_location):\n",
    "        print(\"Downloading : \", data_url)\n",
    "        urllib.request.urlretrieve(data_url, data_location)\n",
    "print('data_location:', data_location)"
   ]
  },
  {
   "cell_type": "code",
   "execution_count": null,
   "metadata": {},
   "outputs": [],
   "source": [
    "import pandas as pd\n",
    "\n",
    "dataset = pd.read_csv(data_location)\n",
    "dataset.sample(10)\n",
    "# dataset"
   ]
  },
  {
   "cell_type": "markdown",
   "metadata": {},
   "source": [
    "## Step 2: Creating Vectors\n",
    "\n",
    "Now that we have ourselves a dataframe, let's work on turning it into vectors.  We're going to vectorize 2 columns:\n",
    "\n",
    "1. MPG\n",
    "2. Number of cylinders.\n"
   ]
  },
  {
   "cell_type": "code",
   "execution_count": null,
   "metadata": {},
   "outputs": [],
   "source": [
    "##create an smaller dataframe with just 'model', 'mpg', and 'cyl'\n",
    "dataset2 = dataset [['model', 'mpg', 'cyl']]\n",
    "\n",
    "## TODO : create our feature vector x by using 'mpg' and 'cyl' columns\n",
    "## HINT : 'mpg', 'cyl'\n",
    "x = dataset2[[\"???\", \"???\"]]\n",
    "x.sample(10)"
   ]
  },
  {
   "cell_type": "code",
   "execution_count": null,
   "metadata": {},
   "outputs": [],
   "source": [
    "import matplotlib.pyplot as plt\n",
    "plt.scatter(x['mpg'], x['cyl'], marker='o')\n",
    "plt.show()"
   ]
  },
  {
   "cell_type": "markdown",
   "metadata": {},
   "source": [
    "## Step 3: Running Kmeans\n",
    "\n",
    "Now it's time to run kmeans on the resultant dataframe.  We don't know what value of k to use, so let's just start with k=2.  This means we will cluster into two groups.\n",
    "\n",
    "We will fit a model to the data, and then train it.\n",
    "\n"
   ]
  },
  {
   "cell_type": "code",
   "execution_count": null,
   "metadata": {},
   "outputs": [],
   "source": [
    "from sklearn.cluster import KMeans\n",
    "\n",
    "## TODO: Instantiate K-means model with value k=2\n",
    "## Hint : n_clusters=2\n",
    "kmeans = KMeans(n_clusters=???, random_state=0)\n",
    "\n",
    "model = kmeans.fit(x)\n",
    "\n",
    "model"
   ]
  },
  {
   "cell_type": "code",
   "execution_count": null,
   "metadata": {},
   "outputs": [],
   "source": [
    "## TODO: calculate WSSSE by calling computeCost on dataframe\n",
    "## Hint : inertia_\n",
    "wssse = model.inertia_\n",
    "\n",
    "print(\"k=2, wssse = \", wssse)"
   ]
  },
  {
   "cell_type": "markdown",
   "metadata": {},
   "source": [
    "The WSSSE for this is not particularly good.  We will probably need to change k.\n",
    "\n",
    "Let's take a look at the transformed dataset.  Notice the new column \"prediction.\"\n"
   ]
  },
  {
   "cell_type": "code",
   "execution_count": null,
   "metadata": {},
   "outputs": [],
   "source": [
    "## transform the dataset from the model\n",
    "model.labels_ # these are the cluster ids"
   ]
  },
  {
   "cell_type": "code",
   "execution_count": null,
   "metadata": {},
   "outputs": [],
   "source": [
    "### TODO: Add new column to DF with cluster labels \n",
    "dataset2['cluster'] = model.labels_\n",
    "dataset2"
   ]
  },
  {
   "cell_type": "markdown",
   "metadata": {},
   "source": [
    "Notice what we have here.  We have two clusters. One is smaller, fuel efficient cars like the Fiat and the Corolla (remember, we cluster on two variables only: MPG and cylinders).  The other is for basically oll other cars.  Probably, we can get better results here with a differnet value of k."
   ]
  },
  {
   "cell_type": "code",
   "execution_count": null,
   "metadata": {},
   "outputs": [],
   "source": [
    "dataset2.sort_values(by=['cluster', 'mpg'])"
   ]
  },
  {
   "cell_type": "markdown",
   "metadata": {},
   "source": [
    "### Set K=3"
   ]
  },
  {
   "cell_type": "code",
   "execution_count": null,
   "metadata": {},
   "outputs": [],
   "source": [
    "from sklearn.cluster import KMeans\n",
    "\n",
    "## TODO: Instantiate K-means model with value k=3\n",
    "kmeans = KMeans(n_clusters=???, random_state=0)\n",
    "\n",
    "model = kmeans.fit(x)\n",
    "\n",
    "wssse = model.inertia_\n",
    "print (\"k=3, wssse =\",wssse)"
   ]
  },
  {
   "cell_type": "code",
   "execution_count": null,
   "metadata": {},
   "outputs": [],
   "source": [
    "dataset2['cluster'] = model.labels_\n",
    "dataset2.sort_values(by=['cluster', 'mpg'])"
   ]
  },
  {
   "cell_type": "markdown",
   "metadata": {},
   "source": [
    "This is a much better result for WSSSE (lower is better)."
   ]
  },
  {
   "cell_type": "markdown",
   "metadata": {},
   "source": [
    "## Step 4: Hyperparameter tuning\n",
    "\n",
    "Let's try iterating and plotting over values of k, so we can practice using the elbow method.\n",
    "\n",
    "**Q ==> Why is WSSSE almost zero when k=32?**"
   ]
  },
  {
   "cell_type": "code",
   "execution_count": null,
   "metadata": {},
   "outputs": [],
   "source": [
    "kvals = []\n",
    "wssses = []\n",
    "\n",
    "## TODO : Run k from 2 to 32\n",
    "for k in range(2, ???):\n",
    "    kmeans = KMeans(n_clusters=k, random_state=0)\n",
    "    model = kmeans.fit(x)\n",
    "    wssse = model.inertia_\n",
    "    print (\"k={},  wssse={}\".format(k,wssse))\n",
    "    kvals.append(k)\n",
    "    wssses.append(wssse)"
   ]
  },
  {
   "cell_type": "code",
   "execution_count": null,
   "metadata": {},
   "outputs": [],
   "source": [
    "df = pd.DataFrame({'k': kvals, 'wssse':wssses})\n",
    "df"
   ]
  },
  {
   "cell_type": "code",
   "execution_count": null,
   "metadata": {},
   "outputs": [],
   "source": [
    "%matplotlib inline\n",
    "from matplotlib import pyplot\n",
    "\n",
    "## TODO: plot the values of k as the X axis versus the costs (WSSSE) as the y axis\n",
    "## Hint  : x=kvals,  y=wssses\n",
    "pyplot.plot(kvals, wssses)\n",
    "pyplot.show()"
   ]
  },
  {
   "cell_type": "markdown",
   "metadata": {},
   "source": [
    "Using the Elbow method, what would be a good value of k?\n"
   ]
  }
 ],
 "metadata": {
  "anaconda-cloud": {},
  "kernelspec": {
   "display_name": "Python 3",
   "language": "python",
   "name": "python3"
  },
  "language_info": {
   "codemirror_mode": {
    "name": "ipython",
    "version": 3
   },
   "file_extension": ".py",
   "mimetype": "text/x-python",
   "name": "python",
   "nbconvert_exporter": "python",
   "pygments_lexer": "ipython3",
   "version": "3.8.3"
  }
 },
 "nbformat": 4,
 "nbformat_minor": 4
}
