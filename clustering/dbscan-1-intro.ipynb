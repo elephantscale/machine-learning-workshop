{
 "cells": [
  {
   "cell_type": "markdown",
   "id": "09712675-392e-4f3c-9180-89a5935fee0d",
   "metadata": {},
   "source": [
    "# DBSCAN\n",
    "\n",
    "## References\n",
    "- https://scikit-learn.org/stable/modules/generated/sklearn.cluster.DBSCAN.html?highlight=dbscan#sklearn.cluster.DBSCAN"
   ]
  },
  {
   "cell_type": "markdown",
   "id": "a111984f-b646-4999-9453-980d37993d00",
   "metadata": {},
   "source": [
    "## Step-1: Generate Some Data"
   ]
  },
  {
   "cell_type": "code",
   "execution_count": null,
   "id": "d2a7e838-741b-4cdb-9a14-7874a0fc66a1",
   "metadata": {},
   "outputs": [],
   "source": [
    "from sklearn.datasets import make_blobs\n",
    "import matplotlib.pyplot as plt\n",
    "\n",
    "num_centers = 5\n",
    "\n",
    "X, y = make_blobs(n_samples=1000,  n_features=2, centers=num_centers)\n",
    "\n",
    "print ('X.shape:', X.shape)\n",
    "print ('y.shape:', y.shape)\n",
    "\n",
    "# note the color coding of clusters\n",
    "plt.scatter(X[:, 0], X[:, 1], marker='o', c=y,\n",
    "            s=25, edgecolor='k')\n",
    "plt.show()"
   ]
  },
  {
   "cell_type": "markdown",
   "id": "0876b881-dcd1-441c-bf99-3d95ac8ada9a",
   "metadata": {},
   "source": [
    "## Step-2: Run MeanShift Clustering"
   ]
  },
  {
   "cell_type": "code",
   "execution_count": null,
   "id": "d91f9062-f12b-4cd9-8fd6-d69c182dd463",
   "metadata": {},
   "outputs": [],
   "source": [
    "from sklearn.cluster import DBSCAN\n",
    "\n",
    "dbscan = DBSCAN(eps=5, min_samples=2).fit(X)\n",
    "\n",
    "labels = dbscan.labels_\n",
    "# Number of clusters in labels, ignoring noise if present.\n",
    "n_clusters_ = len(set(labels)) - (1 if -1 in labels else 0)\n",
    "n_noise_ = list(labels).count(-1)\n",
    "\n",
    "print (\"labels:\\n\", labels)\n",
    "print(\"Estimated number of clusters: %d\" % n_clusters_)\n",
    "print(\"Estimated number of noise points: %d\" % n_noise_)"
   ]
  },
  {
   "cell_type": "markdown",
   "id": "ecee3d12-ee3b-452a-b1ac-2c836be29054",
   "metadata": {},
   "source": [
    "## Step-3: Visualize Clusters"
   ]
  },
  {
   "cell_type": "code",
   "execution_count": null,
   "id": "9edb8336-5f6a-43ea-bc46-d0a9c55460db",
   "metadata": {},
   "outputs": [],
   "source": [
    "## plot predicted results\n",
    "y_pred = dbscan.fit_predict(X)\n",
    "\n",
    "## now observe the color coding of clusters\n",
    "## do they match?\n",
    "plt.scatter(X[:, 0], X[:, 1], c=y_pred)"
   ]
  },
  {
   "cell_type": "markdown",
   "id": "8cce2b32-21ec-4ccb-ae56-7d85909dbfb2",
   "metadata": {},
   "source": [
    "## Experiment\n",
    "\n",
    "```python\n",
    "DBSCAN(eps=3, min_samples=2)\n",
    "```\n",
    "\n",
    "Change these parameters and re run the algorithm.  Does it change the predicted clusters?"
   ]
  },
  {
   "cell_type": "code",
   "execution_count": null,
   "id": "8482221b-e0ed-4570-87e5-4408d6bf7acb",
   "metadata": {},
   "outputs": [],
   "source": []
  }
 ],
 "metadata": {
  "kernelspec": {
   "display_name": "Python 3 (ipykernel)",
   "language": "python",
   "name": "python3"
  },
  "language_info": {
   "codemirror_mode": {
    "name": "ipython",
    "version": 3
   },
   "file_extension": ".py",
   "mimetype": "text/x-python",
   "name": "python",
   "nbconvert_exporter": "python",
   "pygments_lexer": "ipython3",
   "version": "3.8.11"
  }
 },
 "nbformat": 4,
 "nbformat_minor": 5
}
