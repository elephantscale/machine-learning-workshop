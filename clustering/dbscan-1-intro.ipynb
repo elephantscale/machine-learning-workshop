{
 "cells": [
  {
   "cell_type": "markdown",
   "id": "09712675-392e-4f3c-9180-89a5935fee0d",
   "metadata": {},
   "source": [
    "# DBSCAN\n",
    "\n",
    "## References\n",
    "- https://scikit-learn.org/stable/modules/generated/sklearn.cluster.DBSCAN.html?highlight=dbscan#sklearn.cluster.DBSCAN"
   ]
  },
  {
   "cell_type": "markdown",
   "id": "a111984f-b646-4999-9453-980d37993d00",
   "metadata": {},
   "source": [
    "## Step-1: Generate Some Data"
   ]
  },
  {
   "cell_type": "code",
   "execution_count": null,
   "id": "d2a7e838-741b-4cdb-9a14-7874a0fc66a1",
   "metadata": {},
   "outputs": [],
   "source": [
    "from sklearn.datasets import make_blobs\n",
    "import matplotlib.pyplot as plt\n",
    "\n",
    "num_centers = 5\n",
    "\n",
    "X, y = make_blobs(n_samples=1000,  n_features=2, centers=num_centers)\n",
    "\n",
    "print ('X.shape:', X.shape)\n",
    "print ('y.shape:', y.shape)\n",
    "\n",
    "# note the color coding of clusters\n",
    "plt.scatter(X[:, 0], X[:, 1], marker='o', c=y,\n",
    "            s=25, edgecolor='k')\n",
    "plt.show()"
   ]
  },
  {
   "cell_type": "markdown",
   "id": "0876b881-dcd1-441c-bf99-3d95ac8ada9a",
   "metadata": {},
   "source": [
    "## Step-2: Run DBSScan Clustering"
   ]
  },
  {
   "cell_type": "code",
   "execution_count": null,
   "id": "d91f9062-f12b-4cd9-8fd6-d69c182dd463",
   "metadata": {},
   "outputs": [],
   "source": [
    "from sklearn.cluster import DBSCAN\n",
    "import numpy as np\n",
    "\n",
    "dbscan = DBSCAN(eps=5, min_samples=2).fit(X)\n",
    "\n",
    "labels = dbscan.labels_\n",
    "# Number of clusters in labels, ignoring noise if present.\n",
    "n_clusters = len(set(labels)) - (1 if -1 in labels else 0)\n",
    "n_noise = list(labels).count(-1)\n",
    "\n",
    "print (\"labels[:few]\", np.random.choice(labels, 20, replace=False))\n",
    "print(\"Estimated number of clusters: %d\" % n_clusters)\n",
    "print(\"Points that were not clustered: %d\" % n_noise)"
   ]
  },
  {
   "cell_type": "markdown",
   "id": "ecee3d12-ee3b-452a-b1ac-2c836be29054",
   "metadata": {},
   "source": [
    "## Step-3: Visualize Clusters"
   ]
  },
  {
   "cell_type": "code",
   "execution_count": null,
   "id": "9edb8336-5f6a-43ea-bc46-d0a9c55460db",
   "metadata": {},
   "outputs": [],
   "source": [
    "## plot predicted results\n",
    "y_pred = dbscan.fit_predict(X)\n",
    "\n",
    "## now observe the color coding of clusters\n",
    "## do they match?\n",
    "plt.scatter(X[:, 0], X[:, 1], c=y_pred)"
   ]
  },
  {
   "cell_type": "markdown",
   "id": "8cce2b32-21ec-4ccb-ae56-7d85909dbfb2",
   "metadata": {},
   "source": [
    "## Experiment\n",
    "\n",
    "```python\n",
    "DBSCAN(eps=3, min_samples=2)\n",
    "```\n",
    "\n",
    "Change these parameters and re run the algorithm.  Does it change the predicted clusters?"
   ]
  },
  {
   "cell_type": "markdown",
   "id": "81a177d0-87c4-45b3-b992-e9092fd51a1e",
   "metadata": {},
   "source": [
    "## Iterate over a few values to find the optimal values"
   ]
  },
  {
   "cell_type": "code",
   "execution_count": null,
   "id": "c6bf24f1-2099-4fa9-8bd9-07c7608abdf6",
   "metadata": {},
   "outputs": [],
   "source": [
    "from sklearn.cluster import DBSCAN\n",
    "from sklearn.metrics import calinski_harabasz_score\n",
    "import pandas as pd\n",
    "\n",
    "df = pd.DataFrame()\n",
    "\n",
    "eps_range = [0.5, 1, 1.5, 2, 2.5, 3]\n",
    "min_samples_range = [2,3,5,7,10]\n",
    "\n",
    "for eps in eps_range:\n",
    "    for min_sample in min_samples_range:\n",
    "        dbscan = DBSCAN(eps=eps, min_samples=min_sample).fit(X)\n",
    "        labels = dbscan.labels_\n",
    "        # Number of clusters in labels, ignoring noise if present.\n",
    "        n_clusters = len(set(labels)) - (1 if -1 in labels else 0)\n",
    "        n_noise = list(labels).count(-1)\n",
    "        \n",
    "        y_pred = dbscan.fit_predict(X)\n",
    "        ch_score = calinski_harabasz_score (X, y_pred)\n",
    "\n",
    "        print (\"eps={}, min_samples={}, num_clusters={},  not_clustered={}, calinski_score={}\".format (\n",
    "            eps, min_sample, n_clusters, n_noise, ch_score))\n",
    "        \n",
    "        row = pd.DataFrame ({'eps' : [eps], 'min_samples': [min_sample], 'num_clusters': [n_clusters], \n",
    "                             'not_clustered' : [n_noise],  'calinski_score': [ch_score]})\n",
    "        df = df.append(row, ignore_index=True)"
   ]
  },
  {
   "cell_type": "code",
   "execution_count": null,
   "id": "80e97eee-72b2-4ad5-946e-4e616776fb11",
   "metadata": {},
   "outputs": [],
   "source": [
    "df"
   ]
  },
  {
   "cell_type": "code",
   "execution_count": null,
   "id": "b61b0fd0-f023-4940-a143-0ef103d2a4bf",
   "metadata": {},
   "outputs": [],
   "source": [
    "# Let's find the highest score\n",
    "\n",
    "df_sorted = df.sort_values(by=['calinski_score', 'not_clustered'], ascending=[False, True])\n",
    "df_sorted"
   ]
  },
  {
   "cell_type": "markdown",
   "id": "95705aa2-5cca-49ed-a093-ea1a2fceb50e",
   "metadata": {},
   "source": [
    "## Optimal Values"
   ]
  },
  {
   "cell_type": "code",
   "execution_count": null,
   "id": "b991a7f9-4fcc-4696-a75c-b7e351337c0a",
   "metadata": {},
   "outputs": [],
   "source": [
    "import numpy as np\n",
    "\n",
    "max_idx = np.argmax(df['calinski_score'])\n",
    "print (\"optimal max_idx\", max_idx)\n",
    "\n",
    "eps = df.iloc[max_idx]['eps']\n",
    "print (\"optimal eps\", eps)\n",
    "min_samples = df.iloc[max_idx]['min_samples']\n",
    "print (\"optimal min_samples\", min_samples)"
   ]
  },
  {
   "cell_type": "code",
   "execution_count": null,
   "id": "fce71d49-f6e5-4b0e-97f1-7eb8c6df37a1",
   "metadata": {},
   "outputs": [],
   "source": [
    "from sklearn.cluster import DBSCAN\n",
    "\n",
    "dbscan = DBSCAN(eps=eps, min_samples=min_samples).fit(X)\n",
    "\n",
    "labels = dbscan.labels_\n",
    "# Number of clusters in labels, ignoring noise if present.\n",
    "n_clusters = len(set(labels)) - (1 if -1 in labels else 0)\n",
    "n_noise = list(labels).count(-1)\n",
    "\n",
    "print(\"Estimated number of clusters: %d\" % n_clusters)\n",
    "print(\"Points that were not clustered: %d\" % n_noise)\n",
    "\n",
    "y_pred = dbscan.fit_predict(X)\n",
    "plt.scatter(X[:, 0], X[:, 1], c=y_pred)"
   ]
  },
  {
   "cell_type": "code",
   "execution_count": null,
   "id": "212216b9-8b95-4d7a-b186-17b7e85fef7d",
   "metadata": {},
   "outputs": [],
   "source": []
  }
 ],
 "metadata": {
  "kernelspec": {
   "display_name": "Python 3 (ipykernel)",
   "language": "python",
   "name": "python3"
  },
  "language_info": {
   "codemirror_mode": {
    "name": "ipython",
    "version": 3
   },
   "file_extension": ".py",
   "mimetype": "text/x-python",
   "name": "python",
   "nbconvert_exporter": "python",
   "pygments_lexer": "ipython3",
   "version": "3.8.13"
  }
 },
 "nbformat": 4,
 "nbformat_minor": 5
}
