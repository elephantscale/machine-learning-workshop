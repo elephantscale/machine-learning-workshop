{
 "cells": [
  {
   "cell_type": "markdown",
   "metadata": {},
   "source": [
    "# KMeans Intro"
   ]
  },
  {
   "cell_type": "markdown",
   "metadata": {},
   "source": [
    "## Generate Some Random Data"
   ]
  },
  {
   "cell_type": "code",
   "execution_count": null,
   "metadata": {},
   "outputs": [],
   "source": [
    "from sklearn.datasets import make_blobs\n",
    "import matplotlib.pyplot as plt\n",
    "\n",
    "num_centers = 5\n",
    "\n",
    "X, y = make_blobs(n_samples=1000,  n_features=2, centers=num_centers)\n",
    "\n",
    "print ('X.shape:', X.shape)\n",
    "print ('y.shape:', y.shape)\n",
    "\n",
    "# note the color coding of clusters\n",
    "plt.scatter(X[:, 0], X[:, 1], marker='o', c=y,\n",
    "            s=25, edgecolor='k')\n",
    "plt.show()"
   ]
  },
  {
   "cell_type": "markdown",
   "metadata": {},
   "source": [
    "## KMeans"
   ]
  },
  {
   "cell_type": "code",
   "execution_count": null,
   "metadata": {},
   "outputs": [],
   "source": [
    "from sklearn.cluster import KMeans\n",
    "import numpy as np\n",
    "\n",
    "## TODO: number of clusters should equal to 'num_centers'\n",
    "## but let's start with a mis-match:  -1, +1,  0\n",
    "# k = num_centers - 1\n",
    "# k = num_centers + 1\n",
    "k = num_centers\n",
    "\n",
    "kmeans = KMeans(n_clusters=k)\n",
    "kmeans.fit(X)\n",
    "\n",
    "# now kmeans will predict clusters\n",
    "y_pred = kmeans.predict(X)\n",
    "print ('k:', k, ', wssse:', kmeans.inertia_)\n",
    "print ('predicted y_pred (10) = ', np.random.choice(y_pred, 10))\n",
    "print (\"cluster centers:\\n\", kmeans.cluster_centers_)"
   ]
  },
  {
   "cell_type": "code",
   "execution_count": null,
   "metadata": {},
   "outputs": [],
   "source": [
    "## plot kmeans predicted results\n",
    "\n",
    "## now observe the color coding of clusters\n",
    "## do they match?\n",
    "plt.scatter(X[:, 0], X[:, 1], c=y_pred)\n",
    "plt.scatter(kmeans.cluster_centers_[:][0:,0], kmeans.cluster_centers_[:][0:,1], marker='^', c='red')"
   ]
  },
  {
   "cell_type": "markdown",
   "metadata": {},
   "source": [
    "## WSSSE\n",
    "\n",
    "let's iterate over some Ks"
   ]
  },
  {
   "cell_type": "code",
   "execution_count": null,
   "metadata": {},
   "outputs": [],
   "source": [
    "kvals = []\n",
    "wssses = []\n",
    "\n",
    "for k in range(2, num_centers + 3):\n",
    "    kmeans = KMeans(n_clusters=k, random_state=0)\n",
    "    model = kmeans.fit(X)\n",
    "    wssse = model.inertia_\n",
    "    print (\"k={},  wssse={}\".format(k,wssse))\n",
    "    kvals.append(k)\n",
    "    wssses.append(wssse)"
   ]
  },
  {
   "cell_type": "code",
   "execution_count": null,
   "metadata": {},
   "outputs": [],
   "source": [
    "import pandas as pd\n",
    "\n",
    "df_wssse = pd.DataFrame({'k': kvals, 'wssse':wssses})\n",
    "df_wssse"
   ]
  },
  {
   "cell_type": "code",
   "execution_count": null,
   "metadata": {},
   "outputs": [],
   "source": [
    "df_wssse.plot(x=\"k\")"
   ]
  },
  {
   "cell_type": "markdown",
   "metadata": {},
   "source": [
    "## Silhouette Score\n",
    "\n",
    "- Silhouette score ranges from -1 to +1.\n",
    "- Lower the values the worse performance\n",
    "- Scores close to 0 will indicate overlapping clusters\n",
    "\n",
    "https://scikit-learn.org/stable/modules/generated/sklearn.metrics.silhouette_score.html\n"
   ]
  },
  {
   "cell_type": "code",
   "execution_count": null,
   "metadata": {},
   "outputs": [],
   "source": [
    "from  sklearn.metrics import silhouette_score\n",
    "\n",
    "sil_score = silhouette_score (X, y_pred)\n",
    "\n",
    "print (\"silhoutte_score : \", sil_score)"
   ]
  },
  {
   "cell_type": "code",
   "execution_count": null,
   "metadata": {},
   "outputs": [],
   "source": [
    "# Let's loop through a few ranges\n",
    "sil_scores = []\n",
    "\n",
    "for k in range(2, num_centers+3):\n",
    "    kmeans = KMeans(n_clusters=k)\n",
    "    kmeans.fit(X)\n",
    "    y_pred = kmeans.predict(X)\n",
    "    sil_score = silhouette_score (X, y_pred)\n",
    "    sil_scores.append(sil_score)\n",
    "    print (\"silhoutte_score : \", sil_score)"
   ]
  },
  {
   "cell_type": "code",
   "execution_count": null,
   "metadata": {},
   "outputs": [],
   "source": [
    "import pandas as pd\n",
    "\n",
    "df_sil = pd.DataFrame({'k': kvals, 'sil_score':sil_scores})\n",
    "df_sil"
   ]
  },
  {
   "cell_type": "code",
   "execution_count": null,
   "metadata": {},
   "outputs": [],
   "source": [
    "df_sil.plot(x=\"k\")"
   ]
  },
  {
   "cell_type": "markdown",
   "metadata": {},
   "source": [
    "## Calinski-Harabasz Index\n",
    "\n",
    "- The score is higher when clusters are dense and well separated, which relates to a standard concept of a cluster.\n",
    "- The score is fast to compute.\n",
    "- The Calinski-Harabasz index is generally higher for convex clusters than other concepts of clusters, such as density based clusters like those obtained through DBSCAN.\n",
    "\n",
    "https://scikit-learn.org/stable/modules/clustering.html#calinski-harabasz-index"
   ]
  },
  {
   "cell_type": "code",
   "execution_count": null,
   "metadata": {},
   "outputs": [],
   "source": [
    "from sklearn.metrics import calinski_harabasz_score\n",
    "\n",
    "ch_score = calinski_harabasz_score (X, y_pred)\n",
    "print (\"calinski_harabasz_score : \", ch_score)"
   ]
  },
  {
   "cell_type": "code",
   "execution_count": null,
   "metadata": {},
   "outputs": [],
   "source": [
    "# Let's loop through a few ranges\n",
    "\n",
    "ch_scores = []\n",
    "\n",
    "for k in range(2, num_centers+3):\n",
    "    kmeans = KMeans(n_clusters=k)\n",
    "    kmeans.fit(X)\n",
    "    y_pred = kmeans.predict(X)\n",
    "    ch_score = calinski_harabasz_score (X, y_pred)\n",
    "    ch_scores.append(ch_score)\n",
    "    print (\"calinski_harabasz_score : \", ch_score)"
   ]
  },
  {
   "cell_type": "code",
   "execution_count": null,
   "metadata": {},
   "outputs": [],
   "source": [
    "import pandas as pd\n",
    "\n",
    "df_ch = pd.DataFrame({'k': kvals, 'ch_score':ch_scores})\n",
    "df_ch"
   ]
  },
  {
   "cell_type": "code",
   "execution_count": null,
   "metadata": {},
   "outputs": [],
   "source": [
    "df_ch.plot(x=\"k\")"
   ]
  },
  {
   "cell_type": "markdown",
   "metadata": {},
   "source": [
    "## Choose the Optimal K\n",
    "\n",
    "From above experiments, choose a K that is scoring high. \n",
    "\n",
    "For example k=4\n",
    "\n",
    "And visualize the results"
   ]
  },
  {
   "cell_type": "code",
   "execution_count": null,
   "metadata": {
    "tags": []
   },
   "outputs": [],
   "source": [
    "import numpy as np\n",
    "\n",
    "# using Silhouette Score\n",
    "max_index_of_score = np.argmax(df_sil['sil_score'])\n",
    "optimal_k = df_sil['k'].iloc[max_index_of_score]\n",
    "print (\"From Silhouette Score, optimal k=\", optimal_k)\n",
    "\n",
    "# from ch_scores\n",
    "max_index_of_score = np.argmax(df_ch['ch_score'])\n",
    "optimal_k = df_ch['k'].iloc[max_index_of_score]\n",
    "print (\"From Calinski-Harabasz, optimal k=\", optimal_k)\n"
   ]
  },
  {
   "cell_type": "code",
   "execution_count": null,
   "metadata": {},
   "outputs": [],
   "source": [
    "from sklearn.cluster import KMeans\n",
    "import numpy as np\n",
    "\n",
    "kmeans = KMeans(n_clusters=optimal_k)\n",
    "kmeans.fit(X)\n",
    "\n",
    "# now kmeans will predict clusters\n",
    "y_pred = kmeans.predict(X)\n",
    "\n",
    "plt.scatter(X[:, 0], X[:, 1], c=y_pred)\n",
    "plt.scatter(kmeans.cluster_centers_[:][0:,0], kmeans.cluster_centers_[:][0:,1], marker='^', c='red')"
   ]
  },
  {
   "cell_type": "markdown",
   "metadata": {},
   "source": [
    "## End\n",
    "\n",
    "---"
   ]
  },
  {
   "cell_type": "markdown",
   "metadata": {},
   "source": [
    "## Combine Scores"
   ]
  },
  {
   "cell_type": "code",
   "execution_count": null,
   "metadata": {},
   "outputs": [],
   "source": [
    "sil_scores = []\n",
    "ch_scores = []\n",
    "\n",
    "k_vals = (num_centers - 1, num_centers, num_centers + 1)\n",
    "\n",
    "for k in k_vals:\n",
    "    kmeans = KMeans(n_clusters=k)\n",
    "    kmeans.fit(X)\n",
    "    y_pred = kmeans.predict(X)\n",
    "    \n",
    "    sil_score = silhouette_score (X, y_pred)\n",
    "    sil_scores.append(sil_score)\n",
    "    \n",
    "    ch_score = calinski_harabasz_score (X, y_pred)\n",
    "    ch_scores.append(ch_score)\n",
    "    \n",
    "    print (\"k={},  silhoutte_score={}, calinski_harabasz_score={}\".format(k,sil_score,ch_score ))"
   ]
  },
  {
   "cell_type": "code",
   "execution_count": null,
   "metadata": {},
   "outputs": [],
   "source": [
    "import pandas as pd\n",
    "\n",
    "df = pd.DataFrame({'k': k_vals, 'silhoutte_score':sil_scores, 'calinski_harabasz_score':ch_scores})\n",
    "df"
   ]
  },
  {
   "cell_type": "code",
   "execution_count": null,
   "metadata": {},
   "outputs": [],
   "source": [
    "%matplotlib inline\n",
    "from matplotlib import pyplot\n",
    "\n",
    "df.plot(x=\"k\", y=[\"silhoutte_score\", \"calinski_harabasz_score\"], kind=\"bar\", \n",
    "        secondary_y=['calinski_harabasz_score'], figsize=(9, 6))"
   ]
  },
  {
   "cell_type": "code",
   "execution_count": null,
   "metadata": {},
   "outputs": [],
   "source": []
  }
 ],
 "metadata": {
  "kernelspec": {
   "display_name": "Python 3 (ipykernel)",
   "language": "python",
   "name": "python3"
  },
  "language_info": {
   "codemirror_mode": {
    "name": "ipython",
    "version": 3
   },
   "file_extension": ".py",
   "mimetype": "text/x-python",
   "name": "python",
   "nbconvert_exporter": "python",
   "pygments_lexer": "ipython3",
   "version": "3.8.11"
  }
 },
 "nbformat": 4,
 "nbformat_minor": 4
}
