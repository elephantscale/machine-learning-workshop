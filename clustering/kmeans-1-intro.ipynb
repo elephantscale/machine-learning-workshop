{
 "cells": [
  {
   "cell_type": "markdown",
   "metadata": {},
   "source": [
    "# KMeans Intro"
   ]
  },
  {
   "cell_type": "markdown",
   "metadata": {},
   "source": [
    "## Generate Some Random Data"
   ]
  },
  {
   "cell_type": "code",
   "execution_count": null,
   "metadata": {},
   "outputs": [],
   "source": [
    "from sklearn.datasets import make_blobs\n",
    "import matplotlib.pyplot as plt\n",
    "\n",
    "num_centers = 3\n",
    "\n",
    "X, y = make_blobs(n_samples=1000,  n_features=2, centers=num_centers)\n",
    "\n",
    "print ('X.shape:', X.shape)\n",
    "print ('y.shape:', y.shape)\n",
    "\n",
    "# note the color coding of clusters\n",
    "plt.scatter(X[:, 0], X[:, 1], marker='o', c=y,\n",
    "            s=25, edgecolor='k')\n",
    "plt.show()"
   ]
  },
  {
   "cell_type": "markdown",
   "metadata": {},
   "source": [
    "## KMeans"
   ]
  },
  {
   "cell_type": "code",
   "execution_count": null,
   "metadata": {},
   "outputs": [],
   "source": [
    "from sklearn.cluster import KMeans\n",
    "import numpy as np\n",
    "\n",
    "## TODO: number of clusters should equal to 'num_centers'\n",
    "## but let's start with a mis-match:  -1, +1,  0\n",
    "k = num_centers - 1\n",
    "# k = num_centers + 1\n",
    "# k = num_centers\n",
    "\n",
    "kmeans = KMeans(n_clusters=k)\n",
    "kmeans.fit(X)\n",
    "\n",
    "# now kmeans will predict clusters\n",
    "y_pred = kmeans.predict(X)\n",
    "print ('k:', k, ', wssse:', kmeans.inertia_)\n",
    "print ('predicted y_pred (10) = ', np.random.choice(y_pred, 10))\n",
    "print (\"cluster centers:\\n\", kmeans.cluster_centers_)"
   ]
  },
  {
   "cell_type": "code",
   "execution_count": null,
   "metadata": {},
   "outputs": [],
   "source": [
    "## plot kmeans predicted results\n",
    "\n",
    "## now observe the color coding of clusters\n",
    "## do they match?\n",
    "plt.scatter(X[:, 0], X[:, 1], c=y_pred)\n",
    "plt.scatter(kmeans.cluster_centers_[:][0:,0], kmeans.cluster_centers_[:][0:,1], marker='^', c='red')"
   ]
  },
  {
   "cell_type": "code",
   "execution_count": null,
   "metadata": {},
   "outputs": [],
   "source": []
  }
 ],
 "metadata": {
  "kernelspec": {
   "display_name": "Python 3",
   "language": "python",
   "name": "python3"
  },
  "language_info": {
   "codemirror_mode": {
    "name": "ipython",
    "version": 3
   },
   "file_extension": ".py",
   "mimetype": "text/x-python",
   "name": "python",
   "nbconvert_exporter": "python",
   "pygments_lexer": "ipython3",
   "version": "3.8.3"
  }
 },
 "nbformat": 4,
 "nbformat_minor": 4
}
