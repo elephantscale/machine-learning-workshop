{
 "cells": [
  {
   "cell_type": "markdown",
   "metadata": {},
   "source": [
    "# Test the Environment"
   ]
  },
  {
   "cell_type": "markdown",
   "metadata": {},
   "source": [
    "## Test Installed Modules"
   ]
  },
  {
   "cell_type": "code",
   "execution_count": null,
   "metadata": {},
   "outputs": [],
   "source": [
    "def test_import(module_name):\n",
    "    try:\n",
    "        module = __import__(module_name)\n",
    "        print (\"Found module : \",  module_name, \" (version \", module.__version__ , \")\")\n",
    "    except ImportError:\n",
    "        print (\"*** Unable to find module : \", module_name)\n",
    "    except AttributeError:\n",
    "        print (\"*** module doesn't have __version__ attribute : \", module_name)"
   ]
  },
  {
   "cell_type": "code",
   "execution_count": null,
   "metadata": {},
   "outputs": [],
   "source": [
    "import sys\n",
    "print(\"Python version:\", sys.version)\n",
    "\n",
    "## if we are running on Google colab, ask for TF2\n",
    "try:\n",
    "  # %tensorflow_version only exists in Colab.\n",
    "  %tensorflow_version 2.x\n",
    "except Exception:\n",
    "  pass\n",
    "\n",
    "test_import ('numpy')\n",
    "test_import ('pandas')\n",
    "test_import ('matplotlib')\n",
    "test_import ('seaborn')\n",
    "test_import ('scipy')\n",
    "test_import ('IPython')\n",
    "test_import ('sklearn')\n"
   ]
  },
  {
   "cell_type": "markdown",
   "metadata": {},
   "source": [
    "## Numpy, Pandas, Matplot"
   ]
  },
  {
   "cell_type": "code",
   "execution_count": null,
   "metadata": {},
   "outputs": [],
   "source": [
    "%matplotlib inline\n",
    "import pandas as pd\n",
    "import numpy as np\n",
    "import matplotlib.pyplot as plt\n",
    "\n",
    "# numpy\n",
    "a = np.array([1,2,3])\n",
    "print(a)\n",
    "\n",
    "# pandas\n",
    "df = pd.DataFrame({'date' : ['2016-01-01', '2016-01-02', '2016-01-03'],\n",
    "                    'qty': [20, 30, 40]})\n",
    "print(df)\n",
    "\n",
    "# test plot\n",
    "plt.plot([1,5,2,4])\n",
    "plt.title(\"Do you see me?\")\n",
    "plt.show()\n",
    "\n",
    "print(\"all good Captn!\")"
   ]
  },
  {
   "cell_type": "markdown",
   "metadata": {},
   "source": [
    "## Data Check\n",
    "\n",
    "Check to see if data directory is setup.\n",
    "\n",
    "The dataset is located [here](https://s3.amazonaws.com/elephantscale-public/data/data.zip)\n",
    "\n",
    "Make sure to unzip the data bundle in the lab folder."
   ]
  },
  {
   "cell_type": "code",
   "execution_count": null,
   "metadata": {},
   "outputs": [],
   "source": [
    "import os\n",
    "\n",
    "\n",
    "data_dir = \"datasets\"\n",
    "data_location = os.path.join(data_dir, 'diabetes.csv')\n",
    "# print (data_location)\n",
    "\n",
    "if os.path.exists(data_location):\n",
    "    print ('Found local data at : ', os.path.abspath(data_dir))\n",
    "else:\n",
    "    print ('Local data dir NOT found')\n",
    "    "
   ]
  },
  {
   "cell_type": "code",
   "execution_count": null,
   "metadata": {},
   "outputs": [],
   "source": [
    "# import os\n",
    "# import sys\n",
    "# import pandas as pd\n",
    "\n",
    "# ## local data\n",
    "# data_location = '../data/house-prices/house-sales-sample.csv'\n",
    "\n",
    "# ## or download from the cloud\n",
    "# data_location = 'https://elephantscale-public.s3.amazonaws.com/data/house-prices/house-sales-sample.csv'\n",
    "\n",
    "# data_dir = os.path.abspath(os.path.join(os.getcwd(), \"../data\"))\n",
    "\n",
    "# print ('data_location : ', data_location)\n",
    "# try:\n",
    "#     data = pd.read_csv(data_location)\n",
    "#     print()\n",
    "#     print(data.head())\n",
    "# except FileNotFoundError:\n",
    "#     print (\"*** unable to find data file.\")\n",
    "#     print (\"Make sure data directory can be found at : \", data_dir )\n",
    "#     pass"
   ]
  },
  {
   "cell_type": "markdown",
   "metadata": {},
   "source": [
    "## That's all Folks!\n",
    "If there are no errors, then we are good!"
   ]
  },
  {
   "cell_type": "code",
   "execution_count": null,
   "metadata": {},
   "outputs": [],
   "source": []
  }
 ],
 "metadata": {
  "kernelspec": {
   "display_name": "Python 3 (ipykernel)",
   "language": "python",
   "name": "python3"
  },
  "language_info": {
   "codemirror_mode": {
    "name": "ipython",
    "version": 3
   },
   "file_extension": ".py",
   "mimetype": "text/x-python",
   "name": "python",
   "nbconvert_exporter": "python",
   "pygments_lexer": "ipython3",
   "version": "3.9.16"
  }
 },
 "nbformat": 4,
 "nbformat_minor": 4
}
