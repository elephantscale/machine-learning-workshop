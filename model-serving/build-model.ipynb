{
 "cells": [
  {
   "cell_type": "markdown",
   "id": "fbdff414",
   "metadata": {},
   "source": [
    "# Build Model"
   ]
  },
  {
   "cell_type": "markdown",
   "id": "8d316be8",
   "metadata": {},
   "source": [
    "## Step-1 : Load and Shape Data"
   ]
  },
  {
   "cell_type": "code",
   "execution_count": 1,
   "id": "bd6339fb",
   "metadata": {},
   "outputs": [
    {
     "name": "stdout",
     "output_type": "stream",
     "text": [
      "data_location: house-sales-full.csv\n"
     ]
    }
   ],
   "source": [
    "import os\n",
    "import urllib.request\n",
    "\n",
    "data_location = \"../data/house-prices/house-sales-full.csv\"\n",
    "data_url = 'https://elephantscale-public.s3.amazonaws.com/data/house-prices/house-sales-full.csv'\n",
    "\n",
    "if not os.path.exists (data_location):\n",
    "    data_location = os.path.basename(data_location)\n",
    "    if not os.path.exists(data_location):\n",
    "        print(\"Downloading : \", data_url)\n",
    "        urllib.request.urlretrieve(data_url, data_location)\n",
    "print('data_location:', data_location)"
   ]
  },
  {
   "cell_type": "code",
   "execution_count": 2,
   "id": "5fa3d082",
   "metadata": {},
   "outputs": [
    {
     "data": {
      "text/html": [
       "<div>\n",
       "<style scoped>\n",
       "    .dataframe tbody tr th:only-of-type {\n",
       "        vertical-align: middle;\n",
       "    }\n",
       "\n",
       "    .dataframe tbody tr th {\n",
       "        vertical-align: top;\n",
       "    }\n",
       "\n",
       "    .dataframe thead th {\n",
       "        text-align: right;\n",
       "    }\n",
       "</style>\n",
       "<table border=\"1\" class=\"dataframe\">\n",
       "  <thead>\n",
       "    <tr style=\"text-align: right;\">\n",
       "      <th></th>\n",
       "      <th>DocumentID</th>\n",
       "      <th>Date</th>\n",
       "      <th>SalePrice</th>\n",
       "      <th>PropertyID</th>\n",
       "      <th>PropertyType</th>\n",
       "      <th>ym</th>\n",
       "      <th>zhvi_px</th>\n",
       "      <th>zhvi_idx</th>\n",
       "      <th>AdjSalePrice</th>\n",
       "      <th>NbrLivingUnits</th>\n",
       "      <th>...</th>\n",
       "      <th>Bathrooms</th>\n",
       "      <th>Bedrooms</th>\n",
       "      <th>BldgGrade</th>\n",
       "      <th>YrBuilt</th>\n",
       "      <th>YrRenovated</th>\n",
       "      <th>TrafficNoise</th>\n",
       "      <th>LandVal</th>\n",
       "      <th>ImpsVal</th>\n",
       "      <th>ZipCode</th>\n",
       "      <th>NewConstruction</th>\n",
       "    </tr>\n",
       "  </thead>\n",
       "  <tbody>\n",
       "    <tr>\n",
       "      <th>18840</th>\n",
       "      <td>18841</td>\n",
       "      <td>8/24/09</td>\n",
       "      <td>550000</td>\n",
       "      <td>6979900280</td>\n",
       "      <td>Single Family</td>\n",
       "      <td>8/1/09</td>\n",
       "      <td>352600</td>\n",
       "      <td>0.810202</td>\n",
       "      <td>678843.0</td>\n",
       "      <td>1</td>\n",
       "      <td>...</td>\n",
       "      <td>2.50</td>\n",
       "      <td>4</td>\n",
       "      <td>8</td>\n",
       "      <td>1997</td>\n",
       "      <td>0</td>\n",
       "      <td>0</td>\n",
       "      <td>249000</td>\n",
       "      <td>303000</td>\n",
       "      <td>98053</td>\n",
       "      <td>False</td>\n",
       "    </tr>\n",
       "    <tr>\n",
       "      <th>15861</th>\n",
       "      <td>15862</td>\n",
       "      <td>2/18/15</td>\n",
       "      <td>175000</td>\n",
       "      <td>5272200005</td>\n",
       "      <td>Single Family</td>\n",
       "      <td>2/1/15</td>\n",
       "      <td>417900</td>\n",
       "      <td>0.960248</td>\n",
       "      <td>182245.0</td>\n",
       "      <td>1</td>\n",
       "      <td>...</td>\n",
       "      <td>1.00</td>\n",
       "      <td>2</td>\n",
       "      <td>7</td>\n",
       "      <td>1947</td>\n",
       "      <td>0</td>\n",
       "      <td>1</td>\n",
       "      <td>197000</td>\n",
       "      <td>122000</td>\n",
       "      <td>98125</td>\n",
       "      <td>False</td>\n",
       "    </tr>\n",
       "    <tr>\n",
       "      <th>6591</th>\n",
       "      <td>6592</td>\n",
       "      <td>6/19/08</td>\n",
       "      <td>628500</td>\n",
       "      <td>2141330560</td>\n",
       "      <td>Single Family</td>\n",
       "      <td>6/1/08</td>\n",
       "      <td>403200</td>\n",
       "      <td>0.926471</td>\n",
       "      <td>678381.0</td>\n",
       "      <td>1</td>\n",
       "      <td>...</td>\n",
       "      <td>2.25</td>\n",
       "      <td>4</td>\n",
       "      <td>8</td>\n",
       "      <td>1977</td>\n",
       "      <td>0</td>\n",
       "      <td>0</td>\n",
       "      <td>336000</td>\n",
       "      <td>270000</td>\n",
       "      <td>98006</td>\n",
       "      <td>False</td>\n",
       "    </tr>\n",
       "    <tr>\n",
       "      <th>19332</th>\n",
       "      <td>19333</td>\n",
       "      <td>3/1/07</td>\n",
       "      <td>490000</td>\n",
       "      <td>7202380350</td>\n",
       "      <td>Single Family</td>\n",
       "      <td>3/1/07</td>\n",
       "      <td>429600</td>\n",
       "      <td>0.987132</td>\n",
       "      <td>496387.0</td>\n",
       "      <td>1</td>\n",
       "      <td>...</td>\n",
       "      <td>2.50</td>\n",
       "      <td>3</td>\n",
       "      <td>7</td>\n",
       "      <td>2005</td>\n",
       "      <td>0</td>\n",
       "      <td>0</td>\n",
       "      <td>191000</td>\n",
       "      <td>240000</td>\n",
       "      <td>98053</td>\n",
       "      <td>False</td>\n",
       "    </tr>\n",
       "    <tr>\n",
       "      <th>3762</th>\n",
       "      <td>3763</td>\n",
       "      <td>2/19/08</td>\n",
       "      <td>650000</td>\n",
       "      <td>1342300040</td>\n",
       "      <td>Townhouse</td>\n",
       "      <td>2/1/08</td>\n",
       "      <td>418400</td>\n",
       "      <td>0.961397</td>\n",
       "      <td>676099.0</td>\n",
       "      <td>1</td>\n",
       "      <td>...</td>\n",
       "      <td>2.50</td>\n",
       "      <td>2</td>\n",
       "      <td>9</td>\n",
       "      <td>2012</td>\n",
       "      <td>0</td>\n",
       "      <td>1</td>\n",
       "      <td>254000</td>\n",
       "      <td>317000</td>\n",
       "      <td>-1</td>\n",
       "      <td>False</td>\n",
       "    </tr>\n",
       "  </tbody>\n",
       "</table>\n",
       "<p>5 rows × 23 columns</p>\n",
       "</div>"
      ],
      "text/plain": [
       "       DocumentID     Date  SalePrice  PropertyID   PropertyType      ym  \\\n",
       "18840       18841  8/24/09     550000  6979900280  Single Family  8/1/09   \n",
       "15861       15862  2/18/15     175000  5272200005  Single Family  2/1/15   \n",
       "6591         6592  6/19/08     628500  2141330560  Single Family  6/1/08   \n",
       "19332       19333   3/1/07     490000  7202380350  Single Family  3/1/07   \n",
       "3762         3763  2/19/08     650000  1342300040      Townhouse  2/1/08   \n",
       "\n",
       "       zhvi_px  zhvi_idx  AdjSalePrice  NbrLivingUnits  ...  Bathrooms  \\\n",
       "18840   352600  0.810202      678843.0               1  ...       2.50   \n",
       "15861   417900  0.960248      182245.0               1  ...       1.00   \n",
       "6591    403200  0.926471      678381.0               1  ...       2.25   \n",
       "19332   429600  0.987132      496387.0               1  ...       2.50   \n",
       "3762    418400  0.961397      676099.0               1  ...       2.50   \n",
       "\n",
       "       Bedrooms  BldgGrade  YrBuilt  YrRenovated  TrafficNoise  LandVal  \\\n",
       "18840         4          8     1997            0             0   249000   \n",
       "15861         2          7     1947            0             1   197000   \n",
       "6591          4          8     1977            0             0   336000   \n",
       "19332         3          7     2005            0             0   191000   \n",
       "3762          2          9     2012            0             1   254000   \n",
       "\n",
       "       ImpsVal  ZipCode  NewConstruction  \n",
       "18840   303000    98053            False  \n",
       "15861   122000    98125            False  \n",
       "6591    270000    98006            False  \n",
       "19332   240000    98053            False  \n",
       "3762    317000       -1            False  \n",
       "\n",
       "[5 rows x 23 columns]"
      ]
     },
     "execution_count": 2,
     "metadata": {},
     "output_type": "execute_result"
    }
   ],
   "source": [
    "import pandas as pd\n",
    "\n",
    "data = pd.read_csv(data_location)\n",
    "data.sample(5)"
   ]
  },
  {
   "cell_type": "code",
   "execution_count": 3,
   "id": "7fa7a9fc",
   "metadata": {},
   "outputs": [
    {
     "name": "stdout",
     "output_type": "stream",
     "text": [
      "X_train : (21650, 5)\n",
      "X_test : (5413, 5)\n",
      "y_train : (21650,)\n",
      "y_test : (5413,)\n"
     ]
    }
   ],
   "source": [
    "from sklearn.model_selection import train_test_split\n",
    "\n",
    "X = data[['Bedrooms', 'Bathrooms', 'SqFtTotLiving', 'SqFtLot',  'LandVal']]\n",
    "y = data['SalePrice']\n",
    "\n",
    "X_train,X_test,y_train, y_test = train_test_split(X,y,  test_size=0.2)\n",
    "\n",
    "print (\"X_train :\" , X_train.shape )\n",
    "print (\"X_test :\", X_test.shape)\n",
    "print (\"y_train :\", y_train.shape)\n",
    "print (\"y_test :\", y_test.shape)"
   ]
  },
  {
   "cell_type": "markdown",
   "id": "b99ed321",
   "metadata": {},
   "source": [
    "## Step-2: Build a Model"
   ]
  },
  {
   "cell_type": "code",
   "execution_count": 4,
   "id": "c6fd47af",
   "metadata": {},
   "outputs": [],
   "source": [
    "from sklearn.ensemble import GradientBoostingRegressor\n",
    "\n",
    "gb = GradientBoostingRegressor()\n",
    "model = gb.fit(X_train, y_train)"
   ]
  },
  {
   "cell_type": "code",
   "execution_count": 5,
   "id": "d92dd846",
   "metadata": {},
   "outputs": [
    {
     "name": "stdout",
     "output_type": "stream",
     "text": [
      "Training score:  0.8387588991510906\n",
      "Test score:  0.80778632705065\n"
     ]
    }
   ],
   "source": [
    "print (\"Training score: \", model.score(X_train, y_train))\n",
    "print (\"Test score: \", model.score(X_test, y_test))"
   ]
  },
  {
   "cell_type": "markdown",
   "id": "be76b887",
   "metadata": {},
   "source": [
    "## Step-3: Save Model with Pickle\n",
    "\n",
    "Pickle models may need exact Python versions to load back.\n",
    "\n",
    "JobLib is a better choice as it saves models efficiently."
   ]
  },
  {
   "cell_type": "code",
   "execution_count": 6,
   "id": "51f04af6",
   "metadata": {},
   "outputs": [],
   "source": [
    "model_file = 'model.pkl'"
   ]
  },
  {
   "cell_type": "code",
   "execution_count": 7,
   "id": "defd2353",
   "metadata": {},
   "outputs": [],
   "source": [
    "# ## Use Pickle\n",
    "# import pickle\n",
    "\n",
    "# with open(model_file,'wb') as f:\n",
    "#     pickle.dump(model,f)\n",
    "# print (\"model saved to : \", model_file)"
   ]
  },
  {
   "cell_type": "code",
   "execution_count": 8,
   "id": "cd5c82c7",
   "metadata": {},
   "outputs": [
    {
     "name": "stdout",
     "output_type": "stream",
     "text": [
      "model saved to :  model.pkl\n"
     ]
    }
   ],
   "source": [
    "## Use JobLib\n",
    "\n",
    "import joblib\n",
    "\n",
    "joblib.dump(model, model_file) \n",
    "print (\"model saved to : \", model_file)"
   ]
  },
  {
   "cell_type": "code",
   "execution_count": null,
   "id": "9b4fe014",
   "metadata": {},
   "outputs": [],
   "source": []
  }
 ],
 "metadata": {
  "kernelspec": {
   "display_name": "Python 3 (ipykernel)",
   "language": "python",
   "name": "python3"
  },
  "language_info": {
   "codemirror_mode": {
    "name": "ipython",
    "version": 3
   },
   "file_extension": ".py",
   "mimetype": "text/x-python",
   "name": "python",
   "nbconvert_exporter": "python",
   "pygments_lexer": "ipython3",
   "version": "3.8.13"
  }
 },
 "nbformat": 4,
 "nbformat_minor": 5
}
