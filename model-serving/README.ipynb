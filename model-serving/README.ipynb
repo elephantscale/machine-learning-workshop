{
 "cells": [
  {
   "cell_type": "markdown",
   "id": "e1f82fa5-90ae-4c6f-b873-a00ced4418ea",
   "metadata": {},
   "source": [
    "# Model Serving"
   ]
  },
  {
   "cell_type": "markdown",
   "id": "b87fde25-264e-43bd-8a7f-cdfe9c75215f",
   "metadata": {},
   "source": [
    "## Step-1: Build and Save a Model\n",
    "\n",
    "Run [build-model.ipynb](build-model.ipynb) to build and save a model\n",
    "\n",
    "## WebService\n",
    "\n",
    "We will host the service using [Flask web server](https://flask.palletsprojects.com/en/1.1.x/)\n",
    "\n",
    "## Step-2: Install \n",
    "\n",
    "Install prerequisites\n",
    "\n",
    "To run the webservices, install the prerequisites\n",
    "\n",
    "```bash\n",
    "\n",
    "# for conda environments\n",
    "$  conda  install flask\n",
    "# or\n",
    "# for pip install\n",
    "$  pip install flask\n",
    "```\n",
    "\n",
    "## Step-3: web_service.py\n",
    "\n",
    "Inspect file [web_service.py](web_service.py)\n",
    "\n",
    "\n",
    "## Step-4: Run the webservice\n",
    "\n",
    "```bash\n",
    "$   cd   ~/dev/ml-labs-python/model-serving\n",
    "$   python web_service.py\n",
    "```\n",
    "\n",
    "## Step-5: Make a Web service request\n",
    "\n",
    "We will use `curl` as our client\n",
    "\n",
    "```bash\n",
    "$  curl 'http://localhost:5000/'\n",
    "```\n",
    "\n",
    "We will see \n",
    "\n",
    "```text\n",
    "Hello world!\n",
    "```\n",
    "\n",
    "Great, web service is working\n",
    "\n",
    "## Step-6 : Call `prediction` webservice\n",
    "\n",
    "Run the following request.  You can modify the parameters to test it out\n",
    "\n",
    "```bash\n",
    "$   curl 'http://localhost:5000/predict?Bedrooms=4&Bathrooms=2.5&SqFtTotLiving=2000&SqFtLot=8000&LandVal=500000'\n",
    "```\n",
    "\n",
    "## Production ready web services\n",
    "\n",
    "Here we used [Flask web server](https://flask.palletsprojects.com/en/1.1.x/) for a small web service.  While Flask is really great for quick deployments, it is not really production strength.\n",
    "\n",
    "Look at frameworks like [gunicorn](https://gunicorn.org/) for implementing production ready systems.\n"
   ]
  },
  {
   "cell_type": "code",
   "execution_count": null,
   "id": "d1958fa8-0d7e-40d6-888f-26c37a2ca7ae",
   "metadata": {},
   "outputs": [],
   "source": []
  }
 ],
 "metadata": {
  "kernelspec": {
   "display_name": "Python 3 (ipykernel)",
   "language": "python",
   "name": "python3"
  },
  "language_info": {
   "codemirror_mode": {
    "name": "ipython",
    "version": 3
   },
   "file_extension": ".py",
   "mimetype": "text/x-python",
   "name": "python",
   "nbconvert_exporter": "python",
   "pygments_lexer": "ipython3",
   "version": "3.8.11"
  }
 },
 "nbformat": 4,
 "nbformat_minor": 5
}
