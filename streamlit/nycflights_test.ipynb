{
 "cells": [
  {
   "cell_type": "code",
   "execution_count": 6,
   "id": "aa5edf86-4b68-4613-9008-f892f98f8a77",
   "metadata": {},
   "outputs": [
    {
     "name": "stdout",
     "output_type": "stream",
     "text": [
      "data_location : flights.csv.gz\n"
     ]
    }
   ],
   "source": [
    "# get data\n",
    "import os\n",
    "import urllib.request\n",
    "\n",
    "data_location = \"../data/nycflights13/flights.csv.gz\"\n",
    "data_url = 'https://elephantscale-public.s3.amazonaws.com/data/nycflights13/flights.csv.gz'\n",
    "\n",
    "if not os.path.exists (data_location):\n",
    "    data_location = os.path.basename(data_location)\n",
    "    if not os.path.exists(data_location):\n",
    "        urllib.request.urlretrieve(data_url, data_location)\n",
    "        print ('Downloading : ', data_url)\n",
    "print('data_location :', data_location)  "
   ]
  },
  {
   "cell_type": "code",
   "execution_count": 12,
   "id": "4224bc3c-98f7-49e3-8714-189133d68153",
   "metadata": {},
   "outputs": [
    {
     "data": {
      "text/html": [
       "<div>\n",
       "<style scoped>\n",
       "    .dataframe tbody tr th:only-of-type {\n",
       "        vertical-align: middle;\n",
       "    }\n",
       "\n",
       "    .dataframe tbody tr th {\n",
       "        vertical-align: top;\n",
       "    }\n",
       "\n",
       "    .dataframe thead th {\n",
       "        text-align: right;\n",
       "    }\n",
       "</style>\n",
       "<table border=\"1\" class=\"dataframe\">\n",
       "  <thead>\n",
       "    <tr style=\"text-align: right;\">\n",
       "      <th></th>\n",
       "      <th>year</th>\n",
       "      <th>month</th>\n",
       "      <th>day</th>\n",
       "      <th>dep_time</th>\n",
       "      <th>sched_dep_time</th>\n",
       "      <th>dep_delay</th>\n",
       "      <th>arr_time</th>\n",
       "      <th>sched_arr_time</th>\n",
       "      <th>arr_delay</th>\n",
       "      <th>carrier</th>\n",
       "      <th>flight</th>\n",
       "      <th>tailnum</th>\n",
       "      <th>origin</th>\n",
       "      <th>dest</th>\n",
       "      <th>air_time</th>\n",
       "      <th>distance</th>\n",
       "      <th>hour</th>\n",
       "      <th>minute</th>\n",
       "      <th>time_hour</th>\n",
       "    </tr>\n",
       "  </thead>\n",
       "  <tbody>\n",
       "    <tr>\n",
       "      <th>49635</th>\n",
       "      <td>2013</td>\n",
       "      <td>10</td>\n",
       "      <td>25</td>\n",
       "      <td>807.00</td>\n",
       "      <td>815</td>\n",
       "      <td>-8.00</td>\n",
       "      <td>952.00</td>\n",
       "      <td>947</td>\n",
       "      <td>5.00</td>\n",
       "      <td>9E</td>\n",
       "      <td>4326</td>\n",
       "      <td>N602XJ</td>\n",
       "      <td>JFK</td>\n",
       "      <td>BUF</td>\n",
       "      <td>55.00</td>\n",
       "      <td>301</td>\n",
       "      <td>8</td>\n",
       "      <td>15</td>\n",
       "      <td>2013-10-25 08:00:00</td>\n",
       "    </tr>\n",
       "    <tr>\n",
       "      <th>311398</th>\n",
       "      <td>2013</td>\n",
       "      <td>9</td>\n",
       "      <td>3</td>\n",
       "      <td>1,510.00</td>\n",
       "      <td>1439</td>\n",
       "      <td>31.00</td>\n",
       "      <td>1,643.00</td>\n",
       "      <td>1607</td>\n",
       "      <td>36.00</td>\n",
       "      <td>9E</td>\n",
       "      <td>3712</td>\n",
       "      <td>N8409N</td>\n",
       "      <td>JFK</td>\n",
       "      <td>BWI</td>\n",
       "      <td>35.00</td>\n",
       "      <td>184</td>\n",
       "      <td>14</td>\n",
       "      <td>39</td>\n",
       "      <td>2013-09-03 14:00:00</td>\n",
       "    </tr>\n",
       "    <tr>\n",
       "      <th>224714</th>\n",
       "      <td>2013</td>\n",
       "      <td>6</td>\n",
       "      <td>3</td>\n",
       "      <td>2,017.00</td>\n",
       "      <td>2013</td>\n",
       "      <td>4.00</td>\n",
       "      <td>2,301.00</td>\n",
       "      <td>2304</td>\n",
       "      <td>-3.00</td>\n",
       "      <td>UA</td>\n",
       "      <td>1675</td>\n",
       "      <td>N39726</td>\n",
       "      <td>EWR</td>\n",
       "      <td>IAH</td>\n",
       "      <td>199.00</td>\n",
       "      <td>1400</td>\n",
       "      <td>20</td>\n",
       "      <td>13</td>\n",
       "      <td>2013-06-03 20:00:00</td>\n",
       "    </tr>\n",
       "    <tr>\n",
       "      <th>165907</th>\n",
       "      <td>2013</td>\n",
       "      <td>4</td>\n",
       "      <td>1</td>\n",
       "      <td>1,938.00</td>\n",
       "      <td>1859</td>\n",
       "      <td>39.00</td>\n",
       "      <td>2,046.00</td>\n",
       "      <td>2027</td>\n",
       "      <td>19.00</td>\n",
       "      <td>9E</td>\n",
       "      <td>4091</td>\n",
       "      <td>N8736A</td>\n",
       "      <td>JFK</td>\n",
       "      <td>BWI</td>\n",
       "      <td>43.00</td>\n",
       "      <td>184</td>\n",
       "      <td>18</td>\n",
       "      <td>59</td>\n",
       "      <td>2013-04-01 18:00:00</td>\n",
       "    </tr>\n",
       "    <tr>\n",
       "      <th>47322</th>\n",
       "      <td>2013</td>\n",
       "      <td>10</td>\n",
       "      <td>22</td>\n",
       "      <td>1,833.00</td>\n",
       "      <td>1835</td>\n",
       "      <td>-2.00</td>\n",
       "      <td>2,150.00</td>\n",
       "      <td>2146</td>\n",
       "      <td>4.00</td>\n",
       "      <td>DL</td>\n",
       "      <td>2391</td>\n",
       "      <td>N995DL</td>\n",
       "      <td>JFK</td>\n",
       "      <td>TPA</td>\n",
       "      <td>168.00</td>\n",
       "      <td>1005</td>\n",
       "      <td>18</td>\n",
       "      <td>35</td>\n",
       "      <td>2013-10-22 18:00:00</td>\n",
       "    </tr>\n",
       "  </tbody>\n",
       "</table>\n",
       "</div>"
      ],
      "text/plain": [
       "        year  month  day  dep_time  sched_dep_time  dep_delay  arr_time  \\\n",
       "49635   2013     10   25    807.00             815      -8.00    952.00   \n",
       "311398  2013      9    3  1,510.00            1439      31.00  1,643.00   \n",
       "224714  2013      6    3  2,017.00            2013       4.00  2,301.00   \n",
       "165907  2013      4    1  1,938.00            1859      39.00  2,046.00   \n",
       "47322   2013     10   22  1,833.00            1835      -2.00  2,150.00   \n",
       "\n",
       "        sched_arr_time  arr_delay carrier  flight tailnum origin dest  \\\n",
       "49635              947       5.00      9E    4326  N602XJ    JFK  BUF   \n",
       "311398            1607      36.00      9E    3712  N8409N    JFK  BWI   \n",
       "224714            2304      -3.00      UA    1675  N39726    EWR  IAH   \n",
       "165907            2027      19.00      9E    4091  N8736A    JFK  BWI   \n",
       "47322             2146       4.00      DL    2391  N995DL    JFK  TPA   \n",
       "\n",
       "        air_time  distance  hour  minute            time_hour  \n",
       "49635      55.00       301     8      15  2013-10-25 08:00:00  \n",
       "311398     35.00       184    14      39  2013-09-03 14:00:00  \n",
       "224714    199.00      1400    20      13  2013-06-03 20:00:00  \n",
       "165907     43.00       184    18      59  2013-04-01 18:00:00  \n",
       "47322     168.00      1005    18      35  2013-10-22 18:00:00  "
      ]
     },
     "execution_count": 12,
     "metadata": {},
     "output_type": "execute_result"
    }
   ],
   "source": [
    "%matplotlib inline\n",
    "\n",
    "import pandas as pd\n",
    "import matplotlib.pyplot as plt\n",
    "import numpy as np\n",
    "\n",
    "pd.options.display.float_format = '{:,.2f}'.format\n",
    "flights = pd.read_csv(data_location)\n",
    "flights.sample(5)"
   ]
  },
  {
   "cell_type": "code",
   "execution_count": 8,
   "id": "5476d45d-9cb2-4737-bf12-d06e66eb8efa",
   "metadata": {},
   "outputs": [
    {
     "data": {
      "text/plain": [
       "month\n",
       "1     6.13\n",
       "2     5.61\n",
       "3     5.81\n",
       "4    11.18\n",
       "5     3.52\n",
       "6    16.48\n",
       "7    16.71\n",
       "8     6.04\n",
       "9    -4.02\n",
       "10   -0.17\n",
       "11    0.46\n",
       "12   14.87\n",
       "Name: arr_delay, dtype: float64"
      ]
     },
     "execution_count": 8,
     "metadata": {},
     "output_type": "execute_result"
    }
   ],
   "source": [
    "mean_delay_by_month = flights.groupby(['month'])['arr_delay'].mean()\n",
    "mean_delay_by_month"
   ]
  },
  {
   "cell_type": "code",
   "execution_count": 9,
   "id": "1903976d-5a24-4ac5-8360-6c7e7b8360e8",
   "metadata": {},
   "outputs": [
    {
     "data": {
      "text/plain": [
       "<AxesSubplot:title={'center':'Mean Delay By Month'}, xlabel='month'>"
      ]
     },
     "execution_count": 9,
     "metadata": {},
     "output_type": "execute_result"
    },
    {
     "data": {
      "image/png": "[encoded data removed]",
      "text/plain": [
       "<Figure size 432x288 with 1 Axes>"
      ]
     },
     "metadata": {
      "needs_background": "light"
     },
     "output_type": "display_data"
    }
   ],
   "source": [
    "mean_delay_by_month.plot(kind='bar', title=\"Mean Delay By Month\")"
   ]
  },
  {
   "cell_type": "code",
   "execution_count": 10,
   "id": "ba94f744-25a5-4ace-af62-3d3122a76afe",
   "metadata": {},
   "outputs": [
    {
     "data": {
      "text/plain": [
       "month\n",
       "1     7.29\n",
       "2     3.68\n",
       "3    -2.70\n",
       "4    19.18\n",
       "5     7.94\n",
       "6    13.30\n",
       "7     8.41\n",
       "8     4.26\n",
       "9    -4.75\n",
       "10   -1.60\n",
       "11    2.07\n",
       "12   16.46\n",
       "Name: arr_delay, dtype: float64"
      ]
     },
     "execution_count": 10,
     "metadata": {},
     "output_type": "execute_result"
    }
   ],
   "source": [
    "flights[(flights.dest == 'ORD')]\n",
    "\n",
    "mean_delay_by_month_ord = flights[(flights.dest == 'ORD')].groupby(['month'])['arr_delay'].mean()\n",
    "mean_delay_by_month_ord"
   ]
  },
  {
   "cell_type": "code",
   "execution_count": 11,
   "id": "83fd7cdb-e0d6-4135-b745-64f8022e4024",
   "metadata": {},
   "outputs": [
    {
     "data": {
      "text/plain": [
       "<AxesSubplot:title={'center':'Mean Delay By Month per destination'}, xlabel='month'>"
      ]
     },
     "execution_count": 11,
     "metadata": {},
     "output_type": "execute_result"
    },
    {
     "data": {
      "image/png": "[encoded data removed]",
      "text/plain": [
       "<Figure size 432x288 with 1 Axes>"
      ]
     },
     "metadata": {
      "needs_background": "light"
     },
     "output_type": "display_data"
    }
   ],
   "source": [
    "mean_delay_by_month_ord.plot(kind='bar', title=\"Mean Delay By Month per destination\")"
   ]
  }
 ],
 "metadata": {
  "kernelspec": {
   "display_name": "Python 3",
   "language": "python",
   "name": "python3"
  },
  "language_info": {
   "codemirror_mode": {
    "name": "ipython",
    "version": 3
   },
   "file_extension": ".py",
   "mimetype": "text/x-python",
   "name": "python",
   "nbconvert_exporter": "python",
   "pygments_lexer": "ipython3",
   "version": "3.8.10"
  }
 },
 "nbformat": 4,
 "nbformat_minor": 5
}
