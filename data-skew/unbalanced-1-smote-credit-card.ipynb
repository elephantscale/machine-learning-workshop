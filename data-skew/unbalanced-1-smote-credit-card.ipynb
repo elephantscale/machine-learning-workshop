{
 "cells": [
  {
   "cell_type": "markdown",
   "metadata": {
    "id": "ioQllDDHlLDQ"
   },
   "source": [
    "# Dealing with Unbalanced Data using SMOTE\n",
    "\n"
   ]
  },
  {
   "cell_type": "code",
   "execution_count": 1,
   "metadata": {
    "id": "hNNMaMAHk8pq"
   },
   "outputs": [],
   "source": [
    "import numpy as np\n",
    "import pandas as pd\n",
    "import matplotlib.pyplot as plt\n",
    "import seaborn as sns\n",
    "\n",
    "pd.options.display.float_format = '{:,.2f}'.format"
   ]
  },
  {
   "cell_type": "markdown",
   "metadata": {
    "id": "IVfT952YltQZ"
   },
   "source": [
    "## Step-1: Download Data"
   ]
  },
  {
   "cell_type": "code",
   "execution_count": 2,
   "metadata": {
    "colab": {
     "base_uri": "https://localhost:8080/"
    },
    "id": "Pq-p7ssilZdE",
    "outputId": "17404709-f1fe-4efc-d4c5-bfbc0c74874f"
   },
   "outputs": [
    {
     "name": "stdout",
     "output_type": "stream",
     "text": [
      "data_location: default.csv\n"
     ]
    }
   ],
   "source": [
    "import os\n",
    "import urllib.request\n",
    "\n",
    "data_url = 'https://raw.githubusercontent.com/elephantscale/datasets/master/credit-card-default/default.csv'\n",
    "data_location = os.path.basename(data_url)\n",
    "\n",
    "if not os.path.exists (data_location):\n",
    "    print(\"Downloading : \", data_url)\n",
    "    urllib.request.urlretrieve(data_url, data_location)\n",
    "print('data_location:', data_location)"
   ]
  },
  {
   "cell_type": "code",
   "execution_count": 3,
   "metadata": {
    "colab": {
     "base_uri": "https://localhost:8080/",
     "height": 456
    },
    "id": "gDYImJcJlyjl",
    "outputId": "60fe1924-9dca-4e93-b33b-ca981247759b"
   },
   "outputs": [
    {
     "data": {
      "text/html": [
       "<div>\n",
       "<style scoped>\n",
       "    .dataframe tbody tr th:only-of-type {\n",
       "        vertical-align: middle;\n",
       "    }\n",
       "\n",
       "    .dataframe tbody tr th {\n",
       "        vertical-align: top;\n",
       "    }\n",
       "\n",
       "    .dataframe thead th {\n",
       "        text-align: right;\n",
       "    }\n",
       "</style>\n",
       "<table border=\"1\" class=\"dataframe\">\n",
       "  <thead>\n",
       "    <tr style=\"text-align: right;\">\n",
       "      <th></th>\n",
       "      <th>ID</th>\n",
       "      <th>LIMIT_BAL</th>\n",
       "      <th>SEX</th>\n",
       "      <th>EDUCATION</th>\n",
       "      <th>MARRIAGE</th>\n",
       "      <th>AGE</th>\n",
       "      <th>PAY_0</th>\n",
       "      <th>PAY_2</th>\n",
       "      <th>PAY_3</th>\n",
       "      <th>PAY_4</th>\n",
       "      <th>...</th>\n",
       "      <th>BILL_AMT4</th>\n",
       "      <th>BILL_AMT5</th>\n",
       "      <th>BILL_AMT6</th>\n",
       "      <th>PAY_AMT1</th>\n",
       "      <th>PAY_AMT2</th>\n",
       "      <th>PAY_AMT3</th>\n",
       "      <th>PAY_AMT4</th>\n",
       "      <th>PAY_AMT5</th>\n",
       "      <th>PAY_AMT6</th>\n",
       "      <th>default</th>\n",
       "    </tr>\n",
       "  </thead>\n",
       "  <tbody>\n",
       "    <tr>\n",
       "      <th>6304</th>\n",
       "      <td>6305</td>\n",
       "      <td>180000</td>\n",
       "      <td>1</td>\n",
       "      <td>2</td>\n",
       "      <td>2</td>\n",
       "      <td>36</td>\n",
       "      <td>-1</td>\n",
       "      <td>-1</td>\n",
       "      <td>-1</td>\n",
       "      <td>-1</td>\n",
       "      <td>...</td>\n",
       "      <td>1863</td>\n",
       "      <td>1763</td>\n",
       "      <td>591</td>\n",
       "      <td>100</td>\n",
       "      <td>109</td>\n",
       "      <td>3626</td>\n",
       "      <td>0</td>\n",
       "      <td>907</td>\n",
       "      <td>1208</td>\n",
       "      <td>1</td>\n",
       "    </tr>\n",
       "    <tr>\n",
       "      <th>2445</th>\n",
       "      <td>2446</td>\n",
       "      <td>200000</td>\n",
       "      <td>1</td>\n",
       "      <td>2</td>\n",
       "      <td>2</td>\n",
       "      <td>25</td>\n",
       "      <td>1</td>\n",
       "      <td>-2</td>\n",
       "      <td>-2</td>\n",
       "      <td>-1</td>\n",
       "      <td>...</td>\n",
       "      <td>1517</td>\n",
       "      <td>48669</td>\n",
       "      <td>49635</td>\n",
       "      <td>0</td>\n",
       "      <td>0</td>\n",
       "      <td>1517</td>\n",
       "      <td>48000</td>\n",
       "      <td>1775</td>\n",
       "      <td>1992</td>\n",
       "      <td>1</td>\n",
       "    </tr>\n",
       "    <tr>\n",
       "      <th>12325</th>\n",
       "      <td>12326</td>\n",
       "      <td>50000</td>\n",
       "      <td>2</td>\n",
       "      <td>3</td>\n",
       "      <td>1</td>\n",
       "      <td>52</td>\n",
       "      <td>0</td>\n",
       "      <td>0</td>\n",
       "      <td>0</td>\n",
       "      <td>0</td>\n",
       "      <td>...</td>\n",
       "      <td>18426</td>\n",
       "      <td>18812</td>\n",
       "      <td>19275</td>\n",
       "      <td>1593</td>\n",
       "      <td>1301</td>\n",
       "      <td>659</td>\n",
       "      <td>682</td>\n",
       "      <td>775</td>\n",
       "      <td>584</td>\n",
       "      <td>0</td>\n",
       "    </tr>\n",
       "    <tr>\n",
       "      <th>10204</th>\n",
       "      <td>10205</td>\n",
       "      <td>120000</td>\n",
       "      <td>2</td>\n",
       "      <td>2</td>\n",
       "      <td>2</td>\n",
       "      <td>48</td>\n",
       "      <td>0</td>\n",
       "      <td>0</td>\n",
       "      <td>0</td>\n",
       "      <td>0</td>\n",
       "      <td>...</td>\n",
       "      <td>77242</td>\n",
       "      <td>81826</td>\n",
       "      <td>83630</td>\n",
       "      <td>2680</td>\n",
       "      <td>2741</td>\n",
       "      <td>2933</td>\n",
       "      <td>6000</td>\n",
       "      <td>3300</td>\n",
       "      <td>0</td>\n",
       "      <td>0</td>\n",
       "    </tr>\n",
       "    <tr>\n",
       "      <th>21999</th>\n",
       "      <td>22000</td>\n",
       "      <td>200000</td>\n",
       "      <td>2</td>\n",
       "      <td>2</td>\n",
       "      <td>2</td>\n",
       "      <td>28</td>\n",
       "      <td>0</td>\n",
       "      <td>0</td>\n",
       "      <td>0</td>\n",
       "      <td>0</td>\n",
       "      <td>...</td>\n",
       "      <td>66029</td>\n",
       "      <td>66836</td>\n",
       "      <td>68390</td>\n",
       "      <td>3000</td>\n",
       "      <td>3000</td>\n",
       "      <td>3000</td>\n",
       "      <td>2500</td>\n",
       "      <td>2632</td>\n",
       "      <td>2700</td>\n",
       "      <td>0</td>\n",
       "    </tr>\n",
       "    <tr>\n",
       "      <th>21235</th>\n",
       "      <td>21236</td>\n",
       "      <td>150000</td>\n",
       "      <td>1</td>\n",
       "      <td>1</td>\n",
       "      <td>2</td>\n",
       "      <td>36</td>\n",
       "      <td>2</td>\n",
       "      <td>2</td>\n",
       "      <td>2</td>\n",
       "      <td>-2</td>\n",
       "      <td>...</td>\n",
       "      <td>-46627</td>\n",
       "      <td>-46627</td>\n",
       "      <td>-46627</td>\n",
       "      <td>5068</td>\n",
       "      <td>9</td>\n",
       "      <td>0</td>\n",
       "      <td>0</td>\n",
       "      <td>0</td>\n",
       "      <td>0</td>\n",
       "      <td>1</td>\n",
       "    </tr>\n",
       "    <tr>\n",
       "      <th>6898</th>\n",
       "      <td>6899</td>\n",
       "      <td>130000</td>\n",
       "      <td>2</td>\n",
       "      <td>3</td>\n",
       "      <td>2</td>\n",
       "      <td>39</td>\n",
       "      <td>0</td>\n",
       "      <td>0</td>\n",
       "      <td>0</td>\n",
       "      <td>2</td>\n",
       "      <td>...</td>\n",
       "      <td>130814</td>\n",
       "      <td>130758</td>\n",
       "      <td>123468</td>\n",
       "      <td>7500</td>\n",
       "      <td>10000</td>\n",
       "      <td>0</td>\n",
       "      <td>4500</td>\n",
       "      <td>4500</td>\n",
       "      <td>4179</td>\n",
       "      <td>0</td>\n",
       "    </tr>\n",
       "    <tr>\n",
       "      <th>709</th>\n",
       "      <td>710</td>\n",
       "      <td>20000</td>\n",
       "      <td>1</td>\n",
       "      <td>2</td>\n",
       "      <td>2</td>\n",
       "      <td>49</td>\n",
       "      <td>0</td>\n",
       "      <td>0</td>\n",
       "      <td>0</td>\n",
       "      <td>0</td>\n",
       "      <td>...</td>\n",
       "      <td>18424</td>\n",
       "      <td>18800</td>\n",
       "      <td>10000</td>\n",
       "      <td>1441</td>\n",
       "      <td>1400</td>\n",
       "      <td>368</td>\n",
       "      <td>376</td>\n",
       "      <td>200</td>\n",
       "      <td>0</td>\n",
       "      <td>0</td>\n",
       "    </tr>\n",
       "    <tr>\n",
       "      <th>25295</th>\n",
       "      <td>25296</td>\n",
       "      <td>60000</td>\n",
       "      <td>2</td>\n",
       "      <td>2</td>\n",
       "      <td>2</td>\n",
       "      <td>24</td>\n",
       "      <td>0</td>\n",
       "      <td>0</td>\n",
       "      <td>0</td>\n",
       "      <td>0</td>\n",
       "      <td>...</td>\n",
       "      <td>45402</td>\n",
       "      <td>35704</td>\n",
       "      <td>36524</td>\n",
       "      <td>2100</td>\n",
       "      <td>1847</td>\n",
       "      <td>1837</td>\n",
       "      <td>1139</td>\n",
       "      <td>1254</td>\n",
       "      <td>1387</td>\n",
       "      <td>0</td>\n",
       "    </tr>\n",
       "    <tr>\n",
       "      <th>16943</th>\n",
       "      <td>16944</td>\n",
       "      <td>60000</td>\n",
       "      <td>1</td>\n",
       "      <td>3</td>\n",
       "      <td>1</td>\n",
       "      <td>54</td>\n",
       "      <td>0</td>\n",
       "      <td>0</td>\n",
       "      <td>0</td>\n",
       "      <td>0</td>\n",
       "      <td>...</td>\n",
       "      <td>29941</td>\n",
       "      <td>1341</td>\n",
       "      <td>1876</td>\n",
       "      <td>20000</td>\n",
       "      <td>3000</td>\n",
       "      <td>3000</td>\n",
       "      <td>1000</td>\n",
       "      <td>2000</td>\n",
       "      <td>25000</td>\n",
       "      <td>0</td>\n",
       "    </tr>\n",
       "  </tbody>\n",
       "</table>\n",
       "<p>10 rows × 25 columns</p>\n",
       "</div>"
      ],
      "text/plain": [
       "          ID  LIMIT_BAL  SEX  EDUCATION  MARRIAGE  AGE  PAY_0  PAY_2  PAY_3  \\\n",
       "6304    6305     180000    1          2         2   36     -1     -1     -1   \n",
       "2445    2446     200000    1          2         2   25      1     -2     -2   \n",
       "12325  12326      50000    2          3         1   52      0      0      0   \n",
       "10204  10205     120000    2          2         2   48      0      0      0   \n",
       "21999  22000     200000    2          2         2   28      0      0      0   \n",
       "21235  21236     150000    1          1         2   36      2      2      2   \n",
       "6898    6899     130000    2          3         2   39      0      0      0   \n",
       "709      710      20000    1          2         2   49      0      0      0   \n",
       "25295  25296      60000    2          2         2   24      0      0      0   \n",
       "16943  16944      60000    1          3         1   54      0      0      0   \n",
       "\n",
       "       PAY_4  ...  BILL_AMT4  BILL_AMT5  BILL_AMT6  PAY_AMT1  PAY_AMT2  \\\n",
       "6304      -1  ...       1863       1763        591       100       109   \n",
       "2445      -1  ...       1517      48669      49635         0         0   \n",
       "12325      0  ...      18426      18812      19275      1593      1301   \n",
       "10204      0  ...      77242      81826      83630      2680      2741   \n",
       "21999      0  ...      66029      66836      68390      3000      3000   \n",
       "21235     -2  ...     -46627     -46627     -46627      5068         9   \n",
       "6898       2  ...     130814     130758     123468      7500     10000   \n",
       "709        0  ...      18424      18800      10000      1441      1400   \n",
       "25295      0  ...      45402      35704      36524      2100      1847   \n",
       "16943      0  ...      29941       1341       1876     20000      3000   \n",
       "\n",
       "       PAY_AMT3  PAY_AMT4  PAY_AMT5  PAY_AMT6  default  \n",
       "6304       3626         0       907      1208        1  \n",
       "2445       1517     48000      1775      1992        1  \n",
       "12325       659       682       775       584        0  \n",
       "10204      2933      6000      3300         0        0  \n",
       "21999      3000      2500      2632      2700        0  \n",
       "21235         0         0         0         0        1  \n",
       "6898          0      4500      4500      4179        0  \n",
       "709         368       376       200         0        0  \n",
       "25295      1837      1139      1254      1387        0  \n",
       "16943      3000      1000      2000     25000        0  \n",
       "\n",
       "[10 rows x 25 columns]"
      ]
     },
     "execution_count": 3,
     "metadata": {},
     "output_type": "execute_result"
    }
   ],
   "source": [
    "data = pd.read_csv(data_location)\n",
    "data.sample(10)"
   ]
  },
  {
   "cell_type": "markdown",
   "metadata": {
    "id": "FLVjKutTmS7w"
   },
   "source": [
    "## Step-2: EDA\n",
    "\n",
    "See the `default` column is skewed.  We have more 0s (78%) than 1s(22%). "
   ]
  },
  {
   "cell_type": "code",
   "execution_count": 4,
   "metadata": {
    "colab": {
     "base_uri": "https://localhost:8080/",
     "height": 833
    },
    "id": "J8urGA1nl0gH",
    "outputId": "7e76acf1-2bbb-4ff2-be68-b377a4b793e4"
   },
   "outputs": [],
   "source": [
    "## TODO: data.describe()\n",
    "# data.describe()"
   ]
  },
  {
   "cell_type": "code",
   "execution_count": 5,
   "metadata": {
    "colab": {
     "base_uri": "https://localhost:8080/"
    },
    "id": "awy4QJnenY3l",
    "outputId": "5a04b248-4c8d-4f4d-f0ef-8b03618808ed"
   },
   "outputs": [
    {
     "data": {
      "text/plain": [
       "0    23364\n",
       "1     6636\n",
       "Name: default, dtype: int64"
      ]
     },
     "execution_count": 5,
     "metadata": {},
     "output_type": "execute_result"
    }
   ],
   "source": [
    "## Check data skew\n",
    "data['default'].value_counts()"
   ]
  },
  {
   "cell_type": "code",
   "execution_count": 6,
   "metadata": {},
   "outputs": [
    {
     "data": {
      "text/plain": [
       "0   0.78\n",
       "1   0.22\n",
       "Name: default, dtype: float64"
      ]
     },
     "execution_count": 6,
     "metadata": {},
     "output_type": "execute_result"
    }
   ],
   "source": [
    "data['default'].value_counts(normalize=True)"
   ]
  },
  {
   "cell_type": "markdown",
   "metadata": {
    "id": "F3x3Ur41sIKC"
   },
   "source": [
    "## Step-3: Shape data"
   ]
  },
  {
   "cell_type": "code",
   "execution_count": 7,
   "metadata": {
    "id": "C1QjYZz1r4l8"
   },
   "outputs": [],
   "source": [
    "label_col = 'default'\n",
    "\n",
    "feature_columns = data.columns\n",
    "## TODO : drop 'ID' and 'default' columns\n",
    "feature_columns = feature_columns.drop (['ID', 'default'])\n",
    "#print (feature_columns)"
   ]
  },
  {
   "cell_type": "code",
   "execution_count": 8,
   "metadata": {
    "colab": {
     "base_uri": "https://localhost:8080/"
    },
    "id": "9kCuOXtGsGd6",
    "outputId": "a2a50a50-f1c4-4ffe-ac06-31eb1b0bff1e"
   },
   "outputs": [
    {
     "name": "stdout",
     "output_type": "stream",
     "text": [
      "(30000, 23)\n",
      "(30000, 1)\n"
     ]
    }
   ],
   "source": [
    "X = data[feature_columns]\n",
    "y = data[[label_col]]\n",
    "\n",
    "print (X.shape)\n",
    "print (y.shape)"
   ]
  },
  {
   "cell_type": "code",
   "execution_count": 9,
   "metadata": {
    "colab": {
     "base_uri": "https://localhost:8080/"
    },
    "id": "qT7gRx7DtI6Q",
    "outputId": "47458822-76dc-4bbd-e04c-b84e08529801"
   },
   "outputs": [
    {
     "name": "stdout",
     "output_type": "stream",
     "text": [
      "x_train : (24000, 23)\n",
      "x_test : (6000, 23)\n",
      "y_train : (24000, 1)\n",
      "y_test : (6000, 1)\n"
     ]
    }
   ],
   "source": [
    "from sklearn.model_selection import train_test_split\n",
    "\n",
    "## TODO : split data into train / test, with 20% for test\n",
    "## hint : 20% is 0.2\n",
    "\n",
    "X_train,X_test,y_train, y_test = train_test_split(X,y,  test_size=0.2, random_state=123)\n",
    "\n",
    "\n",
    "print (\"x_train :\" , X_train.shape )\n",
    "print (\"x_test :\", X_test.shape)\n",
    "print (\"y_train :\", y_train.shape)\n",
    "print (\"y_test :\", y_test.shape)"
   ]
  },
  {
   "cell_type": "code",
   "execution_count": 10,
   "metadata": {},
   "outputs": [
    {
     "data": {
      "text/plain": [
       "default\n",
       "0          18668\n",
       "1           5332\n",
       "dtype: int64"
      ]
     },
     "execution_count": 10,
     "metadata": {},
     "output_type": "execute_result"
    }
   ],
   "source": [
    "# See train set's data spread\n",
    "y_train.value_counts()"
   ]
  },
  {
   "cell_type": "code",
   "execution_count": 11,
   "metadata": {},
   "outputs": [
    {
     "data": {
      "text/plain": [
       "default\n",
       "0         0.78\n",
       "1         0.22\n",
       "dtype: float64"
      ]
     },
     "execution_count": 11,
     "metadata": {},
     "output_type": "execute_result"
    }
   ],
   "source": [
    "y_train.value_counts(normalize=True)"
   ]
  },
  {
   "cell_type": "markdown",
   "metadata": {
    "id": "1tybhfVXtlNN"
   },
   "source": [
    "## Step-4: Classification Algo"
   ]
  },
  {
   "cell_type": "code",
   "execution_count": 12,
   "metadata": {
    "colab": {
     "base_uri": "https://localhost:8080/"
    },
    "id": "g3GHYno1te-w",
    "outputId": "8e0ed4ca-2795-4353-94d7-575613accb44"
   },
   "outputs": [
    {
     "name": "stdout",
     "output_type": "stream",
     "text": [
      "GradientBoostingClassifier()\n",
      "CPU times: user 5.28 s, sys: 8.14 ms, total: 5.29 s\n",
      "Wall time: 5.32 s\n"
     ]
    }
   ],
   "source": [
    "%%time\n",
    "\n",
    "import numpy as np\n",
    "from sklearn.linear_model import LogisticRegression\n",
    "from sklearn.ensemble import RandomForestClassifier\n",
    "from sklearn.svm import LinearSVC\n",
    "from sklearn.ensemble import GradientBoostingClassifier\n",
    "\n",
    "# algo = LogisticRegression(max_iter=500)\n",
    "#algo = LinearSVC(max_iter=5000)\n",
    "#algo = RandomForestClassifier()\n",
    "algo = GradientBoostingClassifier()\n",
    "\n",
    "\n",
    "model = algo.fit(X_train, np.ravel(y_train))\n",
    "print (model)"
   ]
  },
  {
   "cell_type": "markdown",
   "metadata": {
    "id": "7BPibCyyuR26"
   },
   "source": [
    "## Step-5 : Evaluate"
   ]
  },
  {
   "cell_type": "code",
   "execution_count": 13,
   "metadata": {
    "colab": {
     "base_uri": "https://localhost:8080/"
    },
    "id": "-YLUHLhyt8WB",
    "outputId": "dbf8c66c-c264-48be-e99e-1356dd537bd7"
   },
   "outputs": [],
   "source": [
    "y_pred = model.predict (X_test)"
   ]
  },
  {
   "cell_type": "code",
   "execution_count": 14,
   "metadata": {
    "colab": {
     "base_uri": "https://localhost:8080/",
     "height": 129
    },
    "id": "j0TG9t3XwZHj",
    "outputId": "9e7eea36-4366-4760-c110-f866e3cb9f91"
   },
   "outputs": [],
   "source": [
    "# values, counts = np.unique(y_pred, return_counts=True)\n",
    "# print (values, counts)\n",
    "# pd.DataFrame({'values' : values, 'counts' : counts})"
   ]
  },
  {
   "cell_type": "code",
   "execution_count": 15,
   "metadata": {
    "colab": {
     "base_uri": "https://localhost:8080/"
    },
    "id": "7FfSXWq8ujEx",
    "outputId": "efbea49b-74f6-4116-ce5b-d47c9e2e5f38"
   },
   "outputs": [
    {
     "name": "stdout",
     "output_type": "stream",
     "text": [
      "Train accuracy:  0.8256666666666667\n",
      "Test accuracy:  0.8228333333333333\n"
     ]
    }
   ],
   "source": [
    "train_accuracy = model.score(X_train,y_train)\n",
    "print (\"Train accuracy: \", train_accuracy)\n",
    "\n",
    "test_accuracy = model.score(X_test, y_test)\n",
    "print (\"Test accuracy: \", test_accuracy)"
   ]
  },
  {
   "cell_type": "code",
   "execution_count": 16,
   "metadata": {
    "colab": {
     "base_uri": "https://localhost:8080/",
     "height": 112
    },
    "id": "ivbRQVBkuysg",
    "outputId": "214a88ea-b73a-4166-a642-88d8bfc0e835"
   },
   "outputs": [
    {
     "data": {
      "text/html": [
       "<div>\n",
       "<style scoped>\n",
       "    .dataframe tbody tr th:only-of-type {\n",
       "        vertical-align: middle;\n",
       "    }\n",
       "\n",
       "    .dataframe tbody tr th {\n",
       "        vertical-align: top;\n",
       "    }\n",
       "\n",
       "    .dataframe thead th {\n",
       "        text-align: right;\n",
       "    }\n",
       "</style>\n",
       "<table border=\"1\" class=\"dataframe\">\n",
       "  <thead>\n",
       "    <tr style=\"text-align: right;\">\n",
       "      <th></th>\n",
       "      <th>0</th>\n",
       "      <th>1</th>\n",
       "    </tr>\n",
       "  </thead>\n",
       "  <tbody>\n",
       "    <tr>\n",
       "      <th>0</th>\n",
       "      <td>4440</td>\n",
       "      <td>256</td>\n",
       "    </tr>\n",
       "    <tr>\n",
       "      <th>1</th>\n",
       "      <td>807</td>\n",
       "      <td>497</td>\n",
       "    </tr>\n",
       "  </tbody>\n",
       "</table>\n",
       "</div>"
      ],
      "text/plain": [
       "      0    1\n",
       "0  4440  256\n",
       "1   807  497"
      ]
     },
     "execution_count": 16,
     "metadata": {},
     "output_type": "execute_result"
    }
   ],
   "source": [
    "from sklearn.metrics import confusion_matrix\n",
    "import numpy as np\n",
    "\n",
    "cm_labels = np.unique(y)\n",
    "cm_array = confusion_matrix(y_test, y_pred)\n",
    "#print (cm_array)\n",
    "\n",
    "cm_df = pd.DataFrame(cm_array, index=cm_labels, columns=cm_labels)\n",
    "cm_df"
   ]
  },
  {
   "cell_type": "code",
   "execution_count": 17,
   "metadata": {
    "colab": {
     "base_uri": "https://localhost:8080/",
     "height": 347
    },
    "id": "pK1U05-gu3iQ",
    "outputId": "542cd597-c4e5-44a2-d3ed-08faaa97048f"
   },
   "outputs": [
    {
     "data": {
      "text/plain": [
       "[]"
      ]
     },
     "execution_count": 17,
     "metadata": {},
     "output_type": "execute_result"
    },
    {
     "data": {
      "image/png": "[encoded data removed]",
      "text/plain": [
       "<Figure size 576x360 with 2 Axes>"
      ]
     },
     "metadata": {
      "needs_background": "light"
     },
     "output_type": "display_data"
    }
   ],
   "source": [
    "import matplotlib.pyplot as plt\n",
    "import seaborn as sns\n",
    "\n",
    "plt.figure(figsize = (8,5))\n",
    "\n",
    "# colormaps : cmap=\"YlGnBu\" , cmap=\"Greens\", cmap=\"Blues\",  cmap=\"Reds\"\n",
    "sns.heatmap(cm_df, annot=True, cmap=\"Reds\", fmt='d').plot()"
   ]
  },
  {
   "cell_type": "markdown",
   "metadata": {},
   "source": [
    "## Analyzing Results\n",
    "\n",
    "Even though we get 82% accuracy, it is not doing well with 1s.  Because we have far fewer ones than zeros.\n"
   ]
  },
  {
   "cell_type": "markdown",
   "metadata": {},
   "source": [
    "## Step-6: SMOTE\n",
    "\n",
    "Install it as follows\n",
    "\n",
    "\n",
    "```bash\n",
    "$   conda install -c conda-forge imbalanced-learn\n",
    "```"
   ]
  },
  {
   "cell_type": "code",
   "execution_count": 18,
   "metadata": {},
   "outputs": [
    {
     "name": "stdout",
     "output_type": "stream",
     "text": [
      "x_train_smote : (37336, 23)\n",
      "x_test : (6000, 23)\n",
      "y_train_smote : (37336, 1)\n",
      "y_test : (6000, 1)\n"
     ]
    }
   ],
   "source": [
    "import numpy as np\n",
    "from imblearn.over_sampling import SMOTE\n",
    "\n",
    "oversampler= SMOTE(random_state=0)\n",
    "\n",
    "# Creating new training set\n",
    "X_train_smote, y_train_smote = oversampler.fit_resample(X_train, y_train)\n",
    "\n",
    "\n",
    "print (\"x_train_smote :\" , X_train_smote.shape )\n",
    "print (\"x_test :\", X_test.shape)\n",
    "print (\"y_train_smote :\", y_train_smote.shape)\n",
    "print (\"y_test :\", y_test.shape)"
   ]
  },
  {
   "cell_type": "code",
   "execution_count": 19,
   "metadata": {},
   "outputs": [
    {
     "data": {
      "text/plain": [
       "default\n",
       "0          18668\n",
       "1          18668\n",
       "dtype: int64"
      ]
     },
     "execution_count": 19,
     "metadata": {},
     "output_type": "execute_result"
    }
   ],
   "source": [
    "## Now examine the resampled data\n",
    "y_train_smote.value_counts()"
   ]
  },
  {
   "cell_type": "code",
   "execution_count": 20,
   "metadata": {},
   "outputs": [
    {
     "data": {
      "text/plain": [
       "default\n",
       "0         0.50\n",
       "1         0.50\n",
       "dtype: float64"
      ]
     },
     "execution_count": 20,
     "metadata": {},
     "output_type": "execute_result"
    }
   ],
   "source": [
    "y_train_smote.value_counts(normalize=True)"
   ]
  },
  {
   "cell_type": "markdown",
   "metadata": {},
   "source": [
    "### SMOTE target analysis\n",
    "\n",
    "As we can see SMOTE has resampled the 0s and 1s equally (50-50)"
   ]
  },
  {
   "cell_type": "markdown",
   "metadata": {},
   "source": [
    "## Step-7: Rerun Classifier on OverSampled Data"
   ]
  },
  {
   "cell_type": "code",
   "execution_count": 21,
   "metadata": {},
   "outputs": [
    {
     "name": "stdout",
     "output_type": "stream",
     "text": [
      "GradientBoostingClassifier()\n",
      "CPU times: user 8.81 s, sys: 950 µs, total: 8.81 s\n",
      "Wall time: 8.81 s\n"
     ]
    }
   ],
   "source": [
    "%%time\n",
    "\n",
    "import numpy as np\n",
    "from sklearn.linear_model import LogisticRegression\n",
    "from sklearn.ensemble import RandomForestClassifier\n",
    "from sklearn.svm import LinearSVC\n",
    "from sklearn.ensemble import GradientBoostingClassifier\n",
    "\n",
    "# algo = LogisticRegression(max_iter=500)\n",
    "#algo = LinearSVC(max_iter=5000)\n",
    "#algo = RandomForestClassifier()\n",
    "algo = GradientBoostingClassifier()\n",
    "\n",
    "\n",
    "model = algo.fit(X_train_smote, np.ravel(y_train_smote))\n",
    "print (model)"
   ]
  },
  {
   "cell_type": "markdown",
   "metadata": {},
   "source": [
    "## Step-8: Re-Evalute"
   ]
  },
  {
   "cell_type": "code",
   "execution_count": 22,
   "metadata": {},
   "outputs": [
    {
     "name": "stdout",
     "output_type": "stream",
     "text": [
      "Train accuracy:  0.787390186415256\n",
      "Test accuracy:  0.761\n"
     ]
    }
   ],
   "source": [
    "y_pred = model.predict (X_test)\n",
    "\n",
    "train_accuracy = model.score(X_train_smote,y_train_smote)\n",
    "print (\"Train accuracy: \", train_accuracy)\n",
    "\n",
    "test_accuracy = model.score(X_test, y_test)\n",
    "print (\"Test accuracy: \", test_accuracy)"
   ]
  },
  {
   "cell_type": "code",
   "execution_count": 23,
   "metadata": {},
   "outputs": [
    {
     "data": {
      "text/html": [
       "<div>\n",
       "<style scoped>\n",
       "    .dataframe tbody tr th:only-of-type {\n",
       "        vertical-align: middle;\n",
       "    }\n",
       "\n",
       "    .dataframe tbody tr th {\n",
       "        vertical-align: top;\n",
       "    }\n",
       "\n",
       "    .dataframe thead th {\n",
       "        text-align: right;\n",
       "    }\n",
       "</style>\n",
       "<table border=\"1\" class=\"dataframe\">\n",
       "  <thead>\n",
       "    <tr style=\"text-align: right;\">\n",
       "      <th></th>\n",
       "      <th>0</th>\n",
       "      <th>1</th>\n",
       "    </tr>\n",
       "  </thead>\n",
       "  <tbody>\n",
       "    <tr>\n",
       "      <th>0</th>\n",
       "      <td>3835</td>\n",
       "      <td>861</td>\n",
       "    </tr>\n",
       "    <tr>\n",
       "      <th>1</th>\n",
       "      <td>573</td>\n",
       "      <td>731</td>\n",
       "    </tr>\n",
       "  </tbody>\n",
       "</table>\n",
       "</div>"
      ],
      "text/plain": [
       "      0    1\n",
       "0  3835  861\n",
       "1   573  731"
      ]
     },
     "execution_count": 23,
     "metadata": {},
     "output_type": "execute_result"
    }
   ],
   "source": [
    "from sklearn.metrics import confusion_matrix\n",
    "import numpy as np\n",
    "\n",
    "cm_labels = np.unique(y)\n",
    "cm_array = confusion_matrix(y_test, y_pred)\n",
    "#print (cm_array)\n",
    "\n",
    "cm_df = pd.DataFrame(cm_array, index=cm_labels, columns=cm_labels)\n",
    "cm_df"
   ]
  },
  {
   "cell_type": "code",
   "execution_count": 24,
   "metadata": {},
   "outputs": [
    {
     "data": {
      "text/plain": [
       "[]"
      ]
     },
     "execution_count": 24,
     "metadata": {},
     "output_type": "execute_result"
    },
    {
     "data": {
      "image/png": "[encoded data removed]",
      "text/plain": [
       "<Figure size 576x360 with 2 Axes>"
      ]
     },
     "metadata": {
      "needs_background": "light"
     },
     "output_type": "display_data"
    }
   ],
   "source": [
    "import matplotlib.pyplot as plt\n",
    "import seaborn as sns\n",
    "\n",
    "plt.figure(figsize = (8,5))\n",
    "\n",
    "# colormaps : cmap=\"YlGnBu\" , cmap=\"Greens\", cmap=\"Blues\",  cmap=\"Reds\"\n",
    "sns.heatmap(cm_df, annot=True, cmap=\"Reds\", fmt='d').plot()"
   ]
  },
  {
   "cell_type": "markdown",
   "metadata": {},
   "source": [
    "## Analysis\n",
    "\n",
    "After resampling we can see performance on 1 has improved."
   ]
  },
  {
   "cell_type": "code",
   "execution_count": null,
   "metadata": {},
   "outputs": [],
   "source": []
  }
 ],
 "metadata": {
  "colab": {
   "collapsed_sections": [],
   "name": "classification-1-credit-card-default.ipynb",
   "provenance": []
  },
  "kernelspec": {
   "display_name": "Python 3 (ipykernel)",
   "language": "python",
   "name": "python3"
  },
  "language_info": {
   "codemirror_mode": {
    "name": "ipython",
    "version": 3
   },
   "file_extension": ".py",
   "mimetype": "text/x-python",
   "name": "python",
   "nbconvert_exporter": "python",
   "pygments_lexer": "ipython3",
   "version": "3.8.13"
  }
 },
 "nbformat": 4,
 "nbformat_minor": 4
}
