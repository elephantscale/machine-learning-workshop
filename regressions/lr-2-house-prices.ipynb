{
 "cells": [
  {
   "cell_type": "markdown",
   "metadata": {},
   "source": [
    "# Multiple Linear Regression Lab : House Prices\n",
    "\n",
    "### Overview\n",
    "Estimate house prices using MLR\n",
    "\n",
    "### Builds on\n",
    "None\n",
    "\n",
    "### Run time\n",
    "approx. 20 minutes\n",
    "\n",
    "### Notes\n"
   ]
  },
  {
   "cell_type": "markdown",
   "metadata": {},
   "source": [
    "## Step 1 - Load Data"
   ]
  },
  {
   "cell_type": "code",
   "execution_count": 1,
   "metadata": {},
   "outputs": [
    {
     "name": "stdout",
     "output_type": "stream",
     "text": [
      "Downloading :  https://elephantscale-public.s3.amazonaws.com/data/house-prices/house-sales-full.csv\n",
      "data_location: house-sales-full.csv\n"
     ]
    }
   ],
   "source": [
    "import os\n",
    "import urllib.request\n",
    "\n",
    "data_location = \"house-sales-full.csv\"\n",
    "data_url = 'https://elephantscale-public.s3.amazonaws.com/data/house-prices/house-sales-full.csv'\n",
    "#data_url = 'https://raw.githubusercontent.com/elephantscale/datasets/master/house-prices/house-sales-full.csv'\n",
    "\n",
    "if not os.path.exists (data_location):\n",
    "    data_location = os.path.basename(data_location)\n",
    "    if not os.path.exists(data_location):\n",
    "        print(\"Downloading : \", data_url)\n",
    "        urllib.request.urlretrieve(data_url, data_location)\n",
    "print('data_location:', data_location)\n"
   ]
  },
  {
   "cell_type": "code",
   "execution_count": null,
   "metadata": {},
   "outputs": [],
   "source": [
    "import pandas as pd\n",
    "pd.options.display.float_format = '{:,.2f}'.format\n",
    "\n",
    "house_prices = pd.read_csv(data_location)\n",
    "house_prices.sample(10)"
   ]
  },
  {
   "cell_type": "markdown",
   "metadata": {},
   "source": [
    "## Step 2 - Explore Data (EDA)\n",
    "EDA is a great way to get a sense of the data.  \n",
    "\n",
    "Try to find answers to the following questions, by looking at the output of `describe` below\n",
    "\n",
    "- How many 'max' bedrooms do we have? :-)\n",
    "- Find min/max of 'SalePrice'\n",
    "- Do you think we have outliers in data"
   ]
  },
  {
   "cell_type": "code",
   "execution_count": null,
   "metadata": {},
   "outputs": [],
   "source": [
    "## TODO use 'describe()' function to understand data\n",
    "house_prices.???()"
   ]
  },
  {
   "cell_type": "code",
   "execution_count": null,
   "metadata": {},
   "outputs": [],
   "source": [
    "## any correlated columns?\n",
    "## TODO : use 'corr' function to verify\n",
    "house_prices.???()"
   ]
  },
  {
   "cell_type": "markdown",
   "metadata": {},
   "source": [
    "## Step 3 - Shape Data\n",
    "Wow! That's a lot of columns.  Maybe we should foucs on just a few of them.\n",
    "\n",
    "**=> Select only \"SalePrice\", \"Bedrooms\", \"Bathrooms\", \"SqFtTotLiving\", \"SqFtLot\"**"
   ]
  },
  {
   "cell_type": "code",
   "execution_count": null,
   "metadata": {},
   "outputs": [],
   "source": [
    "## TODO : select columns\n",
    "## start with : 'Bedrooms', 'Bathrooms', 'SqFtTotLiving', 'SqFtLot'\n",
    "input_columns= ['Bedrooms', '???', '???', '???']\n",
    "\n",
    "## TODO : select label column\n",
    "##  Hint : 'SalePrice'\n",
    "label_column = ['???']\n",
    "\n",
    "house_prices2 = house_prices[input_columns + label_column]\n",
    "house_prices2"
   ]
  },
  {
   "cell_type": "code",
   "execution_count": null,
   "metadata": {},
   "outputs": [],
   "source": [
    "x = house_prices2[input_columns]\n",
    "y = house_prices2[label_column]\n",
    "\n",
    "print (\"x.shape = \", x.shape)\n",
    "print (\"y.shape = \", y.shape)"
   ]
  },
  {
   "cell_type": "markdown",
   "metadata": {},
   "source": [
    "## Step 4 : Run Regression"
   ]
  },
  {
   "cell_type": "code",
   "execution_count": null,
   "metadata": {},
   "outputs": [],
   "source": [
    "from sklearn.linear_model import LinearRegression\n",
    "\n",
    "##  algo + data --> model\n",
    "algo = LinearRegression ()\n",
    "model = algo.fit(???, ???)  ## TODO : fit (x,y)\n",
    "model"
   ]
  },
  {
   "cell_type": "markdown",
   "metadata": {},
   "source": [
    "## Step 5 : Predict"
   ]
  },
  {
   "cell_type": "code",
   "execution_count": null,
   "metadata": {},
   "outputs": [],
   "source": [
    "## TODO Predict on 'x'\n",
    "predictions = model.predict(???)\n",
    "predictions"
   ]
  },
  {
   "cell_type": "code",
   "execution_count": null,
   "metadata": {},
   "outputs": [],
   "source": [
    "pd.options.display.float_format = '{:,.2f}'.format\n",
    "\n",
    "a = house_prices2[input_columns  + label_column]\n",
    "a['predicted_price'] = predictions\n",
    "a"
   ]
  },
  {
   "cell_type": "markdown",
   "metadata": {},
   "source": [
    "## Step 6 : Evaluate\n",
    "\n",
    "**Q==> Are any coefficients close to zero?  What does that mean?**\n",
    "\n",
    "**Q==> Also inspect R2 value.  Is it decent?**"
   ]
  },
  {
   "cell_type": "code",
   "execution_count": null,
   "metadata": {},
   "outputs": [],
   "source": [
    "## coefficients\n",
    "import numpy as np\n",
    "np.set_printoptions(precision=2, suppress=True)\n",
    "\n",
    "print (\"coefficients: \" , model.coef_)\n",
    "print (\"intercept : \", model.intercept_)"
   ]
  },
  {
   "cell_type": "code",
   "execution_count": null,
   "metadata": {},
   "outputs": [],
   "source": [
    "## print each feature and it's coefficients\n",
    "coef = pd.DataFrame({\"input_column\" : input_columns,  \n",
    "                     \"coefficient\": model.coef_[0]})\n",
    "coef"
   ]
  },
  {
   "cell_type": "code",
   "execution_count": null,
   "metadata": {},
   "outputs": [],
   "source": [
    "from sklearn.metrics import mean_squared_error, r2_score\n",
    "from math import sqrt\n",
    "\n",
    "## TODO : find R2 by comparing 'y' and 'predictions'\n",
    "print (\"R2 : \" , r2_score(y, predictions))\n",
    "\n",
    "print (\"MSE : \", mean_squared_error(y, predictions))\n",
    "print (\"RMSE : \", sqrt(mean_squared_error(y, predictions)) )"
   ]
  },
  {
   "cell_type": "markdown",
   "metadata": {},
   "source": [
    "## Step 7 : Predict on New Data"
   ]
  },
  {
   "cell_type": "code",
   "execution_count": null,
   "metadata": {},
   "outputs": [],
   "source": [
    "## Create some of your own data\n",
    "## Bedrooms : 4,  Bathrooms : 3.5,   SqFtTotLiving : 2000, SqFtLot: 3000\n",
    "new_data = pd.DataFrame({'Bedrooms' : [5,3,???],\n",
    "                         'Bathrooms' : [3,2, ???],\n",
    "                         'SqFtTotLiving' : [4400, 1800, ???],\n",
    "                         'SqFtLot' : [10000, 5000, ???]\n",
    "             })\n",
    "new_data"
   ]
  },
  {
   "cell_type": "code",
   "execution_count": null,
   "metadata": {},
   "outputs": [],
   "source": [
    "new_prediction = model.predict(new_data)\n",
    "new_prediction"
   ]
  },
  {
   "cell_type": "code",
   "execution_count": null,
   "metadata": {},
   "outputs": [],
   "source": [
    "pd.options.display.float_format = '{:,.2f}'.format\n",
    "\n",
    "new_data['predicted_price'] = new_prediction\n",
    "new_data"
   ]
  },
  {
   "cell_type": "markdown",
   "metadata": {},
   "source": [
    "## Step 8 : Imporove Model Performance\n",
    "Now that we have done a 'end-to-end' implementation in Regression.  \n",
    "How ever our accuracy isn't all that great!  \n",
    "\n",
    "**Q ==> What can we do to improve our model?**\n",
    "\n",
    "One option is to choose better input columns.  \n",
    "in Step-3, add more input columns.\n",
    "For example you can add 'LandVal' to input columns as follows\n",
    "\n",
    "```python\n",
    "input_columns= ['Bedrooms', 'Bathrooms', 'SqFtTotLiving', 'SqFtLot', 'LandVal']\n",
    "```\n",
    "\n",
    "And then run the notebook again, and see if the accuracy goes up!\n",
    "\n",
    "### Class Competition\n",
    "\n",
    "Let's see how high you can bring up the model accuracy, with fewest columns as possible."
   ]
  },
  {
   "cell_type": "code",
   "execution_count": null,
   "metadata": {},
   "outputs": [],
   "source": []
  }
 ],
 "metadata": {
  "kernelspec": {
   "display_name": "Python 3 (ipykernel)",
   "language": "python",
   "name": "python3"
  },
  "language_info": {
   "codemirror_mode": {
    "name": "ipython",
    "version": 3
   },
   "file_extension": ".py",
   "mimetype": "text/x-python",
   "name": "python",
   "nbconvert_exporter": "python",
   "pygments_lexer": "ipython3",
   "version": "3.8.13"
  }
 },
 "nbformat": 4,
 "nbformat_minor": 4
}
