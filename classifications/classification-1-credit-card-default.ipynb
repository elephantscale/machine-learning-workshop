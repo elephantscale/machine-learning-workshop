{
 "cells": [
  {
   "cell_type": "markdown",
   "metadata": {
    "id": "ioQllDDHlLDQ"
   },
   "source": [
    "# Classification Exercise - Credit Card Defaults\n",
    "\n",
    "We will use credit card default data from https://www.kaggle.com/datasets/uciml/default-of-credit-card-clients-dataset\n"
   ]
  },
  {
   "cell_type": "code",
   "execution_count": null,
   "metadata": {
    "id": "hNNMaMAHk8pq"
   },
   "outputs": [],
   "source": [
    "import numpy as np\n",
    "import pandas as pd\n",
    "import matplotlib.pyplot as plt\n",
    "import seaborn as sns\n",
    "\n",
    "pd.options.display.float_format = '{:,.2f}'.format"
   ]
  },
  {
   "cell_type": "markdown",
   "metadata": {
    "id": "IVfT952YltQZ"
   },
   "source": [
    "## Step-1: Download Data"
   ]
  },
  {
   "cell_type": "code",
   "execution_count": null,
   "metadata": {
    "colab": {
     "base_uri": "https://localhost:8080/"
    },
    "id": "Pq-p7ssilZdE",
    "outputId": "17404709-f1fe-4efc-d4c5-bfbc0c74874f"
   },
   "outputs": [],
   "source": [
    "import os\n",
    "import urllib.request\n",
    "\n",
    "data_url = 'https://raw.githubusercontent.com/elephantscale/datasets/master/credit-card-default/default2.csv'\n",
    "data_location = os.path.basename(data_url)\n",
    "\n",
    "if not os.path.exists (data_location):\n",
    "    print(\"Downloading : \", data_url)\n",
    "    urllib.request.urlretrieve(data_url, data_location)\n",
    "print('data_location:', data_location)"
   ]
  },
  {
   "cell_type": "code",
   "execution_count": null,
   "metadata": {
    "colab": {
     "base_uri": "https://localhost:8080/",
     "height": 456
    },
    "id": "gDYImJcJlyjl",
    "outputId": "60fe1924-9dca-4e93-b33b-ca981247759b"
   },
   "outputs": [],
   "source": [
    "data = pd.read_csv(data_location)\n",
    "data.sample(10)"
   ]
  },
  {
   "cell_type": "markdown",
   "metadata": {
    "id": "FLVjKutTmS7w"
   },
   "source": [
    "## Step-2: EDA"
   ]
  },
  {
   "cell_type": "code",
   "execution_count": null,
   "metadata": {
    "colab": {
     "base_uri": "https://localhost:8080/",
     "height": 833
    },
    "id": "J8urGA1nl0gH",
    "outputId": "7e76acf1-2bbb-4ff2-be68-b377a4b793e4"
   },
   "outputs": [],
   "source": [
    "## TODO: data.describe()\n",
    "data.???()"
   ]
  },
  {
   "cell_type": "code",
   "execution_count": null,
   "metadata": {
    "colab": {
     "base_uri": "https://localhost:8080/"
    },
    "id": "awy4QJnenY3l",
    "outputId": "5a04b248-4c8d-4f4d-f0ef-8b03618808ed"
   },
   "outputs": [],
   "source": [
    "## Check data skew\n",
    "data['default'].value_counts()"
   ]
  },
  {
   "cell_type": "code",
   "execution_count": null,
   "metadata": {},
   "outputs": [],
   "source": [
    "data['default'].value_counts(normalize=True)"
   ]
  },
  {
   "cell_type": "code",
   "execution_count": null,
   "metadata": {
    "colab": {
     "base_uri": "https://localhost:8080/",
     "height": 926
    },
    "id": "9XCzrsFgomax",
    "outputId": "97a6b285-2c6a-452a-d5eb-31805e687eb4"
   },
   "outputs": [],
   "source": [
    "## TODO: correlation matrix\n",
    "## Hint: data.corr()\n",
    "data.???()"
   ]
  },
  {
   "cell_type": "code",
   "execution_count": null,
   "metadata": {
    "colab": {
     "base_uri": "https://localhost:8080/",
     "height": 664
    },
    "id": "DBngZ5G1pdDU",
    "outputId": "baf597a3-474b-4905-9e15-f1b18373a6f4"
   },
   "outputs": [],
   "source": [
    "plt.figure(figsize = (30,10))\n",
    "\n",
    "#sns.set_context(\"talk\", font_scale=0.9) \n",
    "sns.heatmap(data.corr(), cmap='rainbow_r', annot=True, fmt='.2f')"
   ]
  },
  {
   "cell_type": "markdown",
   "metadata": {
    "id": "FUKVrI47sAZO"
   },
   "source": [
    "## Step-3: Clean up \n",
    "\n",
    "TODO"
   ]
  },
  {
   "cell_type": "markdown",
   "metadata": {
    "id": "F3x3Ur41sIKC"
   },
   "source": [
    "## Step-4: Shape data"
   ]
  },
  {
   "cell_type": "code",
   "execution_count": null,
   "metadata": {
    "id": "C1QjYZz1r4l8"
   },
   "outputs": [],
   "source": [
    "label_col = 'default'\n",
    "\n",
    "feature_columns = data.columns\n",
    "## TODO : drop 'ID' and 'default' columns\n",
    "feature_columns = feature_columns.drop (['ID', '???'])\n",
    "#print (feature_columns)"
   ]
  },
  {
   "cell_type": "code",
   "execution_count": null,
   "metadata": {
    "colab": {
     "base_uri": "https://localhost:8080/"
    },
    "id": "9kCuOXtGsGd6",
    "outputId": "a2a50a50-f1c4-4ffe-ac06-31eb1b0bff1e"
   },
   "outputs": [],
   "source": [
    "X = data[feature_columns]\n",
    "y = data[[label_col]]\n",
    "\n",
    "print (X.shape)\n",
    "print (y.shape)"
   ]
  },
  {
   "cell_type": "code",
   "execution_count": null,
   "metadata": {
    "colab": {
     "base_uri": "https://localhost:8080/"
    },
    "id": "qT7gRx7DtI6Q",
    "outputId": "47458822-76dc-4bbd-e04c-b84e08529801"
   },
   "outputs": [],
   "source": [
    "from sklearn.model_selection import train_test_split\n",
    "\n",
    "## TODO : split data into train / test, with 20% for test\n",
    "## hint : 20% is 0.2\n",
    "\n",
    "X_train,X_test,y_train, y_test = train_test_split(X,y,  test_size=???, random_state=123)\n",
    "\n",
    "\n",
    "print (\"x_train :\" , X_train.shape )\n",
    "print (\"x_test :\", X_test.shape)\n",
    "print (\"y_train :\", y_train.shape)\n",
    "print (\"y_test :\", y_test.shape)"
   ]
  },
  {
   "cell_type": "markdown",
   "metadata": {
    "id": "1tybhfVXtlNN"
   },
   "source": [
    "## Step-5: Classification Algo"
   ]
  },
  {
   "cell_type": "code",
   "execution_count": null,
   "metadata": {
    "colab": {
     "base_uri": "https://localhost:8080/"
    },
    "id": "g3GHYno1te-w",
    "outputId": "8e0ed4ca-2795-4353-94d7-575613accb44"
   },
   "outputs": [],
   "source": [
    "%%time\n",
    "\n",
    "import numpy as np\n",
    "from sklearn.linear_model import LogisticRegression\n",
    "from sklearn.ensemble import RandomForestClassifier\n",
    "from sklearn.svm import LinearSVC\n",
    "from sklearn.ensemble import GradientBoostingClassifier\n",
    "\n",
    "#algo = LogisticRegression(max_iter=500)\n",
    "algo = RandomForestClassifier()\n",
    "#algo = LinearSVC(max_iter=5000)\n",
    "#algo = GradientBoostingClassifier()\n",
    "\n",
    "\n",
    "## TODO: fit (X_train, y_train)\n",
    "model = algo.fit(X_???, np.ravel(y_???))\n",
    "print (model)"
   ]
  },
  {
   "cell_type": "markdown",
   "metadata": {
    "id": "7BPibCyyuR26"
   },
   "source": [
    "## Step-6 : Evaluate"
   ]
  },
  {
   "cell_type": "code",
   "execution_count": null,
   "metadata": {
    "colab": {
     "base_uri": "https://localhost:8080/"
    },
    "id": "-YLUHLhyt8WB",
    "outputId": "dbf8c66c-c264-48be-e99e-1356dd537bd7"
   },
   "outputs": [],
   "source": [
    "## TODO : predict on X_test\n",
    "## hint : 'X_test'\n",
    "\n",
    "y_pred = model.predict (X_???)\n",
    "y_pred"
   ]
  },
  {
   "cell_type": "code",
   "execution_count": null,
   "metadata": {
    "colab": {
     "base_uri": "https://localhost:8080/",
     "height": 129
    },
    "id": "j0TG9t3XwZHj",
    "outputId": "9e7eea36-4366-4760-c110-f866e3cb9f91"
   },
   "outputs": [],
   "source": [
    "# values, counts = np.unique(y_pred, return_counts=True)\n",
    "# print (values, counts)\n",
    "# pd.DataFrame({'values' : values, 'counts' : counts})"
   ]
  },
  {
   "cell_type": "code",
   "execution_count": null,
   "metadata": {
    "colab": {
     "base_uri": "https://localhost:8080/"
    },
    "id": "7FfSXWq8ujEx",
    "outputId": "efbea49b-74f6-4116-ce5b-d47c9e2e5f38"
   },
   "outputs": [],
   "source": [
    "train_accuracy = model.score(X_train,y_train)\n",
    "print (\"Train accuracy: \", train_accuracy)"
   ]
  },
  {
   "cell_type": "code",
   "execution_count": null,
   "metadata": {
    "colab": {
     "base_uri": "https://localhost:8080/"
    },
    "id": "s5yI6PeTuoJx",
    "outputId": "db7fc3ff-b909-447b-82f6-2599ce1d636e"
   },
   "outputs": [],
   "source": [
    "## TODO : calculate accuracty for test set\n",
    "## Hint : model.score (X_test, y_test)\n",
    "\n",
    "test_accuracy = model.score(X_test, y_???)\n",
    "print (\"Test accuracy: \", test_accuracy)"
   ]
  },
  {
   "cell_type": "code",
   "execution_count": null,
   "metadata": {
    "colab": {
     "base_uri": "https://localhost:8080/",
     "height": 112
    },
    "id": "ivbRQVBkuysg",
    "outputId": "214a88ea-b73a-4166-a642-88d8bfc0e835"
   },
   "outputs": [],
   "source": [
    "from sklearn.metrics import confusion_matrix\n",
    "import numpy as np\n",
    "\n",
    "cm_labels = np.unique(y)\n",
    "cm_array = confusion_matrix(y_test, y_pred)\n",
    "#print (cm_array)\n",
    "\n",
    "cm_df = pd.DataFrame(cm_array, index=cm_labels, columns=cm_labels)\n",
    "cm_df"
   ]
  },
  {
   "cell_type": "code",
   "execution_count": null,
   "metadata": {
    "colab": {
     "base_uri": "https://localhost:8080/",
     "height": 347
    },
    "id": "pK1U05-gu3iQ",
    "outputId": "542cd597-c4e5-44a2-d3ed-08faaa97048f"
   },
   "outputs": [],
   "source": [
    "import matplotlib.pyplot as plt\n",
    "import seaborn as sns\n",
    "\n",
    "plt.figure(figsize = (8,5))\n",
    "\n",
    "# colormaps : cmap=\"YlGnBu\" , cmap=\"Greens\", cmap=\"Blues\",  cmap=\"Reds\"\n",
    "sns.heatmap(cm_df, annot=True, cmap=\"Reds\", fmt='d').plot()"
   ]
  }
 ],
 "metadata": {
  "colab": {
   "collapsed_sections": [],
   "name": "classification-1-credit-card-default.ipynb",
   "provenance": []
  },
  "kernelspec": {
   "display_name": "Python 3 (ipykernel)",
   "language": "python",
   "name": "python3"
  },
  "language_info": {
   "codemirror_mode": {
    "name": "ipython",
    "version": 3
   },
   "file_extension": ".py",
   "mimetype": "text/x-python",
   "name": "python",
   "nbconvert_exporter": "python",
   "pygments_lexer": "ipython3",
   "version": "3.8.13"
  }
 },
 "nbformat": 4,
 "nbformat_minor": 4
}
