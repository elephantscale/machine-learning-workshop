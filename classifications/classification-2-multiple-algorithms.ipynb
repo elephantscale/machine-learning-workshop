{
 "cells": [
  {
   "cell_type": "markdown",
   "id": "3358da48",
   "metadata": {},
   "source": [
    "# Run Multiple Classifiers"
   ]
  },
  {
   "cell_type": "code",
   "execution_count": 19,
   "id": "191dee53",
   "metadata": {},
   "outputs": [],
   "source": [
    "import numpy as np\n",
    "import pandas as pd\n",
    "import matplotlib.pyplot as plt\n",
    "import seaborn as sns\n",
    "\n",
    "pd.options.display.float_format = '{:,.2f}'.format"
   ]
  },
  {
   "cell_type": "code",
   "execution_count": 20,
   "id": "27c37071",
   "metadata": {},
   "outputs": [
    {
     "name": "stdout",
     "output_type": "stream",
     "text": [
      "data_location: default.csv\n"
     ]
    }
   ],
   "source": [
    "import os\n",
    "import urllib.request\n",
    "\n",
    "data_url = 'https://raw.githubusercontent.com/elephantscale/datasets/master/credit-card-default/default.csv'\n",
    "data_location = os.path.basename(data_url)\n",
    "\n",
    "if not os.path.exists (data_location):\n",
    "    print(\"Downloading : \", data_url)\n",
    "    urllib.request.urlretrieve(data_url, data_location)\n",
    "print('data_location:', data_location)"
   ]
  },
  {
   "cell_type": "code",
   "execution_count": 21,
   "id": "04ce9ba2",
   "metadata": {},
   "outputs": [
    {
     "data": {
      "text/html": [
       "<div>\n",
       "<style scoped>\n",
       "    .dataframe tbody tr th:only-of-type {\n",
       "        vertical-align: middle;\n",
       "    }\n",
       "\n",
       "    .dataframe tbody tr th {\n",
       "        vertical-align: top;\n",
       "    }\n",
       "\n",
       "    .dataframe thead th {\n",
       "        text-align: right;\n",
       "    }\n",
       "</style>\n",
       "<table border=\"1\" class=\"dataframe\">\n",
       "  <thead>\n",
       "    <tr style=\"text-align: right;\">\n",
       "      <th></th>\n",
       "      <th>ID</th>\n",
       "      <th>LIMIT_BAL</th>\n",
       "      <th>SEX</th>\n",
       "      <th>EDUCATION</th>\n",
       "      <th>MARRIAGE</th>\n",
       "      <th>AGE</th>\n",
       "      <th>PAY_0</th>\n",
       "      <th>PAY_2</th>\n",
       "      <th>PAY_3</th>\n",
       "      <th>PAY_4</th>\n",
       "      <th>...</th>\n",
       "      <th>BILL_AMT4</th>\n",
       "      <th>BILL_AMT5</th>\n",
       "      <th>BILL_AMT6</th>\n",
       "      <th>PAY_AMT1</th>\n",
       "      <th>PAY_AMT2</th>\n",
       "      <th>PAY_AMT3</th>\n",
       "      <th>PAY_AMT4</th>\n",
       "      <th>PAY_AMT5</th>\n",
       "      <th>PAY_AMT6</th>\n",
       "      <th>default</th>\n",
       "    </tr>\n",
       "  </thead>\n",
       "  <tbody>\n",
       "    <tr>\n",
       "      <th>8401</th>\n",
       "      <td>8402</td>\n",
       "      <td>20000</td>\n",
       "      <td>1</td>\n",
       "      <td>1</td>\n",
       "      <td>2</td>\n",
       "      <td>27</td>\n",
       "      <td>-1</td>\n",
       "      <td>-1</td>\n",
       "      <td>2</td>\n",
       "      <td>-1</td>\n",
       "      <td>...</td>\n",
       "      <td>780</td>\n",
       "      <td>390</td>\n",
       "      <td>1320</td>\n",
       "      <td>2200</td>\n",
       "      <td>0</td>\n",
       "      <td>780</td>\n",
       "      <td>0</td>\n",
       "      <td>1320</td>\n",
       "      <td>0</td>\n",
       "      <td>0</td>\n",
       "    </tr>\n",
       "    <tr>\n",
       "      <th>15135</th>\n",
       "      <td>15136</td>\n",
       "      <td>150000</td>\n",
       "      <td>1</td>\n",
       "      <td>1</td>\n",
       "      <td>2</td>\n",
       "      <td>53</td>\n",
       "      <td>0</td>\n",
       "      <td>0</td>\n",
       "      <td>0</td>\n",
       "      <td>0</td>\n",
       "      <td>...</td>\n",
       "      <td>0</td>\n",
       "      <td>0</td>\n",
       "      <td>0</td>\n",
       "      <td>5000</td>\n",
       "      <td>3000</td>\n",
       "      <td>0</td>\n",
       "      <td>0</td>\n",
       "      <td>0</td>\n",
       "      <td>0</td>\n",
       "      <td>0</td>\n",
       "    </tr>\n",
       "    <tr>\n",
       "      <th>4315</th>\n",
       "      <td>4316</td>\n",
       "      <td>20000</td>\n",
       "      <td>2</td>\n",
       "      <td>2</td>\n",
       "      <td>2</td>\n",
       "      <td>26</td>\n",
       "      <td>0</td>\n",
       "      <td>0</td>\n",
       "      <td>0</td>\n",
       "      <td>0</td>\n",
       "      <td>...</td>\n",
       "      <td>6584</td>\n",
       "      <td>3403</td>\n",
       "      <td>3748</td>\n",
       "      <td>2600</td>\n",
       "      <td>1500</td>\n",
       "      <td>1500</td>\n",
       "      <td>1000</td>\n",
       "      <td>402</td>\n",
       "      <td>0</td>\n",
       "      <td>0</td>\n",
       "    </tr>\n",
       "    <tr>\n",
       "      <th>20259</th>\n",
       "      <td>20260</td>\n",
       "      <td>80000</td>\n",
       "      <td>2</td>\n",
       "      <td>3</td>\n",
       "      <td>1</td>\n",
       "      <td>57</td>\n",
       "      <td>0</td>\n",
       "      <td>0</td>\n",
       "      <td>-2</td>\n",
       "      <td>-1</td>\n",
       "      <td>...</td>\n",
       "      <td>9618</td>\n",
       "      <td>10455</td>\n",
       "      <td>11131</td>\n",
       "      <td>0</td>\n",
       "      <td>0</td>\n",
       "      <td>9618</td>\n",
       "      <td>1000</td>\n",
       "      <td>1000</td>\n",
       "      <td>1000</td>\n",
       "      <td>0</td>\n",
       "    </tr>\n",
       "    <tr>\n",
       "      <th>20594</th>\n",
       "      <td>20595</td>\n",
       "      <td>50000</td>\n",
       "      <td>1</td>\n",
       "      <td>2</td>\n",
       "      <td>1</td>\n",
       "      <td>32</td>\n",
       "      <td>0</td>\n",
       "      <td>0</td>\n",
       "      <td>0</td>\n",
       "      <td>0</td>\n",
       "      <td>...</td>\n",
       "      <td>27836</td>\n",
       "      <td>40346</td>\n",
       "      <td>38668</td>\n",
       "      <td>27004</td>\n",
       "      <td>1613</td>\n",
       "      <td>1484</td>\n",
       "      <td>3675</td>\n",
       "      <td>698</td>\n",
       "      <td>1000</td>\n",
       "      <td>1</td>\n",
       "    </tr>\n",
       "  </tbody>\n",
       "</table>\n",
       "<p>5 rows × 25 columns</p>\n",
       "</div>"
      ],
      "text/plain": [
       "          ID  LIMIT_BAL  SEX  EDUCATION  MARRIAGE  AGE  PAY_0  PAY_2  PAY_3  \\\n",
       "8401    8402      20000    1          1         2   27     -1     -1      2   \n",
       "15135  15136     150000    1          1         2   53      0      0      0   \n",
       "4315    4316      20000    2          2         2   26      0      0      0   \n",
       "20259  20260      80000    2          3         1   57      0      0     -2   \n",
       "20594  20595      50000    1          2         1   32      0      0      0   \n",
       "\n",
       "       PAY_4  ...  BILL_AMT4  BILL_AMT5  BILL_AMT6  PAY_AMT1  PAY_AMT2  \\\n",
       "8401      -1  ...        780        390       1320      2200         0   \n",
       "15135      0  ...          0          0          0      5000      3000   \n",
       "4315       0  ...       6584       3403       3748      2600      1500   \n",
       "20259     -1  ...       9618      10455      11131         0         0   \n",
       "20594      0  ...      27836      40346      38668     27004      1613   \n",
       "\n",
       "       PAY_AMT3  PAY_AMT4  PAY_AMT5  PAY_AMT6  default  \n",
       "8401        780         0      1320         0        0  \n",
       "15135         0         0         0         0        0  \n",
       "4315       1500      1000       402         0        0  \n",
       "20259      9618      1000      1000      1000        0  \n",
       "20594      1484      3675       698      1000        1  \n",
       "\n",
       "[5 rows x 25 columns]"
      ]
     },
     "execution_count": 21,
     "metadata": {},
     "output_type": "execute_result"
    }
   ],
   "source": [
    "data = pd.read_csv(data_location)\n",
    "data.sample(5)"
   ]
  },
  {
   "cell_type": "code",
   "execution_count": 22,
   "id": "99eee37f",
   "metadata": {},
   "outputs": [],
   "source": [
    "label_col = 'default'\n",
    "\n",
    "feature_columns = data.columns\n",
    "feature_columns = feature_columns.drop (['ID', 'default'])\n",
    "#print (feature_columns)"
   ]
  },
  {
   "cell_type": "code",
   "execution_count": 23,
   "id": "bd952347",
   "metadata": {},
   "outputs": [
    {
     "name": "stdout",
     "output_type": "stream",
     "text": [
      "(30000, 23)\n",
      "(30000, 1)\n"
     ]
    }
   ],
   "source": [
    "\n",
    "X = data[feature_columns]\n",
    "y = data[[label_col]]\n",
    "\n",
    "print (X.shape)\n",
    "print (y.shape)"
   ]
  },
  {
   "cell_type": "code",
   "execution_count": 24,
   "id": "81460f38",
   "metadata": {},
   "outputs": [
    {
     "name": "stdout",
     "output_type": "stream",
     "text": [
      "x_train : (24000, 23)\n",
      "x_test : (6000, 23)\n",
      "y_train : (24000, 1)\n",
      "y_test : (6000, 1)\n"
     ]
    }
   ],
   "source": [
    "from sklearn.model_selection import train_test_split\n",
    "\n",
    "## TODO : split data into train / test, with 20% for test\n",
    "## hint : 20% is 0.2\n",
    "\n",
    "X_train,X_test,y_train, y_test = train_test_split(X,y,  test_size=0.2, random_state=123)\n",
    "\n",
    "\n",
    "print (\"x_train :\" , X_train.shape )\n",
    "print (\"x_test :\", X_test.shape)\n",
    "print (\"y_train :\", y_train.shape)\n",
    "print (\"y_test :\", y_test.shape)"
   ]
  },
  {
   "cell_type": "markdown",
   "id": "335f9931",
   "metadata": {},
   "source": [
    "## Setup Algorithms"
   ]
  },
  {
   "cell_type": "code",
   "execution_count": 25,
   "id": "369dc599",
   "metadata": {},
   "outputs": [],
   "source": [
    "from sklearn.linear_model import LogisticRegression\n",
    "from sklearn.ensemble import RandomForestClassifier\n",
    "from sklearn.svm import LinearSVC\n",
    "from sklearn.ensemble import GradientBoostingClassifier\n",
    "from sklearn.neighbors import KNeighborsClassifier\n",
    "from sklearn.linear_model import SGDClassifier\n",
    "from sklearn.tree import DecisionTreeClassifier\n",
    "\n",
    "algorithms = [\n",
    "    LogisticRegression(max_iter=500),\n",
    "    RandomForestClassifier(),\n",
    "    LinearSVC(),\n",
    "    GradientBoostingClassifier(),\n",
    "    KNeighborsClassifier(n_neighbors=5),\n",
    "    SGDClassifier(),\n",
    "    DecisionTreeClassifier()\n",
    "]"
   ]
  },
  {
   "cell_type": "markdown",
   "id": "a5cf58d7",
   "metadata": {},
   "source": [
    "## Run Algorithms and print stats"
   ]
  },
  {
   "cell_type": "code",
   "execution_count": 26,
   "id": "dc0937da",
   "metadata": {},
   "outputs": [
    {
     "name": "stdout",
     "output_type": "stream",
     "text": [
      "\n",
      "============== Running LogisticRegression(max_iter=500) ======\n",
      "Training time : 0.2 secs (182.2 ms)\n",
      "Prediction time : 0.0 secs (0.9 ms)\n",
      "Training score :  0.77775\n",
      "Testing score :  0.7825\n",
      "Confusion matrix : \n",
      "      0  1\n",
      "0  4695  1\n",
      "1  1304  0\n"
     ]
    },
    {
     "data": {
      "image/png": "[encoded data removed]",
      "text/plain": [
       "<Figure size 432x288 with 2 Axes>"
      ]
     },
     "metadata": {
      "needs_background": "light"
     },
     "output_type": "display_data"
    },
    {
     "name": "stdout",
     "output_type": "stream",
     "text": [
      "\n",
      "============== Running RandomForestClassifier() ======\n",
      "Training time : 3.7 secs (3,654.2 ms)\n",
      "Prediction time : 0.1 secs (83.8 ms)\n",
      "Training score :  0.9993333333333333\n",
      "Testing score :  0.8161666666666667\n",
      "Confusion matrix : \n",
      "      0    1\n",
      "0  4404  292\n",
      "1   811  493\n"
     ]
    },
    {
     "data": {
      "image/png": "[encoded data removed]",
      "text/plain": [
       "<Figure size 432x288 with 2 Axes>"
      ]
     },
     "metadata": {
      "needs_background": "light"
     },
     "output_type": "display_data"
    },
    {
     "name": "stdout",
     "output_type": "stream",
     "text": [
      "\n",
      "============== Running LinearSVC() ======\n",
      "Training time : 1.7 secs (1,669.8 ms)\n",
      "Prediction time : 0.0 secs (1.1 ms)\n",
      "Training score :  0.5965\n",
      "Testing score :  0.5945\n",
      "Confusion matrix : \n",
      "      0     1\n",
      "0  3176  1520\n",
      "1   913   391\n"
     ]
    },
    {
     "name": "stderr",
     "output_type": "stream",
     "text": [
      "/home/sujee/anaconda3/envs/pyspark/lib/python3.8/site-packages/sklearn/svm/_base.py:1206: ConvergenceWarning: Liblinear failed to converge, increase the number of iterations.\n",
      "  warnings.warn(\n"
     ]
    },
    {
     "data": {
      "image/png": "[encoded data removed]",
      "text/plain": [
       "<Figure size 432x288 with 2 Axes>"
      ]
     },
     "metadata": {
      "needs_background": "light"
     },
     "output_type": "display_data"
    },
    {
     "name": "stdout",
     "output_type": "stream",
     "text": [
      "\n",
      "============== Running GradientBoostingClassifier() ======\n",
      "Training time : 5.3 secs (5,276.2 ms)\n",
      "Prediction time : 0.0 secs (6.0 ms)\n",
      "Training score :  0.8256666666666667\n",
      "Testing score :  0.8228333333333333\n",
      "Confusion matrix : \n",
      "      0    1\n",
      "0  4440  256\n",
      "1   807  497\n"
     ]
    },
    {
     "data": {
      "image/png": "[encoded data removed]",
      "text/plain": [
       "<Figure size 432x288 with 2 Axes>"
      ]
     },
     "metadata": {
      "needs_background": "light"
     },
     "output_type": "display_data"
    },
    {
     "name": "stdout",
     "output_type": "stream",
     "text": [
      "\n",
      "============== Running KNeighborsClassifier() ======\n",
      "Training time : 0.0 secs (1.7 ms)\n",
      "Prediction time : 2.1 secs (2,128.2 ms)\n",
      "Training score :  0.8161666666666667\n",
      "Testing score :  0.759\n",
      "Confusion matrix : \n",
      "      0    1\n",
      "0  4326  370\n",
      "1  1076  228\n"
     ]
    },
    {
     "data": {
      "image/png": "[encoded data removed]",
      "text/plain": [
       "<Figure size 432x288 with 2 Axes>"
      ]
     },
     "metadata": {
      "needs_background": "light"
     },
     "output_type": "display_data"
    },
    {
     "name": "stdout",
     "output_type": "stream",
     "text": [
      "\n",
      "============== Running SGDClassifier() ======\n",
      "Training time : 0.2 secs (181.4 ms)\n",
      "Prediction time : 0.0 secs (1.1 ms)\n",
      "Training score :  0.389\n",
      "Testing score :  0.394\n",
      "Confusion matrix : \n",
      "      0     1\n",
      "0  1678  3018\n",
      "1   618   686\n"
     ]
    },
    {
     "data": {
      "image/png": "[encoded data removed]",
      "text/plain": [
       "<Figure size 432x288 with 2 Axes>"
      ]
     },
     "metadata": {
      "needs_background": "light"
     },
     "output_type": "display_data"
    },
    {
     "name": "stdout",
     "output_type": "stream",
     "text": [
      "\n",
      "============== Running DecisionTreeClassifier() ======\n",
      "Training time : 0.3 secs (325.6 ms)\n",
      "Prediction time : 0.0 secs (1.7 ms)\n",
      "Training score :  0.9993333333333333\n",
      "Testing score :  0.7205\n",
      "Confusion matrix : \n",
      "      0    1\n",
      "0  3767  929\n",
      "1   748  556\n"
     ]
    },
    {
     "data": {
      "image/png": "[encoded data removed]",
      "text/plain": [
       "<Figure size 432x288 with 2 Axes>"
      ]
     },
     "metadata": {
      "needs_background": "light"
     },
     "output_type": "display_data"
    }
   ],
   "source": [
    "import time\n",
    "import numpy as np\n",
    "import pandas as pd\n",
    "from sklearn.metrics import confusion_matrix\n",
    "import matplotlib.pyplot as plt\n",
    "import seaborn as sns\n",
    "\n",
    "cm_labels = np.unique(y)\n",
    "    \n",
    "for algo in algorithms:\n",
    "    print ()\n",
    "    print (\"============== Running {} ======\".format(algo))\n",
    "    t1 = time.perf_counter()\n",
    "    model = algo.fit (X_train, np.ravel(y_train))\n",
    "    t2 = time.perf_counter()\n",
    "    y_pred = model.predict(X_test)\n",
    "    t3 = time.perf_counter()\n",
    "    \n",
    "    cm_array = confusion_matrix(y_test, y_pred)\n",
    "    cm_df = pd.DataFrame(cm_array, index=cm_labels, columns=cm_labels)\n",
    "    \n",
    "    print (\"Training time : {:,.1f} secs ({:,.1f} ms)\".format ( (t2-t1), (t2-t1)*1e3))\n",
    "    print (\"Prediction time : {:,.1f} secs ({:,.1f} ms)\".format ( (t3-t2), (t3-t2)*1e3))\n",
    "    print (\"Training score : \", model.score(X_train, y_train))\n",
    "    print (\"Testing score : \", model.score(X_test, y_test))\n",
    "    print (\"Confusion matrix : \")\n",
    "    print (cm_df)\n",
    "    \n",
    "    plt.figure(figsize = (6,4))\n",
    "    # colormaps : cmap=\"YlGnBu\" , cmap=\"Greens\", cmap=\"Blues\",  cmap=\"Reds\"\n",
    "    sns.heatmap(cm_df, annot=True, cmap=\"Reds\", fmt='d').plot()\n",
    "    plt.show()\n",
    "    \n",
    "    \n"
   ]
  },
  {
   "cell_type": "code",
   "execution_count": null,
   "id": "33502496",
   "metadata": {},
   "outputs": [],
   "source": []
  }
 ],
 "metadata": {
  "kernelspec": {
   "display_name": "Python 3 (ipykernel)",
   "language": "python",
   "name": "python3"
  },
  "language_info": {
   "codemirror_mode": {
    "name": "ipython",
    "version": 3
   },
   "file_extension": ".py",
   "mimetype": "text/x-python",
   "name": "python",
   "nbconvert_exporter": "python",
   "pygments_lexer": "ipython3",
   "version": "3.8.13"
  }
 },
 "nbformat": 4,
 "nbformat_minor": 5
}
