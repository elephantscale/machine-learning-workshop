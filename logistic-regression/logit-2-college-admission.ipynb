{
 "cells": [
  {
   "cell_type": "markdown",
   "id": "f85c76db",
   "metadata": {},
   "source": [
    "# Logistic Regression With College Admision data"
   ]
  },
  {
   "cell_type": "code",
   "execution_count": null,
   "id": "36235b0f",
   "metadata": {},
   "outputs": [],
   "source": [
    "import numpy as np\n",
    "import pandas as pd\n",
    "import matplotlib.pyplot as plt"
   ]
  },
  {
   "cell_type": "markdown",
   "id": "a163545d",
   "metadata": {},
   "source": [
    "## Load Data"
   ]
  },
  {
   "cell_type": "code",
   "execution_count": null,
   "id": "b9afae7e",
   "metadata": {},
   "outputs": [],
   "source": [
    "import os\n",
    "import urllib.request\n",
    "\n",
    "data_location = \"admission-data.csv\"\n",
    "data_url = 'https://raw.githubusercontent.com/elephantscale/datasets/master/college-admissions/admission-data.csv'\n",
    "\n",
    "if not os.path.exists (data_location):\n",
    "    data_location = os.path.basename(data_location)\n",
    "    if not os.path.exists(data_location):\n",
    "        print(\"Downloading : \", data_url)\n",
    "        urllib.request.urlretrieve(data_url, data_location)\n",
    "print('data_location:', data_location)"
   ]
  },
  {
   "cell_type": "code",
   "execution_count": null,
   "id": "fb512348",
   "metadata": {},
   "outputs": [],
   "source": [
    "import pandas as pd\n",
    "pd.options.display.float_format = '{:,.2f}'.format\n",
    "\n",
    "data = pd.read_csv(data_location)\n",
    "data.sample(10)"
   ]
  },
  {
   "cell_type": "markdown",
   "id": "f96ca221",
   "metadata": {},
   "source": [
    "## Exploratory Data Analysis (EDA)"
   ]
  },
  {
   "cell_type": "code",
   "execution_count": null,
   "id": "b457dd46",
   "metadata": {},
   "outputs": [],
   "source": [
    "## TODO : 'describe' the dataset\n",
    "data.???()"
   ]
  },
  {
   "cell_type": "code",
   "execution_count": null,
   "id": "a41b5caa",
   "metadata": {},
   "outputs": [],
   "source": [
    "# TODO : how are our labels distributed\n",
    "## Hint : 'value_counts'\n",
    "\n",
    "data['admit'].???()"
   ]
  },
  {
   "cell_type": "code",
   "execution_count": null,
   "id": "91d0fb04",
   "metadata": {},
   "outputs": [],
   "source": [
    "data['admit'].value_counts(normalize=True)"
   ]
  },
  {
   "cell_type": "markdown",
   "id": "d71d7853",
   "metadata": {},
   "source": [
    "## Shape Data"
   ]
  },
  {
   "cell_type": "code",
   "execution_count": null,
   "id": "9351ba46",
   "metadata": {},
   "outputs": [],
   "source": [
    "## extract x and y\n",
    "## Hint : input columns : gre, gpa, rank\n",
    "#  hint: y colunm is : 'admit'\n",
    "\n",
    "x = data[['?', '?', '?']]\n",
    "y = data['?']\n",
    "\n",
    "print (x)\n",
    "print (y)"
   ]
  },
  {
   "cell_type": "code",
   "execution_count": null,
   "id": "207deb8c",
   "metadata": {},
   "outputs": [],
   "source": [
    "## Todo : print the 'shape' of X and y\n",
    "## hint : shape\n",
    "print ('x : ', x.???)\n",
    "print ('y : ', y.???)"
   ]
  },
  {
   "cell_type": "markdown",
   "id": "35d75243",
   "metadata": {},
   "source": [
    "## Split train/test"
   ]
  },
  {
   "cell_type": "code",
   "execution_count": null,
   "id": "88266c43",
   "metadata": {},
   "outputs": [],
   "source": [
    "from sklearn.model_selection import train_test_split\n",
    "\n",
    "## TODO : split data into train / test, with 20% for test\n",
    "## hint : 20% is 0.2\n",
    "\n",
    "x_train,x_test,y_train, y_test = train_test_split(x,y,  test_size=???, random_state=123)\n",
    "\n",
    "\n",
    "print (\"x_train :\" , x_train.shape )\n",
    "print (\"x_test :\", x_test.shape)\n",
    "print (\"y_train :\", y_train.shape)\n",
    "print (\"y_test :\", y_test.shape)"
   ]
  },
  {
   "cell_type": "markdown",
   "id": "86413f5e",
   "metadata": {},
   "source": [
    "## Logistic Regression"
   ]
  },
  {
   "cell_type": "code",
   "execution_count": null,
   "id": "1efbac43",
   "metadata": {},
   "outputs": [],
   "source": [
    "from sklearn.linear_model import LogisticRegression\n",
    "\n",
    "lr = LogisticRegression()\n",
    "\n",
    "# TODO : Fit the model\n",
    "## Hint : first param : x_train,  \n",
    "##        second_param : y_train\n",
    "\n",
    "model = lr.fit(x_???, y_???)\n"
   ]
  },
  {
   "cell_type": "code",
   "execution_count": null,
   "id": "b5d3e434",
   "metadata": {},
   "outputs": [],
   "source": [
    "print('coef : ', model.coef_)\n",
    "print('intercept' , model.intercept_)"
   ]
  },
  {
   "cell_type": "markdown",
   "id": "b225069a",
   "metadata": {},
   "source": [
    "## Model Evaluation"
   ]
  },
  {
   "cell_type": "code",
   "execution_count": null,
   "id": "0919971d",
   "metadata": {},
   "outputs": [],
   "source": [
    "## TODO : predict on x_test\n",
    "## hint : 'x_test'\n",
    "\n",
    "y_pred = model.predict (x_???)\n",
    "y_pred"
   ]
  },
  {
   "cell_type": "code",
   "execution_count": null,
   "id": "b7803869",
   "metadata": {},
   "outputs": [],
   "source": [
    "train_accuracy = model.score(x_train,y_train)\n",
    "print (\"Train accuracy: \", train_accuracy)"
   ]
  },
  {
   "cell_type": "code",
   "execution_count": null,
   "id": "42d39b94",
   "metadata": {},
   "outputs": [],
   "source": [
    "## TODO : calculate test_accuracy\n",
    "## Hint : x_test,  y_test\n",
    "\n",
    "test_accuracy = model.score(x_???, y_???)\n",
    "\n",
    "print (\"Test accuracy: \", test_accuracy)"
   ]
  },
  {
   "cell_type": "code",
   "execution_count": null,
   "id": "aa4249fc",
   "metadata": {},
   "outputs": [],
   "source": [
    "from sklearn.metrics import confusion_matrix\n",
    "import numpy as np\n",
    "\n",
    "cm_labels = np.unique(y)\n",
    "cm_array = confusion_matrix(y_test, y_pred)\n",
    "# print (cm_array)\n",
    "\n",
    "cm_df = pd.DataFrame(cm_array, index=cm_labels, columns=cm_labels)\n",
    "cm_df"
   ]
  },
  {
   "cell_type": "code",
   "execution_count": null,
   "id": "41f33239",
   "metadata": {},
   "outputs": [],
   "source": [
    "import matplotlib.pyplot as plt\n",
    "import seaborn as sns\n",
    "\n",
    "plt.figure(figsize = (8,5))\n",
    "\n",
    "# colormaps : cmap=\"YlGnBu\" , cmap=\"Greens\", cmap=\"Blues\",  cmap=\"Reds\"\n",
    "sns.heatmap(cm_df, annot=True, cmap=\"Reds\", fmt='d').plot()"
   ]
  },
  {
   "cell_type": "code",
   "execution_count": null,
   "id": "00735e2b",
   "metadata": {},
   "outputs": [],
   "source": []
  }
 ],
 "metadata": {
  "kernelspec": {
   "display_name": "Python 3 (ipykernel)",
   "language": "python",
   "name": "python3"
  },
  "language_info": {
   "codemirror_mode": {
    "name": "ipython",
    "version": 3
   },
   "file_extension": ".py",
   "mimetype": "text/x-python",
   "name": "python",
   "nbconvert_exporter": "python",
   "pygments_lexer": "ipython3",
   "version": "3.8.13"
  }
 },
 "nbformat": 4,
 "nbformat_minor": 5
}
