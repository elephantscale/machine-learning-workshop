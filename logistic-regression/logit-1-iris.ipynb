{
 "cells": [
  {
   "cell_type": "markdown",
   "id": "unlike-supplier",
   "metadata": {},
   "source": [
    "# Logistic Regression With IRIS data"
   ]
  },
  {
   "cell_type": "code",
   "execution_count": null,
   "id": "assumed-france",
   "metadata": {},
   "outputs": [],
   "source": [
    "import numpy as np\n",
    "import pandas as pd\n",
    "import matplotlib.pyplot as plt"
   ]
  },
  {
   "cell_type": "markdown",
   "id": "closing-consortium",
   "metadata": {},
   "source": [
    "## Load Data"
   ]
  },
  {
   "cell_type": "code",
   "execution_count": null,
   "id": "developmental-directive",
   "metadata": {},
   "outputs": [],
   "source": [
    "import os\n",
    "import urllib.request\n",
    "\n",
    "data_location = \"iris.csv\"\n",
    "data_url = 'https://elephantscale-public.s3.amazonaws.com/data/iris/iris_combined.csv'\n",
    "\n",
    "if not os.path.exists (data_location):\n",
    "    data_location = os.path.basename(data_location)\n",
    "    if not os.path.exists(data_location):\n",
    "        print(\"Downloading : \", data_url)\n",
    "        urllib.request.urlretrieve(data_url, data_location)\n",
    "print('data_location:', data_location)"
   ]
  },
  {
   "cell_type": "code",
   "execution_count": null,
   "id": "entitled-breathing",
   "metadata": {},
   "outputs": [],
   "source": [
    "import pandas as pd\n",
    "pd.options.display.float_format = '{:,.2f}'.format\n",
    "\n",
    "iris = pd.read_csv(data_location)\n",
    "iris.sample(10)"
   ]
  },
  {
   "cell_type": "markdown",
   "id": "material-strap",
   "metadata": {},
   "source": [
    "## Exploratory Data Analysis (EDA)"
   ]
  },
  {
   "cell_type": "code",
   "execution_count": null,
   "id": "animal-springer",
   "metadata": {},
   "outputs": [],
   "source": [
    "## TODO : 'describe' the dataset\n",
    "iris.???()"
   ]
  },
  {
   "cell_type": "code",
   "execution_count": null,
   "id": "color-paste",
   "metadata": {},
   "outputs": [],
   "source": [
    "# TODO : how are our labels distributed\n",
    "## Hint : 'value_counts'\n",
    "\n",
    "iris['label'].???()"
   ]
  },
  {
   "cell_type": "code",
   "execution_count": null,
   "id": "yellow-treaty",
   "metadata": {},
   "outputs": [],
   "source": [
    "iris['label'].value_counts(normalize=True)"
   ]
  },
  {
   "cell_type": "markdown",
   "id": "floral-comparative",
   "metadata": {},
   "source": [
    "## Shape Data"
   ]
  },
  {
   "cell_type": "code",
   "execution_count": null,
   "id": "fuzzy-separate",
   "metadata": {},
   "outputs": [],
   "source": [
    "## extract x and y\n",
    "## Hint : input columns : c1, c2, c3, c4\n",
    "#  hint: y colunm is : 'label'\n",
    "\n",
    "x = iris[['c1', '?', '?', '?']]\n",
    "y = iris['?']\n",
    "\n",
    "print (x)\n",
    "print (y)"
   ]
  },
  {
   "cell_type": "code",
   "execution_count": null,
   "id": "processed-asthma",
   "metadata": {},
   "outputs": [],
   "source": [
    "## Todo : print the 'shape' of X and y\n",
    "## hint : shape\n",
    "print ('x : ', x.???)\n",
    "print ('y : ', y.???)"
   ]
  },
  {
   "cell_type": "markdown",
   "id": "deluxe-remains",
   "metadata": {},
   "source": [
    "## Split train/test"
   ]
  },
  {
   "cell_type": "code",
   "execution_count": null,
   "id": "handled-migration",
   "metadata": {},
   "outputs": [],
   "source": [
    "from sklearn.model_selection import train_test_split\n",
    "\n",
    "## TODO : split data into train / test, with 20% for test\n",
    "## hint : 20% is 0.2\n",
    "\n",
    "x_train,x_test,y_train, y_test = train_test_split(x,y,  test_size=???)\n",
    "\n",
    "\n",
    "print (\"x_train :\" , x_train.shape )\n",
    "print (\"x_test :\", x_test.shape)\n",
    "print (\"y_train :\", y_train.shape)\n",
    "print (\"y_test :\", y_test.shape)"
   ]
  },
  {
   "cell_type": "markdown",
   "id": "working-wagon",
   "metadata": {},
   "source": [
    "## Logistic Regression"
   ]
  },
  {
   "cell_type": "code",
   "execution_count": null,
   "id": "hired-mitchell",
   "metadata": {},
   "outputs": [],
   "source": [
    "from sklearn.linear_model import LogisticRegression\n",
    "\n",
    "lr = LogisticRegression(C=1e5)\n",
    "\n",
    "# TODO : Fit the model\n",
    "## Hint : first param : x_train,  \n",
    "##        second_param : y_train\n",
    "\n",
    "model = lr.fit(???, ???)\n"
   ]
  },
  {
   "cell_type": "code",
   "execution_count": null,
   "id": "copyrighted-foundation",
   "metadata": {},
   "outputs": [],
   "source": [
    "print('coef : ', model.coef_)\n",
    "print('intercept' , model.intercept_)"
   ]
  },
  {
   "cell_type": "markdown",
   "id": "helpful-python",
   "metadata": {},
   "source": [
    "## Model Evaluation"
   ]
  },
  {
   "cell_type": "code",
   "execution_count": null,
   "id": "excess-trinity",
   "metadata": {},
   "outputs": [],
   "source": [
    "## TODO : predict on x_test\n",
    "## hint : 'x_test'\n",
    "\n",
    "y_pred = model.predict (x_???)\n",
    "y_pred"
   ]
  },
  {
   "cell_type": "code",
   "execution_count": null,
   "id": "enhanced-yellow",
   "metadata": {},
   "outputs": [],
   "source": [
    "train_accuracy = model.score(x_train,y_train)\n",
    "print (\"Train accuracy: \", train_accuracy)"
   ]
  },
  {
   "cell_type": "code",
   "execution_count": null,
   "id": "extensive-science",
   "metadata": {},
   "outputs": [],
   "source": [
    "## TODO : calculate test_accuracy\n",
    "## Hint : x_test,  y_test\n",
    "\n",
    "test_accuracy = model.score(???, ???)\n",
    "\n",
    "print (\"Test accuracy: \", test_accuracy)"
   ]
  },
  {
   "cell_type": "code",
   "execution_count": null,
   "id": "turned-bryan",
   "metadata": {},
   "outputs": [],
   "source": [
    "from sklearn.metrics import confusion_matrix\n",
    "\n",
    "cm = confusion_matrix(y_test, y_pred)\n",
    "cm"
   ]
  },
  {
   "cell_type": "code",
   "execution_count": null,
   "id": "initial-draft",
   "metadata": {},
   "outputs": [],
   "source": [
    "import matplotlib.pyplot as plt\n",
    "import seaborn as sns\n",
    "\n",
    "plt.figure(figsize = (8,5))\n",
    "\n",
    "# colormaps : cmap=\"YlGnBu\" , cmap=\"Greens\", cmap=\"Blues\",  cmap=\"Reds\"\n",
    "sns.heatmap(cm, annot=True, cmap=\"Reds\", fmt='d').plot()"
   ]
  },
  {
   "cell_type": "code",
   "execution_count": null,
   "id": "third-execution",
   "metadata": {},
   "outputs": [],
   "source": []
  }
 ],
 "metadata": {
  "kernelspec": {
   "display_name": "Python 3",
   "language": "python",
   "name": "python3"
  },
  "language_info": {
   "codemirror_mode": {
    "name": "ipython",
    "version": 3
   },
   "file_extension": ".py",
   "mimetype": "text/x-python",
   "name": "python",
   "nbconvert_exporter": "python",
   "pygments_lexer": "ipython3",
   "version": "3.8.8"
  }
 },
 "nbformat": 4,
 "nbformat_minor": 5
}
